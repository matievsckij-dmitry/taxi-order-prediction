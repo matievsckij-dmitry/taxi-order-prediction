{
 "cells": [
  {
   "cell_type": "markdown",
   "metadata": {},
   "source": [
    "#  Прогнозирование заказов такси"
   ]
  },
  {
   "cell_type": "markdown",
   "metadata": {
    "toc": true
   },
   "source": [
    "<h1>Содержание<span class=\"tocSkip\"></span></h1>\n",
    "<div class=\"toc\"><ul class=\"toc-item\"><li><span><a href=\"#Загрузка-и-подготовка-данных\" data-toc-modified-id=\"Загрузка-и-подготовка-данных-1\"><span class=\"toc-item-num\">1&nbsp;&nbsp;</span>Загрузка и подготовка данных</a></span></li><li><span><a href=\"#Анализ\" data-toc-modified-id=\"Анализ-2\"><span class=\"toc-item-num\">2&nbsp;&nbsp;</span>Анализ</a></span></li><li><span><a href=\"#Обучение\" data-toc-modified-id=\"Обучение-3\"><span class=\"toc-item-num\">3&nbsp;&nbsp;</span>Обучение</a></span><ul class=\"toc-item\"><li><span><a href=\"#Подготовка-признаков\" data-toc-modified-id=\"Подготовка-признаков-3.1\"><span class=\"toc-item-num\">3.1&nbsp;&nbsp;</span>Подготовка признаков</a></span></li><li><span><a href=\"#Обучение-моделей\" data-toc-modified-id=\"Обучение-моделей-3.2\"><span class=\"toc-item-num\">3.2&nbsp;&nbsp;</span>Обучение моделей</a></span></li></ul></li><li><span><a href=\"#Тестирование\" data-toc-modified-id=\"Тестирование-4\"><span class=\"toc-item-num\">4&nbsp;&nbsp;</span>Тестирование</a></span></li></ul></div>"
   ]
  },
  {
   "cell_type": "markdown",
   "metadata": {},
   "source": [
    "**Описание**"
   ]
  },
  {
   "cell_type": "markdown",
   "metadata": {},
   "source": [
    "Цель проекта:\n",
    "\n",
    "Основная цель проекта - разработать модель машинного обучения, способную прогнозировать количество заказов такси на следующий час, основываясь на исторических данных. Это поможет компании \"Чётенькое такси\" более эффективно управлять ресурсами, в частности, привлекать больше водителей в периоды пиковой нагрузки. Ключевой показатель успеха проекта - достижение значения метрики RMSE (Root Mean Squared Error) не более 48 на тестовой выборке.\n",
    "\n",
    "Описание задачи:\n",
    "\n",
    "1.  Анализ временных рядов: Данные о заказах такси представляют собой временной ряд, поскольку они упорядочены во времени. Необходимо проанализировать структуру этого ряда, выявить тренды, сезонность и другие закономерности, которые могут повлиять на прогнозы.\n",
    "\n",
    "2.  Прогнозирование: На основе анализа данных нужно построить модель, которая сможет предсказывать количество заказов такси на следующий час. Это задача прогнозирования временных рядов."
   ]
  },
  {
   "cell_type": "markdown",
   "metadata": {},
   "source": [
    "**Библиотеки и константы**"
   ]
  },
  {
   "cell_type": "code",
   "execution_count": 1,
   "metadata": {},
   "outputs": [],
   "source": [
    "import numpy as np\n",
    "import pandas as pd\n",
    "import matplotlib.pyplot as plt\n",
    "import matplotlib as mpl\n",
    "import seaborn as sns\n",
    "import sklearn\n",
    "import catboost\n",
    "import lightgbm as lgb\n",
    "import time\n",
    "import os\n",
    "\n",
    "from statsmodels.tsa.seasonal import seasonal_decompose\n",
    "from sklearn.model_selection import TimeSeriesSplit\n",
    "from sklearn.model_selection import train_test_split, RandomizedSearchCV\n",
    "from sklearn.metrics import mean_squared_error\n",
    "from sklearn.ensemble import RandomForestRegressor\n",
    "from lightgbm import LGBMRegressor\n",
    "from sklearn.tree import DecisionTreeRegressor\n",
    "\n",
    "import warnings\n",
    "warnings.filterwarnings(\"ignore\")"
   ]
  },
  {
   "cell_type": "code",
   "execution_count": 2,
   "metadata": {},
   "outputs": [],
   "source": [
    "RANDOM_STATE = 42"
   ]
  },
  {
   "cell_type": "markdown",
   "metadata": {},
   "source": [
    "## Загрузка и подготовка данных"
   ]
  },
  {
   "cell_type": "code",
   "execution_count": 3,
   "metadata": {},
   "outputs": [],
   "source": [
    "pth1 = 'taxi.csv'\n",
    "pth2 = '/datasets/taxi.csv'\n",
    "\n",
    "if os.path.exists(pth1):\n",
    "    df = pd.read_csv(pth1, index_col=[0], parse_dates=[0])\n",
    "elif os.path.exists(pth2):\n",
    "    df = pd.read_csv(pth2, index_col=[0], parse_dates=[0])\n",
    "else:\n",
    "    print('Something is wrong')\n",
    "    \n",
    "df.sort_index(inplace=True)"
   ]
  },
  {
   "cell_type": "code",
   "execution_count": 4,
   "metadata": {},
   "outputs": [
    {
     "data": {
      "text/html": [
       "<div>\n",
       "<style scoped>\n",
       "    .dataframe tbody tr th:only-of-type {\n",
       "        vertical-align: middle;\n",
       "    }\n",
       "\n",
       "    .dataframe tbody tr th {\n",
       "        vertical-align: top;\n",
       "    }\n",
       "\n",
       "    .dataframe thead th {\n",
       "        text-align: right;\n",
       "    }\n",
       "</style>\n",
       "<table border=\"1\" class=\"dataframe\">\n",
       "  <thead>\n",
       "    <tr style=\"text-align: right;\">\n",
       "      <th></th>\n",
       "      <th>num_orders</th>\n",
       "    </tr>\n",
       "    <tr>\n",
       "      <th>datetime</th>\n",
       "      <th></th>\n",
       "    </tr>\n",
       "  </thead>\n",
       "  <tbody>\n",
       "    <tr>\n",
       "      <th>2018-03-01 00:00:00</th>\n",
       "      <td>9</td>\n",
       "    </tr>\n",
       "    <tr>\n",
       "      <th>2018-03-01 00:10:00</th>\n",
       "      <td>14</td>\n",
       "    </tr>\n",
       "    <tr>\n",
       "      <th>2018-03-01 00:20:00</th>\n",
       "      <td>28</td>\n",
       "    </tr>\n",
       "    <tr>\n",
       "      <th>2018-03-01 00:30:00</th>\n",
       "      <td>20</td>\n",
       "    </tr>\n",
       "    <tr>\n",
       "      <th>2018-03-01 00:40:00</th>\n",
       "      <td>32</td>\n",
       "    </tr>\n",
       "  </tbody>\n",
       "</table>\n",
       "</div>"
      ],
      "text/plain": [
       "                     num_orders\n",
       "datetime                       \n",
       "2018-03-01 00:00:00           9\n",
       "2018-03-01 00:10:00          14\n",
       "2018-03-01 00:20:00          28\n",
       "2018-03-01 00:30:00          20\n",
       "2018-03-01 00:40:00          32"
      ]
     },
     "execution_count": 4,
     "metadata": {},
     "output_type": "execute_result"
    }
   ],
   "source": [
    "df.head()"
   ]
  },
  {
   "cell_type": "code",
   "execution_count": 5,
   "metadata": {},
   "outputs": [
    {
     "data": {
      "text/html": [
       "<div>\n",
       "<style scoped>\n",
       "    .dataframe tbody tr th:only-of-type {\n",
       "        vertical-align: middle;\n",
       "    }\n",
       "\n",
       "    .dataframe tbody tr th {\n",
       "        vertical-align: top;\n",
       "    }\n",
       "\n",
       "    .dataframe thead th {\n",
       "        text-align: right;\n",
       "    }\n",
       "</style>\n",
       "<table border=\"1\" class=\"dataframe\">\n",
       "  <thead>\n",
       "    <tr style=\"text-align: right;\">\n",
       "      <th></th>\n",
       "      <th>num_orders</th>\n",
       "    </tr>\n",
       "    <tr>\n",
       "      <th>datetime</th>\n",
       "      <th></th>\n",
       "    </tr>\n",
       "  </thead>\n",
       "  <tbody>\n",
       "    <tr>\n",
       "      <th>2018-08-31 23:10:00</th>\n",
       "      <td>32</td>\n",
       "    </tr>\n",
       "    <tr>\n",
       "      <th>2018-08-31 23:20:00</th>\n",
       "      <td>24</td>\n",
       "    </tr>\n",
       "    <tr>\n",
       "      <th>2018-08-31 23:30:00</th>\n",
       "      <td>27</td>\n",
       "    </tr>\n",
       "    <tr>\n",
       "      <th>2018-08-31 23:40:00</th>\n",
       "      <td>39</td>\n",
       "    </tr>\n",
       "    <tr>\n",
       "      <th>2018-08-31 23:50:00</th>\n",
       "      <td>53</td>\n",
       "    </tr>\n",
       "  </tbody>\n",
       "</table>\n",
       "</div>"
      ],
      "text/plain": [
       "                     num_orders\n",
       "datetime                       \n",
       "2018-08-31 23:10:00          32\n",
       "2018-08-31 23:20:00          24\n",
       "2018-08-31 23:30:00          27\n",
       "2018-08-31 23:40:00          39\n",
       "2018-08-31 23:50:00          53"
      ]
     },
     "execution_count": 5,
     "metadata": {},
     "output_type": "execute_result"
    }
   ],
   "source": [
    "df.tail()"
   ]
  },
  {
   "cell_type": "markdown",
   "metadata": {},
   "source": [
    "Загрузка данных прошла успешно. Мы имеем дело с временным рядом, где данные собраны с 10-минутным интервалом, а количество заказов (num_orders) выступает в качестве зависимой переменной."
   ]
  },
  {
   "cell_type": "code",
   "execution_count": 6,
   "metadata": {},
   "outputs": [
    {
     "name": "stdout",
     "output_type": "stream",
     "text": [
      "<class 'pandas.core.frame.DataFrame'>\n",
      "DatetimeIndex: 26496 entries, 2018-03-01 00:00:00 to 2018-08-31 23:50:00\n",
      "Data columns (total 1 columns):\n",
      " #   Column      Non-Null Count  Dtype\n",
      "---  ------      --------------  -----\n",
      " 0   num_orders  26496 non-null  int64\n",
      "dtypes: int64(1)\n",
      "memory usage: 414.0 KB\n"
     ]
    }
   ],
   "source": [
    "df.info()"
   ]
  },
  {
   "cell_type": "markdown",
   "metadata": {},
   "source": [
    "Пропущенные значения отсутствуют. Тип данных, представляющих зависимую переменную, соответствует ожидаемому формату."
   ]
  },
  {
   "cell_type": "code",
   "execution_count": 7,
   "metadata": {},
   "outputs": [
    {
     "data": {
      "text/html": [
       "<div>\n",
       "<style scoped>\n",
       "    .dataframe tbody tr th:only-of-type {\n",
       "        vertical-align: middle;\n",
       "    }\n",
       "\n",
       "    .dataframe tbody tr th {\n",
       "        vertical-align: top;\n",
       "    }\n",
       "\n",
       "    .dataframe thead th {\n",
       "        text-align: right;\n",
       "    }\n",
       "</style>\n",
       "<table border=\"1\" class=\"dataframe\">\n",
       "  <thead>\n",
       "    <tr style=\"text-align: right;\">\n",
       "      <th></th>\n",
       "      <th>num_orders</th>\n",
       "    </tr>\n",
       "  </thead>\n",
       "  <tbody>\n",
       "    <tr>\n",
       "      <th>count</th>\n",
       "      <td>26496.000000</td>\n",
       "    </tr>\n",
       "    <tr>\n",
       "      <th>mean</th>\n",
       "      <td>14.070463</td>\n",
       "    </tr>\n",
       "    <tr>\n",
       "      <th>std</th>\n",
       "      <td>9.211330</td>\n",
       "    </tr>\n",
       "    <tr>\n",
       "      <th>min</th>\n",
       "      <td>0.000000</td>\n",
       "    </tr>\n",
       "    <tr>\n",
       "      <th>25%</th>\n",
       "      <td>8.000000</td>\n",
       "    </tr>\n",
       "    <tr>\n",
       "      <th>50%</th>\n",
       "      <td>13.000000</td>\n",
       "    </tr>\n",
       "    <tr>\n",
       "      <th>75%</th>\n",
       "      <td>19.000000</td>\n",
       "    </tr>\n",
       "    <tr>\n",
       "      <th>max</th>\n",
       "      <td>119.000000</td>\n",
       "    </tr>\n",
       "  </tbody>\n",
       "</table>\n",
       "</div>"
      ],
      "text/plain": [
       "         num_orders\n",
       "count  26496.000000\n",
       "mean      14.070463\n",
       "std        9.211330\n",
       "min        0.000000\n",
       "25%        8.000000\n",
       "50%       13.000000\n",
       "75%       19.000000\n",
       "max      119.000000"
      ]
     },
     "execution_count": 7,
     "metadata": {},
     "output_type": "execute_result"
    }
   ],
   "source": [
    "df.describe()"
   ]
  },
  {
   "cell_type": "markdown",
   "metadata": {},
   "source": [
    "Медиана наших данных равна 13, однако максимальное значение сильно выделяется и составляет 119. Похоже, что распределение данных имеет особенности, поэтому необходимо изучить его"
   ]
  },
  {
   "cell_type": "code",
   "execution_count": 8,
   "metadata": {},
   "outputs": [],
   "source": [
    "def get_hist(df, column, bins):\n",
    "    fig = plt.figure(figsize=(12, 8))\n",
    "    grid = plt.GridSpec(4, 4, hspace=0.5, wspace=0.2)\n",
    "\n",
    "    ax_main = fig.add_subplot(grid[:-1, :-1])\n",
    "    ax_bottom = fig.add_subplot(grid[-1, 0:-1], xticklabels=[], yticklabels=[])\n",
    "\n",
    "    ax_main.hist(df[column], bins=bins, edgecolor='black')\n",
    "    sns.boxplot(x=df[column], ax=ax_bottom)\n",
    "    ax_main.set(title='Распределение признака ' + column, ylabel='Количество наблюдений')\n",
    "    plt.show()"
   ]
  },
  {
   "cell_type": "code",
   "execution_count": 9,
   "metadata": {},
   "outputs": [
    {
     "data": {
      "image/png": "[encoded data removed]",
      "text/plain": [
       "<Figure size 864x576 with 2 Axes>"
      ]
     },
     "metadata": {
      "needs_background": "light"
     },
     "output_type": "display_data"
    }
   ],
   "source": [
    "get_hist(df, 'num_orders', 150)"
   ]
  },
  {
   "cell_type": "markdown",
   "metadata": {},
   "source": [
    "Боксплот показал наличие значений, выходящих за пределы межквартильного размаха. Давайте посмотрим на них внимательнее. Чтобы это сделать, выберем данные, превышающие 70, так как именно после этого значения данные становятся более редкими."
   ]
  },
  {
   "cell_type": "code",
   "execution_count": 10,
   "metadata": {},
   "outputs": [
    {
     "data": {
      "text/html": [
       "<div>\n",
       "<style scoped>\n",
       "    .dataframe tbody tr th:only-of-type {\n",
       "        vertical-align: middle;\n",
       "    }\n",
       "\n",
       "    .dataframe tbody tr th {\n",
       "        vertical-align: top;\n",
       "    }\n",
       "\n",
       "    .dataframe thead th {\n",
       "        text-align: right;\n",
       "    }\n",
       "</style>\n",
       "<table border=\"1\" class=\"dataframe\">\n",
       "  <thead>\n",
       "    <tr style=\"text-align: right;\">\n",
       "      <th></th>\n",
       "      <th>num_orders</th>\n",
       "      <th>dayofweek</th>\n",
       "    </tr>\n",
       "    <tr>\n",
       "      <th>datetime</th>\n",
       "      <th></th>\n",
       "      <th></th>\n",
       "    </tr>\n",
       "  </thead>\n",
       "  <tbody>\n",
       "    <tr>\n",
       "      <th>2018-08-13 01:10:00</th>\n",
       "      <td>71</td>\n",
       "      <td>0</td>\n",
       "    </tr>\n",
       "    <tr>\n",
       "      <th>2018-08-13 02:10:00</th>\n",
       "      <td>78</td>\n",
       "      <td>0</td>\n",
       "    </tr>\n",
       "    <tr>\n",
       "      <th>2018-08-13 02:20:00</th>\n",
       "      <td>119</td>\n",
       "      <td>0</td>\n",
       "    </tr>\n",
       "    <tr>\n",
       "      <th>2018-08-13 02:30:00</th>\n",
       "      <td>99</td>\n",
       "      <td>0</td>\n",
       "    </tr>\n",
       "    <tr>\n",
       "      <th>2018-08-20 02:00:00</th>\n",
       "      <td>87</td>\n",
       "      <td>0</td>\n",
       "    </tr>\n",
       "    <tr>\n",
       "      <th>2018-08-20 02:10:00</th>\n",
       "      <td>90</td>\n",
       "      <td>0</td>\n",
       "    </tr>\n",
       "    <tr>\n",
       "      <th>2018-08-20 02:20:00</th>\n",
       "      <td>94</td>\n",
       "      <td>0</td>\n",
       "    </tr>\n",
       "    <tr>\n",
       "      <th>2018-08-20 02:30:00</th>\n",
       "      <td>82</td>\n",
       "      <td>0</td>\n",
       "    </tr>\n",
       "    <tr>\n",
       "      <th>2018-08-20 02:40:00</th>\n",
       "      <td>80</td>\n",
       "      <td>0</td>\n",
       "    </tr>\n",
       "    <tr>\n",
       "      <th>2018-08-20 03:50:00</th>\n",
       "      <td>71</td>\n",
       "      <td>0</td>\n",
       "    </tr>\n",
       "    <tr>\n",
       "      <th>2018-08-20 04:00:00</th>\n",
       "      <td>91</td>\n",
       "      <td>0</td>\n",
       "    </tr>\n",
       "    <tr>\n",
       "      <th>2018-08-21 03:50:00</th>\n",
       "      <td>76</td>\n",
       "      <td>1</td>\n",
       "    </tr>\n",
       "    <tr>\n",
       "      <th>2018-08-21 04:00:00</th>\n",
       "      <td>71</td>\n",
       "      <td>1</td>\n",
       "    </tr>\n",
       "    <tr>\n",
       "      <th>2018-08-27 02:00:00</th>\n",
       "      <td>98</td>\n",
       "      <td>0</td>\n",
       "    </tr>\n",
       "    <tr>\n",
       "      <th>2018-08-27 02:10:00</th>\n",
       "      <td>119</td>\n",
       "      <td>0</td>\n",
       "    </tr>\n",
       "    <tr>\n",
       "      <th>2018-08-27 02:20:00</th>\n",
       "      <td>81</td>\n",
       "      <td>0</td>\n",
       "    </tr>\n",
       "    <tr>\n",
       "      <th>2018-08-27 04:30:00</th>\n",
       "      <td>71</td>\n",
       "      <td>0</td>\n",
       "    </tr>\n",
       "    <tr>\n",
       "      <th>2018-08-30 17:40:00</th>\n",
       "      <td>76</td>\n",
       "      <td>3</td>\n",
       "    </tr>\n",
       "    <tr>\n",
       "      <th>2018-08-30 17:50:00</th>\n",
       "      <td>95</td>\n",
       "      <td>3</td>\n",
       "    </tr>\n",
       "  </tbody>\n",
       "</table>\n",
       "</div>"
      ],
      "text/plain": [
       "                     num_orders  dayofweek\n",
       "datetime                                  \n",
       "2018-08-13 01:10:00          71          0\n",
       "2018-08-13 02:10:00          78          0\n",
       "2018-08-13 02:20:00         119          0\n",
       "2018-08-13 02:30:00          99          0\n",
       "2018-08-20 02:00:00          87          0\n",
       "2018-08-20 02:10:00          90          0\n",
       "2018-08-20 02:20:00          94          0\n",
       "2018-08-20 02:30:00          82          0\n",
       "2018-08-20 02:40:00          80          0\n",
       "2018-08-20 03:50:00          71          0\n",
       "2018-08-20 04:00:00          91          0\n",
       "2018-08-21 03:50:00          76          1\n",
       "2018-08-21 04:00:00          71          1\n",
       "2018-08-27 02:00:00          98          0\n",
       "2018-08-27 02:10:00         119          0\n",
       "2018-08-27 02:20:00          81          0\n",
       "2018-08-27 04:30:00          71          0\n",
       "2018-08-30 17:40:00          76          3\n",
       "2018-08-30 17:50:00          95          3"
      ]
     },
     "execution_count": 10,
     "metadata": {},
     "output_type": "execute_result"
    }
   ],
   "source": [
    "big_data = df[df['num_orders'] > 70]\n",
    "big_data['dayofweek'] = big_data.index.dayofweek\n",
    "big_data"
   ]
  },
  {
   "cell_type": "markdown",
   "metadata": {},
   "source": [
    "Я предлагаю сохранить эти данные, поскольку они потенциально содержат ценную информацию о пиковых нагрузках на сервис. Предварительный анализ указывает, что эти пики чаще всего наблюдаются в ночь с воскресенья на понедельник и могут быть обусловлены такими факторами, как проведение мероприятий, задержки авиарейсов или недостаток такси у конкурирующих компаний."
   ]
  },
  {
   "cell_type": "markdown",
   "metadata": {},
   "source": [
    "Произведем ресемплирование данных, используя часовой интервал"
   ]
  },
  {
   "cell_type": "code",
   "execution_count": 11,
   "metadata": {},
   "outputs": [],
   "source": [
    "df = df.resample('1H').sum()"
   ]
  },
  {
   "cell_type": "markdown",
   "metadata": {},
   "source": [
    "## Анализ"
   ]
  },
  {
   "cell_type": "code",
   "execution_count": 12,
   "metadata": {},
   "outputs": [],
   "source": [
    "def get_plot(df, title):\n",
    "    plt.figure(figsize=(16, 6))\n",
    "\n",
    "    plt.plot(df, label='Заказы такси')\n",
    "    plt.fill_between(df.index, 0, df.values, alpha=0.05)\n",
    "\n",
    "    plt.title(title)\n",
    "    plt.xlabel('Время')\n",
    "    plt.ylabel('Количество заказов')\n",
    "\n",
    "    plt.legend()\n",
    "\n",
    "    plt.grid(axis='y', linestyle='--', alpha=0.7)\n",
    "    plt.box(False)\n",
    "\n",
    "    plt.show()"
   ]
  },
  {
   "cell_type": "code",
   "execution_count": 13,
   "metadata": {},
   "outputs": [],
   "source": [
    "decomposed = seasonal_decompose(df)"
   ]
  },
  {
   "cell_type": "code",
   "execution_count": 14,
   "metadata": {
    "scrolled": false
   },
   "outputs": [
    {
     "data": {
      "image/png": "[encoded data removed]",
      "text/plain": [
       "<Figure size 1152x432 with 1 Axes>"
      ]
     },
     "metadata": {
      "needs_background": "light"
     },
     "output_type": "display_data"
    }
   ],
   "source": [
    "get_plot(decomposed.trend, 'Тренд (час)')"
   ]
  },
  {
   "cell_type": "code",
   "execution_count": 15,
   "metadata": {},
   "outputs": [
    {
     "data": {
      "image/png": "[encoded data removed]",
      "text/plain": [
       "<Figure size 1152x432 with 1 Axes>"
      ]
     },
     "metadata": {
      "needs_background": "light"
     },
     "output_type": "display_data"
    }
   ],
   "source": [
    "get_plot(decomposed.trend.resample('1D').sum(), 'Тренд (день)')"
   ]
  },
  {
   "cell_type": "code",
   "execution_count": 16,
   "metadata": {},
   "outputs": [
    {
     "data": {
      "image/png": "[encoded data removed]",
      "text/plain": [
       "<Figure size 1152x432 with 1 Axes>"
      ]
     },
     "metadata": {
      "needs_background": "light"
     },
     "output_type": "display_data"
    }
   ],
   "source": [
    "get_plot(decomposed.trend.rolling(100).mean(), 'Тренд сглаженный')"
   ]
  },
  {
   "cell_type": "markdown",
   "metadata": {},
   "source": [
    "Наблюдается тенденция к увеличению спроса на услуги такси в течение последних шести месяцев, если рассматривать почасовые данные."
   ]
  },
  {
   "cell_type": "code",
   "execution_count": 17,
   "metadata": {},
   "outputs": [
    {
     "data": {
      "image/png": "[encoded data removed]",
      "text/plain": [
       "<Figure size 1152x432 with 1 Axes>"
      ]
     },
     "metadata": {
      "needs_background": "light"
     },
     "output_type": "display_data"
    }
   ],
   "source": [
    "get_plot(decomposed.seasonal.tail(24*7), 'Сезонность')"
   ]
  },
  {
   "cell_type": "markdown",
   "metadata": {},
   "source": [
    "Суточный спрос имеет сезонную структуру: минимальные значения приходятся на ночь, максимальные — на вечер, с дополнительным локальным пиком во второй половине дня."
   ]
  },
  {
   "cell_type": "code",
   "execution_count": 18,
   "metadata": {
    "scrolled": false
   },
   "outputs": [
    {
     "data": {
      "image/png": "[encoded data removed]",
      "text/plain": [
       "<Figure size 1152x432 with 1 Axes>"
      ]
     },
     "metadata": {
      "needs_background": "light"
     },
     "output_type": "display_data"
    }
   ],
   "source": [
    "get_plot(decomposed.resid, 'Остатки')"
   ]
  },
  {
   "cell_type": "markdown",
   "metadata": {},
   "source": [
    "Остатки выглядят как белый шум, то есть они случайны и не имеют явных закономерностей. значит, модель хорошо уловила тренд и сезонность"
   ]
  },
  {
   "cell_type": "markdown",
   "metadata": {},
   "source": [
    "## Обучение"
   ]
  },
  {
   "cell_type": "markdown",
   "metadata": {},
   "source": [
    "### Подготовка признаков"
   ]
  },
  {
   "cell_type": "markdown",
   "metadata": {},
   "source": [
    "Для обогащения наших данных мы разработаем функцию make_features, которая будет принимать DataFrame (df), максимальный лаг (max_lag) и размер окна для скользящего среднего (rolling_mean_size). Эта функция добавит в DataFrame новые признаки, такие как год, месяц, день, день недели, а также признаки, основанные на сдвиге данных и скользящем среднем."
   ]
  },
  {
   "cell_type": "code",
   "execution_count": 19,
   "metadata": {},
   "outputs": [],
   "source": [
    "def make_features(df, max_lag, rolling_mean_size):\n",
    "    df['month'] = df.index.month\n",
    "    df['day'] = df.index.day\n",
    "    df['dayofweek'] = df.index.dayofweek\n",
    "    df['hour'] = df.index.hour\n",
    "    \n",
    "    for lag in range(1, max_lag + 1):\n",
    "        df['lag_{}'.format(lag)] = df['num_orders'].shift(lag)\n",
    "\n",
    "    df['rolling_mean'] = df['num_orders'].shift().rolling(rolling_mean_size).mean()"
   ]
  },
  {
   "cell_type": "code",
   "execution_count": 20,
   "metadata": {},
   "outputs": [
    {
     "data": {
      "text/html": [
       "<div>\n",
       "<style scoped>\n",
       "    .dataframe tbody tr th:only-of-type {\n",
       "        vertical-align: middle;\n",
       "    }\n",
       "\n",
       "    .dataframe tbody tr th {\n",
       "        vertical-align: top;\n",
       "    }\n",
       "\n",
       "    .dataframe thead th {\n",
       "        text-align: right;\n",
       "    }\n",
       "</style>\n",
       "<table border=\"1\" class=\"dataframe\">\n",
       "  <thead>\n",
       "    <tr style=\"text-align: right;\">\n",
       "      <th></th>\n",
       "      <th>num_orders</th>\n",
       "      <th>month</th>\n",
       "      <th>day</th>\n",
       "      <th>dayofweek</th>\n",
       "      <th>hour</th>\n",
       "      <th>lag_1</th>\n",
       "      <th>lag_2</th>\n",
       "      <th>lag_3</th>\n",
       "      <th>lag_4</th>\n",
       "      <th>lag_5</th>\n",
       "      <th>lag_6</th>\n",
       "      <th>lag_7</th>\n",
       "      <th>rolling_mean</th>\n",
       "    </tr>\n",
       "    <tr>\n",
       "      <th>datetime</th>\n",
       "      <th></th>\n",
       "      <th></th>\n",
       "      <th></th>\n",
       "      <th></th>\n",
       "      <th></th>\n",
       "      <th></th>\n",
       "      <th></th>\n",
       "      <th></th>\n",
       "      <th></th>\n",
       "      <th></th>\n",
       "      <th></th>\n",
       "      <th></th>\n",
       "      <th></th>\n",
       "    </tr>\n",
       "  </thead>\n",
       "  <tbody>\n",
       "    <tr>\n",
       "      <th>2018-03-01 00:00:00</th>\n",
       "      <td>124</td>\n",
       "      <td>3</td>\n",
       "      <td>1</td>\n",
       "      <td>3</td>\n",
       "      <td>0</td>\n",
       "      <td>NaN</td>\n",
       "      <td>NaN</td>\n",
       "      <td>NaN</td>\n",
       "      <td>NaN</td>\n",
       "      <td>NaN</td>\n",
       "      <td>NaN</td>\n",
       "      <td>NaN</td>\n",
       "      <td>NaN</td>\n",
       "    </tr>\n",
       "    <tr>\n",
       "      <th>2018-03-01 01:00:00</th>\n",
       "      <td>85</td>\n",
       "      <td>3</td>\n",
       "      <td>1</td>\n",
       "      <td>3</td>\n",
       "      <td>1</td>\n",
       "      <td>124.0</td>\n",
       "      <td>NaN</td>\n",
       "      <td>NaN</td>\n",
       "      <td>NaN</td>\n",
       "      <td>NaN</td>\n",
       "      <td>NaN</td>\n",
       "      <td>NaN</td>\n",
       "      <td>124.0</td>\n",
       "    </tr>\n",
       "    <tr>\n",
       "      <th>2018-03-01 02:00:00</th>\n",
       "      <td>71</td>\n",
       "      <td>3</td>\n",
       "      <td>1</td>\n",
       "      <td>3</td>\n",
       "      <td>2</td>\n",
       "      <td>85.0</td>\n",
       "      <td>124.0</td>\n",
       "      <td>NaN</td>\n",
       "      <td>NaN</td>\n",
       "      <td>NaN</td>\n",
       "      <td>NaN</td>\n",
       "      <td>NaN</td>\n",
       "      <td>85.0</td>\n",
       "    </tr>\n",
       "    <tr>\n",
       "      <th>2018-03-01 03:00:00</th>\n",
       "      <td>66</td>\n",
       "      <td>3</td>\n",
       "      <td>1</td>\n",
       "      <td>3</td>\n",
       "      <td>3</td>\n",
       "      <td>71.0</td>\n",
       "      <td>85.0</td>\n",
       "      <td>124.0</td>\n",
       "      <td>NaN</td>\n",
       "      <td>NaN</td>\n",
       "      <td>NaN</td>\n",
       "      <td>NaN</td>\n",
       "      <td>71.0</td>\n",
       "    </tr>\n",
       "    <tr>\n",
       "      <th>2018-03-01 04:00:00</th>\n",
       "      <td>43</td>\n",
       "      <td>3</td>\n",
       "      <td>1</td>\n",
       "      <td>3</td>\n",
       "      <td>4</td>\n",
       "      <td>66.0</td>\n",
       "      <td>71.0</td>\n",
       "      <td>85.0</td>\n",
       "      <td>124.0</td>\n",
       "      <td>NaN</td>\n",
       "      <td>NaN</td>\n",
       "      <td>NaN</td>\n",
       "      <td>66.0</td>\n",
       "    </tr>\n",
       "  </tbody>\n",
       "</table>\n",
       "</div>"
      ],
      "text/plain": [
       "                     num_orders  month  day  dayofweek  hour  lag_1  lag_2  \\\n",
       "datetime                                                                     \n",
       "2018-03-01 00:00:00         124      3    1          3     0    NaN    NaN   \n",
       "2018-03-01 01:00:00          85      3    1          3     1  124.0    NaN   \n",
       "2018-03-01 02:00:00          71      3    1          3     2   85.0  124.0   \n",
       "2018-03-01 03:00:00          66      3    1          3     3   71.0   85.0   \n",
       "2018-03-01 04:00:00          43      3    1          3     4   66.0   71.0   \n",
       "\n",
       "                     lag_3  lag_4  lag_5  lag_6  lag_7  rolling_mean  \n",
       "datetime                                                              \n",
       "2018-03-01 00:00:00    NaN    NaN    NaN    NaN    NaN           NaN  \n",
       "2018-03-01 01:00:00    NaN    NaN    NaN    NaN    NaN         124.0  \n",
       "2018-03-01 02:00:00    NaN    NaN    NaN    NaN    NaN          85.0  \n",
       "2018-03-01 03:00:00  124.0    NaN    NaN    NaN    NaN          71.0  \n",
       "2018-03-01 04:00:00   85.0  124.0    NaN    NaN    NaN          66.0  "
      ]
     },
     "execution_count": 20,
     "metadata": {},
     "output_type": "execute_result"
    }
   ],
   "source": [
    "make_features(df, 7, 1)\n",
    "df.head()"
   ]
  },
  {
   "cell_type": "code",
   "execution_count": 21,
   "metadata": {},
   "outputs": [
    {
     "data": {
      "text/plain": [
       "Text(0.5, 1.0, 'Распределение признака month')"
      ]
     },
     "execution_count": 21,
     "metadata": {},
     "output_type": "execute_result"
    },
    {
     "data": {
      "image/png": "[encoded data removed]",
      "text/plain": [
       "<Figure size 864x576 with 1 Axes>"
      ]
     },
     "metadata": {
      "needs_background": "light"
     },
     "output_type": "display_data"
    }
   ],
   "source": [
    "pivot_table = df.pivot_table(index='month', \n",
    "                             aggfunc='size')\n",
    "ax = pivot_table.plot(kind='bar', figsize=(12, 8))\n",
    "ax.set_xticklabels(ax.get_xticklabels(), rotation=0, ha='center')\n",
    "for p in ax.patches:\n",
    "    ax.annotate(str(p.get_height()), (p.get_x() + p.get_width() / 2., p.get_height()),\n",
    "                        ha='center', va='center', xytext=(0, 10), textcoords='offset points')\n",
    "\n",
    "plt.ylabel('Количество наблюдений')\n",
    "plt.title('Распределение признака month')"
   ]
  },
  {
   "cell_type": "code",
   "execution_count": 22,
   "metadata": {},
   "outputs": [
    {
     "name": "stdout",
     "output_type": "stream",
     "text": [
      "До удаления: (4416, 13)\n",
      "После удаления: (4416, 12)\n"
     ]
    }
   ],
   "source": [
    "print(f'До удаления: {df.shape}')\n",
    "df = df.drop('month', axis=1)\n",
    "print(f'После удаления: {df.shape}')"
   ]
  },
  {
   "cell_type": "markdown",
   "metadata": {},
   "source": [
    "Для обеспечения корректной оценки моделей машинного обучения, предлагается разделить имеющиеся данные на три части: обучающую выборку (80%), валидационную выборку (10%) и тестовую выборку (10%). Валидационная выборка будет использоваться для подбора оптимальной модели, которая впоследствии будет оценена на тестовой выборке"
   ]
  },
  {
   "cell_type": "code",
   "execution_count": 23,
   "metadata": {},
   "outputs": [],
   "source": [
    "X_train, X_test, y_train, y_test = train_test_split(df.drop('num_orders', axis=1),\n",
    "                                                                df['num_orders'],\n",
    "                                                                test_size=0.1,\n",
    "                                                                shuffle=False,\n",
    "                                                                random_state=RANDOM_STATE)"
   ]
  },
  {
   "cell_type": "code",
   "execution_count": 24,
   "metadata": {},
   "outputs": [
    {
     "data": {
      "text/html": [
       "<div>\n",
       "<style scoped>\n",
       "    .dataframe tbody tr th:only-of-type {\n",
       "        vertical-align: middle;\n",
       "    }\n",
       "\n",
       "    .dataframe tbody tr th {\n",
       "        vertical-align: top;\n",
       "    }\n",
       "\n",
       "    .dataframe thead th {\n",
       "        text-align: right;\n",
       "    }\n",
       "</style>\n",
       "<table border=\"1\" class=\"dataframe\">\n",
       "  <thead>\n",
       "    <tr style=\"text-align: right;\">\n",
       "      <th></th>\n",
       "      <th>Выборка</th>\n",
       "      <th>Размер выборки</th>\n",
       "    </tr>\n",
       "  </thead>\n",
       "  <tbody>\n",
       "    <tr>\n",
       "      <th>0</th>\n",
       "      <td>X_train</td>\n",
       "      <td>(3974, 11)</td>\n",
       "    </tr>\n",
       "    <tr>\n",
       "      <th>1</th>\n",
       "      <td>y_train</td>\n",
       "      <td>(3974,)</td>\n",
       "    </tr>\n",
       "    <tr>\n",
       "      <th>2</th>\n",
       "      <td>X_test</td>\n",
       "      <td>(442, 11)</td>\n",
       "    </tr>\n",
       "    <tr>\n",
       "      <th>3</th>\n",
       "      <td>y_test</td>\n",
       "      <td>(442,)</td>\n",
       "    </tr>\n",
       "  </tbody>\n",
       "</table>\n",
       "</div>"
      ],
      "text/plain": [
       "   Выборка Размер выборки\n",
       "0  X_train     (3974, 11)\n",
       "1  y_train        (3974,)\n",
       "2   X_test      (442, 11)\n",
       "3   y_test         (442,)"
      ]
     },
     "execution_count": 24,
     "metadata": {},
     "output_type": "execute_result"
    }
   ],
   "source": [
    "pd.DataFrame({\n",
    "    'Выборка':['X_train', 'y_train',\n",
    "               'X_test', 'y_test'],\n",
    "    \n",
    "    'Размер выборки':[X_train.shape, y_train.shape,\n",
    "                      X_test.shape, y_test.shape]\n",
    "})"
   ]
  },
  {
   "cell_type": "markdown",
   "metadata": {},
   "source": [
    "### Обучение моделей"
   ]
  },
  {
   "cell_type": "markdown",
   "metadata": {},
   "source": [
    "Мы проведем обучение трех моделей машинного обучения, последовательно увеличивая их сложность: DecisionTreeRegressor, RandomForestRegressor и LGBMRegressor. Для каждой модели будет выполнен подбор оптимальных гиперпараметров. Затем мы измерим время обучения, время предсказания и значение RMSE на валидационной выборке. В заключение, мы выберем модель, показавшую лучшие результаты."
   ]
  },
  {
   "cell_type": "code",
   "execution_count": 25,
   "metadata": {},
   "outputs": [],
   "source": [
    "models = [\n",
    "    DecisionTreeRegressor(random_state=RANDOM_STATE),\n",
    "    RandomForestRegressor(random_state=RANDOM_STATE),\n",
    "    LGBMRegressor(random_state=RANDOM_STATE)\n",
    "]\n",
    "\n",
    "models_parameters = [\n",
    "    [\n",
    "        'DecisionTreeRegressor', \n",
    "        {'min_samples_leaf': range(1, 11),\n",
    "        'max_depth': range(1, 11)} \n",
    "    ],\n",
    "    [\n",
    "        'RandomForestRegressor',\n",
    "        {'max_depth': range(5, 10),\n",
    "        'n_estimators': [100, 150]} \n",
    "    ],\n",
    "    [\n",
    "        'LGBMRegressor', \n",
    "        {'max_depth': range(2, 11),\n",
    "        'learning_rate': [0.01, 0.05, 0.1]} \n",
    "    ]\n",
    "]"
   ]
  },
  {
   "cell_type": "code",
   "execution_count": 26,
   "metadata": {},
   "outputs": [
    {
     "name": "stdout",
     "output_type": "stream",
     "text": [
      "CPU times: user 54.4 s, sys: 783 ms, total: 55.2 s\n",
      "Wall time: 55.7 s\n"
     ]
    },
    {
     "data": {
      "text/html": [
       "<div>\n",
       "<style scoped>\n",
       "    .dataframe tbody tr th:only-of-type {\n",
       "        vertical-align: middle;\n",
       "    }\n",
       "\n",
       "    .dataframe tbody tr th {\n",
       "        vertical-align: top;\n",
       "    }\n",
       "\n",
       "    .dataframe thead th {\n",
       "        text-align: right;\n",
       "    }\n",
       "</style>\n",
       "<table border=\"1\" class=\"dataframe\">\n",
       "  <thead>\n",
       "    <tr style=\"text-align: right;\">\n",
       "      <th></th>\n",
       "      <th>model</th>\n",
       "      <th>parameters</th>\n",
       "      <th>training_time(ms)</th>\n",
       "      <th>predict_time(ms)</th>\n",
       "      <th>cross_valid_score(RMSE)</th>\n",
       "    </tr>\n",
       "  </thead>\n",
       "  <tbody>\n",
       "    <tr>\n",
       "      <th>0</th>\n",
       "      <td>DecisionTreeRegressor</td>\n",
       "      <td>{'min_samples_leaf': 4, 'max_depth': 9}</td>\n",
       "      <td>0.4404</td>\n",
       "      <td>0.0020</td>\n",
       "      <td>31.63</td>\n",
       "    </tr>\n",
       "    <tr>\n",
       "      <th>1</th>\n",
       "      <td>RandomForestRegressor</td>\n",
       "      <td>{'n_estimators': 150, 'max_depth': 9}</td>\n",
       "      <td>31.9818</td>\n",
       "      <td>0.0200</td>\n",
       "      <td>28.57</td>\n",
       "    </tr>\n",
       "    <tr>\n",
       "      <th>2</th>\n",
       "      <td>LGBMRegressor</td>\n",
       "      <td>{'max_depth': 10, 'learning_rate': 0.05}</td>\n",
       "      <td>23.2359</td>\n",
       "      <td>0.0028</td>\n",
       "      <td>27.60</td>\n",
       "    </tr>\n",
       "  </tbody>\n",
       "</table>\n",
       "</div>"
      ],
      "text/plain": [
       "                   model                                parameters  \\\n",
       "0  DecisionTreeRegressor   {'min_samples_leaf': 4, 'max_depth': 9}   \n",
       "1  RandomForestRegressor     {'n_estimators': 150, 'max_depth': 9}   \n",
       "2          LGBMRegressor  {'max_depth': 10, 'learning_rate': 0.05}   \n",
       "\n",
       "   training_time(ms)  predict_time(ms)  cross_valid_score(RMSE)  \n",
       "0             0.4404            0.0020                    31.63  \n",
       "1            31.9818            0.0200                    28.57  \n",
       "2            23.2359            0.0028                    27.60  "
      ]
     },
     "execution_count": 26,
     "metadata": {},
     "output_type": "execute_result"
    }
   ],
   "source": [
    "%%time\n",
    "models_df = {}\n",
    "\n",
    "splits = TimeSeriesSplit(n_splits=3)\n",
    "\n",
    "for i in range(3):\n",
    "    rs = RandomizedSearchCV(\n",
    "    models[i],\n",
    "    models_parameters[i][1],\n",
    "    n_jobs=-1,\n",
    "    cv=splits,\n",
    "    scoring='neg_root_mean_squared_error',\n",
    "    random_state=RANDOM_STATE\n",
    "    )\n",
    "\n",
    "    start_fit = time.time()\n",
    "    rs.fit(X_train, y_train)\n",
    "    end_fit = time.time()\n",
    "    fit_time = round(end_fit - start_fit, 4)\n",
    "    \n",
    "    start_predict = time.time()\n",
    "    rs.predict(X_test)\n",
    "    end_predict = time.time()\n",
    "    predict_time = round(end_predict - start_predict, 4)\n",
    "\n",
    "    if i == 0:\n",
    "        models_df['model'] = [models_parameters[i][0]]\n",
    "        models_df['parameters'] = [rs.best_params_]\n",
    "        models_df['training_time(ms)'] = [fit_time]\n",
    "        models_df['predict_time(ms)'] = [predict_time]\n",
    "        models_df['cross_valid_score(RMSE)'] = [round(rs.best_score_ * -1, 2)]\n",
    "\n",
    "    else:\n",
    "        models_df['model'].append(models_parameters[i][0])\n",
    "        models_df['parameters'].append(rs.best_params_)\n",
    "        models_df['training_time(ms)'].append(fit_time)\n",
    "        models_df['predict_time(ms)'].append(predict_time)\n",
    "        models_df['cross_valid_score(RMSE)'].append(round(rs.best_score_ * -1, 2))\n",
    "\n",
    "pd.DataFrame(models_df)"
   ]
  },
  {
   "cell_type": "markdown",
   "metadata": {},
   "source": [
    "LGBMRegressor является лучшей моделью. Вот почему:\n",
    "\n",
    "1.  Наименьший RMSE на валидационной выборке: LGBMRegressor показал наименьшую ошибку на кросс-валидации (27.60), что является ключевым показателем точности модели.\n",
    "2.  Баланс между скоростью и точностью:  Хотя DecisionTreeRegressor обучается и предсказывает быстрее, его точность значительно хуже. RandomForestRegressor показывает хорошую точность, но тратит больше времени. LGBMRegressor находит оптимальный баланс между скоростью и точностью, имея достаточно малое время обучения и предсказания, а также лучшую точность.\n",
    "\n",
    "Следует также отметить, что, несмотря на свою простоту, модель DecisionTreeRegressor показала результаты, сопоставимые с более сложными моделями, при этом демонстрируя наивысшую скорость работы. \n",
    "\n",
    "Отсутствие переобучения наблюдается во всех трех рассмотренных моделях."
   ]
  },
  {
   "cell_type": "markdown",
   "metadata": {},
   "source": [
    "**LGBMRegressor**"
   ]
  },
  {
   "cell_type": "code",
   "execution_count": 27,
   "metadata": {},
   "outputs": [
    {
     "data": {
      "text/html": [
       "<style>#sk-container-id-1 {\n",
       "  /* Definition of color scheme common for light and dark mode */\n",
       "  --sklearn-color-text: #000;\n",
       "  --sklearn-color-text-muted: #666;\n",
       "  --sklearn-color-line: gray;\n",
       "  /* Definition of color scheme for unfitted estimators */\n",
       "  --sklearn-color-unfitted-level-0: #fff5e6;\n",
       "  --sklearn-color-unfitted-level-1: #f6e4d2;\n",
       "  --sklearn-color-unfitted-level-2: #ffe0b3;\n",
       "  --sklearn-color-unfitted-level-3: chocolate;\n",
       "  /* Definition of color scheme for fitted estimators */\n",
       "  --sklearn-color-fitted-level-0: #f0f8ff;\n",
       "  --sklearn-color-fitted-level-1: #d4ebff;\n",
       "  --sklearn-color-fitted-level-2: #b3dbfd;\n",
       "  --sklearn-color-fitted-level-3: cornflowerblue;\n",
       "\n",
       "  /* Specific color for light theme */\n",
       "  --sklearn-color-text-on-default-background: var(--sg-text-color, var(--theme-code-foreground, var(--jp-content-font-color1, black)));\n",
       "  --sklearn-color-background: var(--sg-background-color, var(--theme-background, var(--jp-layout-color0, white)));\n",
       "  --sklearn-color-border-box: var(--sg-text-color, var(--theme-code-foreground, var(--jp-content-font-color1, black)));\n",
       "  --sklearn-color-icon: #696969;\n",
       "\n",
       "  @media (prefers-color-scheme: dark) {\n",
       "    /* Redefinition of color scheme for dark theme */\n",
       "    --sklearn-color-text-on-default-background: var(--sg-text-color, var(--theme-code-foreground, var(--jp-content-font-color1, white)));\n",
       "    --sklearn-color-background: var(--sg-background-color, var(--theme-background, var(--jp-layout-color0, #111)));\n",
       "    --sklearn-color-border-box: var(--sg-text-color, var(--theme-code-foreground, var(--jp-content-font-color1, white)));\n",
       "    --sklearn-color-icon: #878787;\n",
       "  }\n",
       "}\n",
       "\n",
       "#sk-container-id-1 {\n",
       "  color: var(--sklearn-color-text);\n",
       "}\n",
       "\n",
       "#sk-container-id-1 pre {\n",
       "  padding: 0;\n",
       "}\n",
       "\n",
       "#sk-container-id-1 input.sk-hidden--visually {\n",
       "  border: 0;\n",
       "  clip: rect(1px 1px 1px 1px);\n",
       "  clip: rect(1px, 1px, 1px, 1px);\n",
       "  height: 1px;\n",
       "  margin: -1px;\n",
       "  overflow: hidden;\n",
       "  padding: 0;\n",
       "  position: absolute;\n",
       "  width: 1px;\n",
       "}\n",
       "\n",
       "#sk-container-id-1 div.sk-dashed-wrapped {\n",
       "  border: 1px dashed var(--sklearn-color-line);\n",
       "  margin: 0 0.4em 0.5em 0.4em;\n",
       "  box-sizing: border-box;\n",
       "  padding-bottom: 0.4em;\n",
       "  background-color: var(--sklearn-color-background);\n",
       "}\n",
       "\n",
       "#sk-container-id-1 div.sk-container {\n",
       "  /* jupyter's `normalize.less` sets `[hidden] { display: none; }`\n",
       "     but bootstrap.min.css set `[hidden] { display: none !important; }`\n",
       "     so we also need the `!important` here to be able to override the\n",
       "     default hidden behavior on the sphinx rendered scikit-learn.org.\n",
       "     See: https://github.com/scikit-learn/scikit-learn/issues/21755 */\n",
       "  display: inline-block !important;\n",
       "  position: relative;\n",
       "}\n",
       "\n",
       "#sk-container-id-1 div.sk-text-repr-fallback {\n",
       "  display: none;\n",
       "}\n",
       "\n",
       "div.sk-parallel-item,\n",
       "div.sk-serial,\n",
       "div.sk-item {\n",
       "  /* draw centered vertical line to link estimators */\n",
       "  background-image: linear-gradient(var(--sklearn-color-text-on-default-background), var(--sklearn-color-text-on-default-background));\n",
       "  background-size: 2px 100%;\n",
       "  background-repeat: no-repeat;\n",
       "  background-position: center center;\n",
       "}\n",
       "\n",
       "/* Parallel-specific style estimator block */\n",
       "\n",
       "#sk-container-id-1 div.sk-parallel-item::after {\n",
       "  content: \"\";\n",
       "  width: 100%;\n",
       "  border-bottom: 2px solid var(--sklearn-color-text-on-default-background);\n",
       "  flex-grow: 1;\n",
       "}\n",
       "\n",
       "#sk-container-id-1 div.sk-parallel {\n",
       "  display: flex;\n",
       "  align-items: stretch;\n",
       "  justify-content: center;\n",
       "  background-color: var(--sklearn-color-background);\n",
       "  position: relative;\n",
       "}\n",
       "\n",
       "#sk-container-id-1 div.sk-parallel-item {\n",
       "  display: flex;\n",
       "  flex-direction: column;\n",
       "}\n",
       "\n",
       "#sk-container-id-1 div.sk-parallel-item:first-child::after {\n",
       "  align-self: flex-end;\n",
       "  width: 50%;\n",
       "}\n",
       "\n",
       "#sk-container-id-1 div.sk-parallel-item:last-child::after {\n",
       "  align-self: flex-start;\n",
       "  width: 50%;\n",
       "}\n",
       "\n",
       "#sk-container-id-1 div.sk-parallel-item:only-child::after {\n",
       "  width: 0;\n",
       "}\n",
       "\n",
       "/* Serial-specific style estimator block */\n",
       "\n",
       "#sk-container-id-1 div.sk-serial {\n",
       "  display: flex;\n",
       "  flex-direction: column;\n",
       "  align-items: center;\n",
       "  background-color: var(--sklearn-color-background);\n",
       "  padding-right: 1em;\n",
       "  padding-left: 1em;\n",
       "}\n",
       "\n",
       "\n",
       "/* Toggleable style: style used for estimator/Pipeline/ColumnTransformer box that is\n",
       "clickable and can be expanded/collapsed.\n",
       "- Pipeline and ColumnTransformer use this feature and define the default style\n",
       "- Estimators will overwrite some part of the style using the `sk-estimator` class\n",
       "*/\n",
       "\n",
       "/* Pipeline and ColumnTransformer style (default) */\n",
       "\n",
       "#sk-container-id-1 div.sk-toggleable {\n",
       "  /* Default theme specific background. It is overwritten whether we have a\n",
       "  specific estimator or a Pipeline/ColumnTransformer */\n",
       "  background-color: var(--sklearn-color-background);\n",
       "}\n",
       "\n",
       "/* Toggleable label */\n",
       "#sk-container-id-1 label.sk-toggleable__label {\n",
       "  cursor: pointer;\n",
       "  display: flex;\n",
       "  width: 100%;\n",
       "  margin-bottom: 0;\n",
       "  padding: 0.5em;\n",
       "  box-sizing: border-box;\n",
       "  text-align: center;\n",
       "  align-items: start;\n",
       "  justify-content: space-between;\n",
       "  gap: 0.5em;\n",
       "}\n",
       "\n",
       "#sk-container-id-1 label.sk-toggleable__label .caption {\n",
       "  font-size: 0.6rem;\n",
       "  font-weight: lighter;\n",
       "  color: var(--sklearn-color-text-muted);\n",
       "}\n",
       "\n",
       "#sk-container-id-1 label.sk-toggleable__label-arrow:before {\n",
       "  /* Arrow on the left of the label */\n",
       "  content: \"▸\";\n",
       "  float: left;\n",
       "  margin-right: 0.25em;\n",
       "  color: var(--sklearn-color-icon);\n",
       "}\n",
       "\n",
       "#sk-container-id-1 label.sk-toggleable__label-arrow:hover:before {\n",
       "  color: var(--sklearn-color-text);\n",
       "}\n",
       "\n",
       "/* Toggleable content - dropdown */\n",
       "\n",
       "#sk-container-id-1 div.sk-toggleable__content {\n",
       "  max-height: 0;\n",
       "  max-width: 0;\n",
       "  overflow: hidden;\n",
       "  text-align: left;\n",
       "  /* unfitted */\n",
       "  background-color: var(--sklearn-color-unfitted-level-0);\n",
       "}\n",
       "\n",
       "#sk-container-id-1 div.sk-toggleable__content.fitted {\n",
       "  /* fitted */\n",
       "  background-color: var(--sklearn-color-fitted-level-0);\n",
       "}\n",
       "\n",
       "#sk-container-id-1 div.sk-toggleable__content pre {\n",
       "  margin: 0.2em;\n",
       "  border-radius: 0.25em;\n",
       "  color: var(--sklearn-color-text);\n",
       "  /* unfitted */\n",
       "  background-color: var(--sklearn-color-unfitted-level-0);\n",
       "}\n",
       "\n",
       "#sk-container-id-1 div.sk-toggleable__content.fitted pre {\n",
       "  /* unfitted */\n",
       "  background-color: var(--sklearn-color-fitted-level-0);\n",
       "}\n",
       "\n",
       "#sk-container-id-1 input.sk-toggleable__control:checked~div.sk-toggleable__content {\n",
       "  /* Expand drop-down */\n",
       "  max-height: 200px;\n",
       "  max-width: 100%;\n",
       "  overflow: auto;\n",
       "}\n",
       "\n",
       "#sk-container-id-1 input.sk-toggleable__control:checked~label.sk-toggleable__label-arrow:before {\n",
       "  content: \"▾\";\n",
       "}\n",
       "\n",
       "/* Pipeline/ColumnTransformer-specific style */\n",
       "\n",
       "#sk-container-id-1 div.sk-label input.sk-toggleable__control:checked~label.sk-toggleable__label {\n",
       "  color: var(--sklearn-color-text);\n",
       "  background-color: var(--sklearn-color-unfitted-level-2);\n",
       "}\n",
       "\n",
       "#sk-container-id-1 div.sk-label.fitted input.sk-toggleable__control:checked~label.sk-toggleable__label {\n",
       "  background-color: var(--sklearn-color-fitted-level-2);\n",
       "}\n",
       "\n",
       "/* Estimator-specific style */\n",
       "\n",
       "/* Colorize estimator box */\n",
       "#sk-container-id-1 div.sk-estimator input.sk-toggleable__control:checked~label.sk-toggleable__label {\n",
       "  /* unfitted */\n",
       "  background-color: var(--sklearn-color-unfitted-level-2);\n",
       "}\n",
       "\n",
       "#sk-container-id-1 div.sk-estimator.fitted input.sk-toggleable__control:checked~label.sk-toggleable__label {\n",
       "  /* fitted */\n",
       "  background-color: var(--sklearn-color-fitted-level-2);\n",
       "}\n",
       "\n",
       "#sk-container-id-1 div.sk-label label.sk-toggleable__label,\n",
       "#sk-container-id-1 div.sk-label label {\n",
       "  /* The background is the default theme color */\n",
       "  color: var(--sklearn-color-text-on-default-background);\n",
       "}\n",
       "\n",
       "/* On hover, darken the color of the background */\n",
       "#sk-container-id-1 div.sk-label:hover label.sk-toggleable__label {\n",
       "  color: var(--sklearn-color-text);\n",
       "  background-color: var(--sklearn-color-unfitted-level-2);\n",
       "}\n",
       "\n",
       "/* Label box, darken color on hover, fitted */\n",
       "#sk-container-id-1 div.sk-label.fitted:hover label.sk-toggleable__label.fitted {\n",
       "  color: var(--sklearn-color-text);\n",
       "  background-color: var(--sklearn-color-fitted-level-2);\n",
       "}\n",
       "\n",
       "/* Estimator label */\n",
       "\n",
       "#sk-container-id-1 div.sk-label label {\n",
       "  font-family: monospace;\n",
       "  font-weight: bold;\n",
       "  display: inline-block;\n",
       "  line-height: 1.2em;\n",
       "}\n",
       "\n",
       "#sk-container-id-1 div.sk-label-container {\n",
       "  text-align: center;\n",
       "}\n",
       "\n",
       "/* Estimator-specific */\n",
       "#sk-container-id-1 div.sk-estimator {\n",
       "  font-family: monospace;\n",
       "  border: 1px dotted var(--sklearn-color-border-box);\n",
       "  border-radius: 0.25em;\n",
       "  box-sizing: border-box;\n",
       "  margin-bottom: 0.5em;\n",
       "  /* unfitted */\n",
       "  background-color: var(--sklearn-color-unfitted-level-0);\n",
       "}\n",
       "\n",
       "#sk-container-id-1 div.sk-estimator.fitted {\n",
       "  /* fitted */\n",
       "  background-color: var(--sklearn-color-fitted-level-0);\n",
       "}\n",
       "\n",
       "/* on hover */\n",
       "#sk-container-id-1 div.sk-estimator:hover {\n",
       "  /* unfitted */\n",
       "  background-color: var(--sklearn-color-unfitted-level-2);\n",
       "}\n",
       "\n",
       "#sk-container-id-1 div.sk-estimator.fitted:hover {\n",
       "  /* fitted */\n",
       "  background-color: var(--sklearn-color-fitted-level-2);\n",
       "}\n",
       "\n",
       "/* Specification for estimator info (e.g. \"i\" and \"?\") */\n",
       "\n",
       "/* Common style for \"i\" and \"?\" */\n",
       "\n",
       ".sk-estimator-doc-link,\n",
       "a:link.sk-estimator-doc-link,\n",
       "a:visited.sk-estimator-doc-link {\n",
       "  float: right;\n",
       "  font-size: smaller;\n",
       "  line-height: 1em;\n",
       "  font-family: monospace;\n",
       "  background-color: var(--sklearn-color-background);\n",
       "  border-radius: 1em;\n",
       "  height: 1em;\n",
       "  width: 1em;\n",
       "  text-decoration: none !important;\n",
       "  margin-left: 0.5em;\n",
       "  text-align: center;\n",
       "  /* unfitted */\n",
       "  border: var(--sklearn-color-unfitted-level-1) 1pt solid;\n",
       "  color: var(--sklearn-color-unfitted-level-1);\n",
       "}\n",
       "\n",
       ".sk-estimator-doc-link.fitted,\n",
       "a:link.sk-estimator-doc-link.fitted,\n",
       "a:visited.sk-estimator-doc-link.fitted {\n",
       "  /* fitted */\n",
       "  border: var(--sklearn-color-fitted-level-1) 1pt solid;\n",
       "  color: var(--sklearn-color-fitted-level-1);\n",
       "}\n",
       "\n",
       "/* On hover */\n",
       "div.sk-estimator:hover .sk-estimator-doc-link:hover,\n",
       ".sk-estimator-doc-link:hover,\n",
       "div.sk-label-container:hover .sk-estimator-doc-link:hover,\n",
       ".sk-estimator-doc-link:hover {\n",
       "  /* unfitted */\n",
       "  background-color: var(--sklearn-color-unfitted-level-3);\n",
       "  color: var(--sklearn-color-background);\n",
       "  text-decoration: none;\n",
       "}\n",
       "\n",
       "div.sk-estimator.fitted:hover .sk-estimator-doc-link.fitted:hover,\n",
       ".sk-estimator-doc-link.fitted:hover,\n",
       "div.sk-label-container:hover .sk-estimator-doc-link.fitted:hover,\n",
       ".sk-estimator-doc-link.fitted:hover {\n",
       "  /* fitted */\n",
       "  background-color: var(--sklearn-color-fitted-level-3);\n",
       "  color: var(--sklearn-color-background);\n",
       "  text-decoration: none;\n",
       "}\n",
       "\n",
       "/* Span, style for the box shown on hovering the info icon */\n",
       ".sk-estimator-doc-link span {\n",
       "  display: none;\n",
       "  z-index: 9999;\n",
       "  position: relative;\n",
       "  font-weight: normal;\n",
       "  right: .2ex;\n",
       "  padding: .5ex;\n",
       "  margin: .5ex;\n",
       "  width: min-content;\n",
       "  min-width: 20ex;\n",
       "  max-width: 50ex;\n",
       "  color: var(--sklearn-color-text);\n",
       "  box-shadow: 2pt 2pt 4pt #999;\n",
       "  /* unfitted */\n",
       "  background: var(--sklearn-color-unfitted-level-0);\n",
       "  border: .5pt solid var(--sklearn-color-unfitted-level-3);\n",
       "}\n",
       "\n",
       ".sk-estimator-doc-link.fitted span {\n",
       "  /* fitted */\n",
       "  background: var(--sklearn-color-fitted-level-0);\n",
       "  border: var(--sklearn-color-fitted-level-3);\n",
       "}\n",
       "\n",
       ".sk-estimator-doc-link:hover span {\n",
       "  display: block;\n",
       "}\n",
       "\n",
       "/* \"?\"-specific style due to the `<a>` HTML tag */\n",
       "\n",
       "#sk-container-id-1 a.estimator_doc_link {\n",
       "  float: right;\n",
       "  font-size: 1rem;\n",
       "  line-height: 1em;\n",
       "  font-family: monospace;\n",
       "  background-color: var(--sklearn-color-background);\n",
       "  border-radius: 1rem;\n",
       "  height: 1rem;\n",
       "  width: 1rem;\n",
       "  text-decoration: none;\n",
       "  /* unfitted */\n",
       "  color: var(--sklearn-color-unfitted-level-1);\n",
       "  border: var(--sklearn-color-unfitted-level-1) 1pt solid;\n",
       "}\n",
       "\n",
       "#sk-container-id-1 a.estimator_doc_link.fitted {\n",
       "  /* fitted */\n",
       "  border: var(--sklearn-color-fitted-level-1) 1pt solid;\n",
       "  color: var(--sklearn-color-fitted-level-1);\n",
       "}\n",
       "\n",
       "/* On hover */\n",
       "#sk-container-id-1 a.estimator_doc_link:hover {\n",
       "  /* unfitted */\n",
       "  background-color: var(--sklearn-color-unfitted-level-3);\n",
       "  color: var(--sklearn-color-background);\n",
       "  text-decoration: none;\n",
       "}\n",
       "\n",
       "#sk-container-id-1 a.estimator_doc_link.fitted:hover {\n",
       "  /* fitted */\n",
       "  background-color: var(--sklearn-color-fitted-level-3);\n",
       "}\n",
       "</style><div id=\"sk-container-id-1\" class=\"sk-top-container\"><div class=\"sk-text-repr-fallback\"><pre>LGBMRegressor(learning_rate=0.05, max_depth=10, random_state=42)</pre><b>In a Jupyter environment, please rerun this cell to show the HTML representation or trust the notebook. <br />On GitHub, the HTML representation is unable to render, please try loading this page with nbviewer.org.</b></div><div class=\"sk-container\" hidden><div class=\"sk-item\"><div class=\"sk-estimator fitted sk-toggleable\"><input class=\"sk-toggleable__control sk-hidden--visually\" id=\"sk-estimator-id-1\" type=\"checkbox\" checked><label for=\"sk-estimator-id-1\" class=\"sk-toggleable__label fitted sk-toggleable__label-arrow\"><div><div>LGBMRegressor</div></div><div><span class=\"sk-estimator-doc-link fitted\">i<span>Fitted</span></span></div></label><div class=\"sk-toggleable__content fitted\"><pre>LGBMRegressor(learning_rate=0.05, max_depth=10, random_state=42)</pre></div> </div></div></div></div>"
      ],
      "text/plain": [
       "LGBMRegressor(learning_rate=0.05, max_depth=10, random_state=42)"
      ]
     },
     "execution_count": 27,
     "metadata": {},
     "output_type": "execute_result"
    }
   ],
   "source": [
    "final_model_lgbm = LGBMRegressor(max_depth=10,\n",
    "                                 learning_rate=0.05,\n",
    "                                 random_state=RANDOM_STATE)\n",
    "final_model_lgbm.fit(X_train, y_train)"
   ]
  },
  {
   "cell_type": "markdown",
   "metadata": {},
   "source": [
    "## Тестирование"
   ]
  },
  {
   "cell_type": "code",
   "execution_count": 28,
   "metadata": {},
   "outputs": [
    {
     "name": "stdout",
     "output_type": "stream",
     "text": [
      "LGBMRegressor: 46.32013659565132\n"
     ]
    }
   ],
   "source": [
    "print(\"LGBMRegressor:\", np.sqrt(mean_squared_error(y_test,\n",
    "                                                    final_model_lgbm.predict(X_test))))"
   ]
  },
  {
   "cell_type": "markdown",
   "metadata": {},
   "source": [
    "Значение метрики RMSE на тестовой выборке меньше 48"
   ]
  },
  {
   "cell_type": "markdown",
   "metadata": {},
   "source": [
    "Проанализируем распределение и дисперсию остатков модели"
   ]
  },
  {
   "cell_type": "code",
   "execution_count": 29,
   "metadata": {},
   "outputs": [],
   "source": [
    "result = y_test.to_frame().reset_index()\n",
    "result['pred'] = pd.Series(final_model_lgbm.predict(X_test))\n",
    "result.set_index('datetime', inplace=True)"
   ]
  },
  {
   "cell_type": "code",
   "execution_count": 30,
   "metadata": {},
   "outputs": [
    {
     "data": {
      "image/png": "[encoded data removed]",
      "text/plain": [
       "<Figure size 1080x576 with 2 Axes>"
      ]
     },
     "metadata": {
      "needs_background": "light"
     },
     "output_type": "display_data"
    }
   ],
   "source": [
    "residuals = result['num_orders'] - result['pred']\n",
    "    \n",
    "fig, axes = plt.subplots(nrows=1, ncols=2, figsize=(15, 8))\n",
    "axes[0].hist(residuals, bins=80, edgecolor='black')\n",
    "zero = axes[0].vlines(x=0, colors='red', ymin=0, ymax=30, linestyles='--', label='Нулевая отметка')\n",
    "median = axes[0].vlines(x=residuals.median(), colors='black', ymin=0, ymax=25, label='Смещение медианы')\n",
    "axes[0].legend()\n",
    "axes[0].set_title('Гистограмма распределения остатков')\n",
    "axes[0].set_xlabel('Остатки')\n",
    "\n",
    "axes[1].scatter(result['num_orders'], residuals, alpha=0.5)\n",
    "axes[1].set_xlabel('Предсказания модели')\n",
    "axes[1].set_ylabel('Остатки')\n",
    "axes[1].set_title('Анализ дисперсии')\n",
    "plt.show()"
   ]
  },
  {
   "cell_type": "markdown",
   "metadata": {},
   "source": [
    "Распределение остатков модели приближается к нормальному, что является благоприятным признаком. Наблюдается незначительное смещение медианы остатков в положительную сторону. Анализ дисперсии остатков показывает, что для предсказаний до 150 заказов дисперсия остается относительно случайной, в то время как при значениях более 150 наблюдается тенденция к увеличению ошибки в положительную сторону. Это указывает на то, что модель имеет тенденцию занижать предсказания для высоких значений тестовой выборки."
   ]
  },
  {
   "cell_type": "code",
   "execution_count": 31,
   "metadata": {},
   "outputs": [
    {
     "data": {
      "image/png": "[encoded data removed]",
      "text/plain": [
       "<Figure size 1080x288 with 1 Axes>"
      ]
     },
     "metadata": {},
     "output_type": "display_data"
    }
   ],
   "source": [
    "sns.set(rc={'figure.figsize':(15,4)})\n",
    "result.plot()\n",
    "plt.title('Фактические и предсказанные значения заказов')\n",
    "plt.xlabel('Время')\n",
    "plt.ylabel('Количество заказов')\n",
    "plt.legend()\n",
    "\n",
    "plt.grid(axis='y', linestyle='--', alpha=0.7)\n",
    "plt.box(False)\n",
    "\n",
    "plt.show()"
   ]
  },
  {
   "cell_type": "markdown",
   "metadata": {},
   "source": [
    "Наблюдается, что модель смогла уловить временные паттерны в спросе. Вместе с тем, мы вновь сталкиваемся с тем, что модель систематически занижает прогнозы для больших значений теста."
   ]
  },
  {
   "cell_type": "markdown",
   "metadata": {},
   "source": [
    "Рекомендации по улучшению модели:\n",
    "\n",
    "* Введение дополнительных признаков, специфичных для высоких значений: Можно попробовать добавить признаки, которые могут быть связаны с высоким спросом, например, наличие праздников, акций, особых дней недели и т.д. Это позволит модели учитывать контекст, когда спрос обычно выше.\n",
    "* Более тщательный подбор гиперпараметров: Провести более широкий поиск гиперпараметров. "
   ]
  }
 ],
 "metadata": {
  "ExecuteTimeLog": [
   {
    "duration": 440,
    "start_time": "2024-12-25T16:01:53.188Z"
   },
   {
    "duration": 72,
    "start_time": "2024-12-25T16:02:38.490Z"
   },
   {
    "duration": 3,
    "start_time": "2024-12-25T16:02:42.378Z"
   },
   {
    "duration": 6032,
    "start_time": "2024-12-25T16:06:23.498Z"
   },
   {
    "duration": 3,
    "start_time": "2024-12-25T16:06:29.533Z"
   },
   {
    "duration": 222,
    "start_time": "2024-12-25T16:06:29.538Z"
   },
   {
    "duration": 13,
    "start_time": "2024-12-25T16:06:29.762Z"
   },
   {
    "duration": 85,
    "start_time": "2024-12-25T16:08:47.012Z"
   },
   {
    "duration": 9,
    "start_time": "2024-12-25T16:08:47.796Z"
   },
   {
    "duration": 16,
    "start_time": "2024-12-25T16:09:15.952Z"
   },
   {
    "duration": 18,
    "start_time": "2024-12-25T16:10:22.449Z"
   },
   {
    "duration": 5490,
    "start_time": "2024-12-25T16:11:29.370Z"
   },
   {
    "duration": 4,
    "start_time": "2024-12-25T16:11:34.863Z"
   },
   {
    "duration": 261,
    "start_time": "2024-12-25T16:11:34.869Z"
   },
   {
    "duration": 0,
    "start_time": "2024-12-25T16:11:35.132Z"
   },
   {
    "duration": 0,
    "start_time": "2024-12-25T16:11:35.133Z"
   },
   {
    "duration": 0,
    "start_time": "2024-12-25T16:11:35.134Z"
   },
   {
    "duration": 106,
    "start_time": "2024-12-25T16:11:41.108Z"
   },
   {
    "duration": 16,
    "start_time": "2024-12-25T16:11:43.037Z"
   },
   {
    "duration": 13,
    "start_time": "2024-12-25T16:11:48.971Z"
   },
   {
    "duration": 20,
    "start_time": "2024-12-25T16:11:53.193Z"
   },
   {
    "duration": 93,
    "start_time": "2024-12-25T16:35:15.376Z"
   },
   {
    "duration": 14,
    "start_time": "2024-12-25T16:35:15.937Z"
   },
   {
    "duration": 5105,
    "start_time": "2024-12-25T16:35:30.115Z"
   },
   {
    "duration": 4,
    "start_time": "2024-12-25T16:35:35.223Z"
   },
   {
    "duration": 134,
    "start_time": "2024-12-25T16:35:35.229Z"
   },
   {
    "duration": 141,
    "start_time": "2024-12-25T16:35:35.365Z"
   },
   {
    "duration": 0,
    "start_time": "2024-12-25T16:35:35.508Z"
   },
   {
    "duration": 0,
    "start_time": "2024-12-25T16:35:35.510Z"
   },
   {
    "duration": 8,
    "start_time": "2024-12-25T16:35:47.682Z"
   },
   {
    "duration": 95,
    "start_time": "2024-12-25T16:35:57.709Z"
   },
   {
    "duration": 16,
    "start_time": "2024-12-25T16:35:58.877Z"
   },
   {
    "duration": 9,
    "start_time": "2024-12-25T16:36:06.697Z"
   },
   {
    "duration": 5361,
    "start_time": "2024-12-25T16:38:11.536Z"
   },
   {
    "duration": 4,
    "start_time": "2024-12-25T16:38:16.900Z"
   },
   {
    "duration": 107,
    "start_time": "2024-12-25T16:38:16.906Z"
   },
   {
    "duration": 15,
    "start_time": "2024-12-25T16:38:17.015Z"
   },
   {
    "duration": 14,
    "start_time": "2024-12-25T16:38:17.033Z"
   },
   {
    "duration": 27,
    "start_time": "2024-12-25T16:38:17.049Z"
   },
   {
    "duration": 11,
    "start_time": "2024-12-25T16:38:17.078Z"
   },
   {
    "duration": 182,
    "start_time": "2024-12-25T16:39:07.826Z"
   },
   {
    "duration": 375,
    "start_time": "2024-12-25T16:39:12.894Z"
   },
   {
    "duration": 310,
    "start_time": "2024-12-25T16:40:34.085Z"
   },
   {
    "duration": 389,
    "start_time": "2024-12-25T16:41:18.776Z"
   },
   {
    "duration": 287,
    "start_time": "2024-12-25T16:42:33.679Z"
   },
   {
    "duration": 284,
    "start_time": "2024-12-25T16:42:48.544Z"
   },
   {
    "duration": 285,
    "start_time": "2024-12-25T16:42:52.345Z"
   },
   {
    "duration": 3497,
    "start_time": "2024-12-25T16:45:34.221Z"
   },
   {
    "duration": 647,
    "start_time": "2024-12-25T16:46:27.133Z"
   },
   {
    "duration": 535,
    "start_time": "2024-12-25T16:49:13.808Z"
   },
   {
    "duration": 472,
    "start_time": "2024-12-25T16:49:38.636Z"
   },
   {
    "duration": 579,
    "start_time": "2024-12-25T16:50:29.472Z"
   },
   {
    "duration": 527,
    "start_time": "2024-12-25T16:51:05.219Z"
   },
   {
    "duration": 542,
    "start_time": "2024-12-25T16:51:16.990Z"
   },
   {
    "duration": 535,
    "start_time": "2024-12-25T16:51:56.913Z"
   },
   {
    "duration": 612,
    "start_time": "2024-12-25T16:52:31.668Z"
   },
   {
    "duration": 553,
    "start_time": "2024-12-25T16:52:59.006Z"
   },
   {
    "duration": 385,
    "start_time": "2024-12-25T16:53:40.275Z"
   },
   {
    "duration": 380,
    "start_time": "2024-12-25T16:53:49.683Z"
   },
   {
    "duration": 448,
    "start_time": "2024-12-25T16:54:11.389Z"
   },
   {
    "duration": 393,
    "start_time": "2024-12-25T16:54:19.514Z"
   },
   {
    "duration": 5446,
    "start_time": "2024-12-25T16:57:51.714Z"
   },
   {
    "duration": 3,
    "start_time": "2024-12-25T16:57:57.163Z"
   },
   {
    "duration": 91,
    "start_time": "2024-12-25T16:57:57.169Z"
   },
   {
    "duration": 13,
    "start_time": "2024-12-25T16:57:57.263Z"
   },
   {
    "duration": 15,
    "start_time": "2024-12-25T16:57:57.278Z"
   },
   {
    "duration": 15,
    "start_time": "2024-12-25T16:57:57.297Z"
   },
   {
    "duration": 10,
    "start_time": "2024-12-25T16:57:57.314Z"
   },
   {
    "duration": 171,
    "start_time": "2024-12-25T16:57:57.326Z"
   },
   {
    "duration": 0,
    "start_time": "2024-12-25T16:57:57.499Z"
   },
   {
    "duration": 0,
    "start_time": "2024-12-25T16:57:57.500Z"
   },
   {
    "duration": 5058,
    "start_time": "2024-12-25T16:58:23.040Z"
   },
   {
    "duration": 3,
    "start_time": "2024-12-25T16:58:28.100Z"
   },
   {
    "duration": 105,
    "start_time": "2024-12-25T16:58:28.105Z"
   },
   {
    "duration": 12,
    "start_time": "2024-12-25T16:58:28.212Z"
   },
   {
    "duration": 33,
    "start_time": "2024-12-25T16:58:28.226Z"
   },
   {
    "duration": 37,
    "start_time": "2024-12-25T16:58:28.261Z"
   },
   {
    "duration": 64,
    "start_time": "2024-12-25T16:58:28.300Z"
   },
   {
    "duration": 35,
    "start_time": "2024-12-25T16:58:28.367Z"
   },
   {
    "duration": 5,
    "start_time": "2024-12-25T16:58:28.403Z"
   },
   {
    "duration": 1330,
    "start_time": "2024-12-25T16:58:28.411Z"
   },
   {
    "duration": 6,
    "start_time": "2024-12-25T16:59:01.303Z"
   },
   {
    "duration": 1238,
    "start_time": "2024-12-25T16:59:01.740Z"
   },
   {
    "duration": 9,
    "start_time": "2024-12-25T16:59:33.138Z"
   },
   {
    "duration": 5,
    "start_time": "2024-12-25T16:59:59.757Z"
   },
   {
    "duration": 403,
    "start_time": "2024-12-25T17:00:00.394Z"
   },
   {
    "duration": 6,
    "start_time": "2024-12-25T17:02:43.991Z"
   },
   {
    "duration": 253,
    "start_time": "2024-12-25T17:02:44.512Z"
   },
   {
    "duration": 233,
    "start_time": "2024-12-25T17:03:49.236Z"
   },
   {
    "duration": 242,
    "start_time": "2024-12-25T17:04:00.694Z"
   },
   {
    "duration": 315,
    "start_time": "2024-12-25T17:04:52.626Z"
   },
   {
    "duration": 264,
    "start_time": "2024-12-25T17:06:52.063Z"
   },
   {
    "duration": 5565,
    "start_time": "2024-12-25T17:07:40.765Z"
   },
   {
    "duration": 4,
    "start_time": "2024-12-25T17:07:46.334Z"
   },
   {
    "duration": 107,
    "start_time": "2024-12-25T17:07:46.340Z"
   },
   {
    "duration": 14,
    "start_time": "2024-12-25T17:07:46.450Z"
   },
   {
    "duration": 17,
    "start_time": "2024-12-25T17:07:46.466Z"
   },
   {
    "duration": 17,
    "start_time": "2024-12-25T17:07:46.485Z"
   },
   {
    "duration": 10,
    "start_time": "2024-12-25T17:07:46.504Z"
   },
   {
    "duration": 45,
    "start_time": "2024-12-25T17:07:46.516Z"
   },
   {
    "duration": 10,
    "start_time": "2024-12-25T17:07:46.563Z"
   },
   {
    "duration": 10,
    "start_time": "2024-12-25T17:07:46.577Z"
   },
   {
    "duration": 403,
    "start_time": "2024-12-25T17:07:46.590Z"
   },
   {
    "duration": 384,
    "start_time": "2024-12-25T17:07:46.996Z"
   },
   {
    "duration": 331,
    "start_time": "2024-12-25T17:07:47.383Z"
   },
   {
    "duration": 5403,
    "start_time": "2024-12-25T17:08:14.498Z"
   },
   {
    "duration": 5,
    "start_time": "2024-12-25T17:08:19.903Z"
   },
   {
    "duration": 101,
    "start_time": "2024-12-25T17:08:19.911Z"
   },
   {
    "duration": 14,
    "start_time": "2024-12-25T17:08:20.015Z"
   },
   {
    "duration": 39,
    "start_time": "2024-12-25T17:08:20.031Z"
   },
   {
    "duration": 34,
    "start_time": "2024-12-25T17:08:20.073Z"
   },
   {
    "duration": 12,
    "start_time": "2024-12-25T17:08:20.110Z"
   },
   {
    "duration": 10,
    "start_time": "2024-12-25T17:08:20.125Z"
   },
   {
    "duration": 25,
    "start_time": "2024-12-25T17:08:20.137Z"
   },
   {
    "duration": 14,
    "start_time": "2024-12-25T17:08:20.165Z"
   },
   {
    "duration": 393,
    "start_time": "2024-12-25T17:08:20.181Z"
   },
   {
    "duration": 407,
    "start_time": "2024-12-25T17:08:20.576Z"
   },
   {
    "duration": 300,
    "start_time": "2024-12-25T17:08:20.985Z"
   },
   {
    "duration": 282,
    "start_time": "2024-12-25T17:09:49.161Z"
   },
   {
    "duration": 13111,
    "start_time": "2024-12-26T16:40:19.219Z"
   },
   {
    "duration": 3,
    "start_time": "2024-12-26T16:40:32.332Z"
   },
   {
    "duration": 162,
    "start_time": "2024-12-26T16:40:32.337Z"
   },
   {
    "duration": 11,
    "start_time": "2024-12-26T16:40:32.501Z"
   },
   {
    "duration": 20,
    "start_time": "2024-12-26T16:40:32.514Z"
   },
   {
    "duration": 13,
    "start_time": "2024-12-26T16:40:32.536Z"
   },
   {
    "duration": 19,
    "start_time": "2024-12-26T16:40:32.551Z"
   },
   {
    "duration": 582,
    "start_time": "2024-12-26T16:40:32.572Z"
   },
   {
    "duration": 0,
    "start_time": "2024-12-26T16:40:33.156Z"
   },
   {
    "duration": 0,
    "start_time": "2024-12-26T16:40:33.157Z"
   },
   {
    "duration": 0,
    "start_time": "2024-12-26T16:40:33.158Z"
   },
   {
    "duration": 0,
    "start_time": "2024-12-26T16:40:33.159Z"
   },
   {
    "duration": 0,
    "start_time": "2024-12-26T16:40:33.160Z"
   },
   {
    "duration": 0,
    "start_time": "2024-12-26T16:40:33.161Z"
   },
   {
    "duration": 0,
    "start_time": "2024-12-26T16:40:33.162Z"
   },
   {
    "duration": 10,
    "start_time": "2024-12-26T16:41:29.967Z"
   },
   {
    "duration": 236,
    "start_time": "2024-12-26T16:41:30.539Z"
   },
   {
    "duration": 8,
    "start_time": "2024-12-26T16:41:35.827Z"
   },
   {
    "duration": 230,
    "start_time": "2024-12-26T16:41:36.255Z"
   },
   {
    "duration": 231,
    "start_time": "2024-12-26T16:41:39.828Z"
   },
   {
    "duration": 245,
    "start_time": "2024-12-26T16:41:40.303Z"
   },
   {
    "duration": 256,
    "start_time": "2024-12-26T16:41:43.127Z"
   },
   {
    "duration": 4624,
    "start_time": "2024-12-26T16:44:48.336Z"
   },
   {
    "duration": 2,
    "start_time": "2024-12-26T16:44:52.963Z"
   },
   {
    "duration": 163,
    "start_time": "2024-12-26T16:44:52.967Z"
   },
   {
    "duration": 10,
    "start_time": "2024-12-26T16:44:53.132Z"
   },
   {
    "duration": 37,
    "start_time": "2024-12-26T16:44:53.144Z"
   },
   {
    "duration": 13,
    "start_time": "2024-12-26T16:44:53.183Z"
   },
   {
    "duration": 16,
    "start_time": "2024-12-26T16:44:53.197Z"
   },
   {
    "duration": 4,
    "start_time": "2024-12-26T16:44:53.215Z"
   },
   {
    "duration": 37,
    "start_time": "2024-12-26T16:44:53.221Z"
   },
   {
    "duration": 382,
    "start_time": "2024-12-26T16:44:53.260Z"
   },
   {
    "duration": 322,
    "start_time": "2024-12-26T16:44:53.643Z"
   },
   {
    "duration": 222,
    "start_time": "2024-12-26T16:44:53.967Z"
   },
   {
    "duration": 246,
    "start_time": "2024-12-26T16:44:54.191Z"
   },
   {
    "duration": 1442,
    "start_time": "2024-12-26T16:47:17.575Z"
   },
   {
    "duration": 16,
    "start_time": "2024-12-26T16:47:38.364Z"
   },
   {
    "duration": 5,
    "start_time": "2024-12-26T16:50:29.889Z"
   },
   {
    "duration": 3,
    "start_time": "2024-12-26T16:51:40.199Z"
   },
   {
    "duration": 13,
    "start_time": "2024-12-26T16:51:40.564Z"
   },
   {
    "duration": 9,
    "start_time": "2024-12-26T17:00:10.527Z"
   },
   {
    "duration": 6,
    "start_time": "2024-12-26T17:00:53.663Z"
   },
   {
    "duration": 14,
    "start_time": "2024-12-26T17:01:09.206Z"
   },
   {
    "duration": 9,
    "start_time": "2024-12-26T17:02:11.008Z"
   },
   {
    "duration": 14,
    "start_time": "2024-12-26T17:02:28.215Z"
   },
   {
    "duration": 7,
    "start_time": "2024-12-26T17:02:40.720Z"
   },
   {
    "duration": 16,
    "start_time": "2024-12-26T17:04:20.890Z"
   },
   {
    "duration": 8,
    "start_time": "2024-12-26T17:04:27.075Z"
   },
   {
    "duration": 9,
    "start_time": "2024-12-26T17:04:48.413Z"
   },
   {
    "duration": 10,
    "start_time": "2024-12-26T17:06:04.654Z"
   },
   {
    "duration": 5180,
    "start_time": "2024-12-26T17:16:03.416Z"
   },
   {
    "duration": 88,
    "start_time": "2024-12-26T17:17:04.623Z"
   },
   {
    "duration": 958,
    "start_time": "2024-12-26T17:17:13.415Z"
   },
   {
    "duration": 945,
    "start_time": "2024-12-26T17:17:26.430Z"
   },
   {
    "duration": 912,
    "start_time": "2024-12-26T17:17:35.737Z"
   },
   {
    "duration": 901,
    "start_time": "2024-12-26T17:18:38.268Z"
   },
   {
    "duration": 54,
    "start_time": "2024-12-26T17:21:42.918Z"
   },
   {
    "duration": 17,
    "start_time": "2024-12-26T17:21:49.827Z"
   },
   {
    "duration": 8,
    "start_time": "2024-12-26T17:21:53.626Z"
   },
   {
    "duration": 9986,
    "start_time": "2024-12-28T11:56:48.443Z"
   },
   {
    "duration": 3,
    "start_time": "2024-12-28T11:56:58.431Z"
   },
   {
    "duration": 232,
    "start_time": "2024-12-28T11:56:58.436Z"
   },
   {
    "duration": 13,
    "start_time": "2024-12-28T11:56:58.670Z"
   },
   {
    "duration": 13,
    "start_time": "2024-12-28T11:56:58.685Z"
   },
   {
    "duration": 15,
    "start_time": "2024-12-28T11:56:58.700Z"
   },
   {
    "duration": 11,
    "start_time": "2024-12-28T11:56:58.716Z"
   },
   {
    "duration": 5,
    "start_time": "2024-12-28T11:56:58.728Z"
   },
   {
    "duration": 8,
    "start_time": "2024-12-28T11:56:58.759Z"
   },
   {
    "duration": 360,
    "start_time": "2024-12-28T11:56:58.771Z"
   },
   {
    "duration": 352,
    "start_time": "2024-12-28T11:56:59.133Z"
   },
   {
    "duration": 248,
    "start_time": "2024-12-28T11:56:59.487Z"
   },
   {
    "duration": 282,
    "start_time": "2024-12-28T11:56:59.736Z"
   },
   {
    "duration": 5,
    "start_time": "2024-12-28T11:57:00.020Z"
   },
   {
    "duration": 10,
    "start_time": "2024-12-28T11:57:00.027Z"
   },
   {
    "duration": 67,
    "start_time": "2024-12-28T11:57:00.039Z"
   },
   {
    "duration": 42,
    "start_time": "2024-12-28T11:57:00.108Z"
   },
   {
    "duration": 50,
    "start_time": "2024-12-28T11:57:00.152Z"
   },
   {
    "duration": 32,
    "start_time": "2024-12-28T11:57:00.204Z"
   },
   {
    "duration": 1025,
    "start_time": "2024-12-28T11:57:00.238Z"
   },
   {
    "duration": 20,
    "start_time": "2024-12-28T11:57:01.266Z"
   },
   {
    "duration": 44,
    "start_time": "2024-12-28T11:57:01.289Z"
   },
   {
    "duration": 19,
    "start_time": "2024-12-28T11:57:01.335Z"
   },
   {
    "duration": 64995,
    "start_time": "2024-12-28T12:13:18.347Z"
   },
   {
    "duration": 802,
    "start_time": "2024-12-28T12:32:06.408Z"
   },
   {
    "duration": 8,
    "start_time": "2024-12-28T12:32:08.881Z"
   },
   {
    "duration": 3,
    "start_time": "2024-12-28T12:33:16.079Z"
   },
   {
    "duration": 129,
    "start_time": "2024-12-28T12:33:23.071Z"
   },
   {
    "duration": 12,
    "start_time": "2024-12-28T12:33:27.576Z"
   },
   {
    "duration": 11,
    "start_time": "2024-12-28T12:34:38.800Z"
   },
   {
    "duration": 3,
    "start_time": "2024-12-28T12:34:42.784Z"
   },
   {
    "duration": 4,
    "start_time": "2024-12-28T12:34:44.309Z"
   },
   {
    "duration": 4,
    "start_time": "2024-12-28T12:34:48.628Z"
   },
   {
    "duration": 5,
    "start_time": "2024-12-28T12:35:34.215Z"
   },
   {
    "duration": 4,
    "start_time": "2024-12-28T12:35:37.413Z"
   },
   {
    "duration": 3,
    "start_time": "2024-12-28T12:35:58.526Z"
   },
   {
    "duration": 4,
    "start_time": "2024-12-28T12:36:00.884Z"
   },
   {
    "duration": 4,
    "start_time": "2024-12-28T13:12:31.359Z"
   },
   {
    "duration": 6,
    "start_time": "2024-12-28T13:14:46.038Z"
   },
   {
    "duration": 66144,
    "start_time": "2024-12-28T13:15:19.424Z"
   },
   {
    "duration": 75,
    "start_time": "2024-12-28T13:20:03.786Z"
   },
   {
    "duration": 63,
    "start_time": "2024-12-28T13:28:45.626Z"
   },
   {
    "duration": 8,
    "start_time": "2024-12-28T13:28:51.222Z"
   },
   {
    "duration": 973,
    "start_time": "2024-12-28T13:33:27.619Z"
   },
   {
    "duration": 936,
    "start_time": "2024-12-28T13:33:51.835Z"
   },
   {
    "duration": 68196,
    "start_time": "2024-12-28T13:35:25.864Z"
   },
   {
    "duration": 1838,
    "start_time": "2024-12-28T13:37:58.601Z"
   },
   {
    "duration": 1973,
    "start_time": "2024-12-28T13:38:56.098Z"
   },
   {
    "duration": 961,
    "start_time": "2024-12-28T13:40:43.711Z"
   },
   {
    "duration": 952,
    "start_time": "2024-12-28T13:41:09.278Z"
   },
   {
    "duration": 932,
    "start_time": "2024-12-28T13:41:24.691Z"
   },
   {
    "duration": 69908,
    "start_time": "2024-12-28T13:43:29.938Z"
   },
   {
    "duration": 65,
    "start_time": "2024-12-28T13:46:49.169Z"
   },
   {
    "duration": 67658,
    "start_time": "2024-12-28T13:46:50.482Z"
   },
   {
    "duration": 13,
    "start_time": "2024-12-28T13:49:35.177Z"
   },
   {
    "duration": 3,
    "start_time": "2024-12-28T13:52:40.601Z"
   },
   {
    "duration": 6,
    "start_time": "2024-12-28T13:52:55.690Z"
   },
   {
    "duration": 5,
    "start_time": "2024-12-28T13:53:00.615Z"
   },
   {
    "duration": 990,
    "start_time": "2024-12-28T13:53:01.173Z"
   },
   {
    "duration": 4,
    "start_time": "2024-12-28T13:54:22.418Z"
   },
   {
    "duration": 976,
    "start_time": "2024-12-28T13:54:23.338Z"
   },
   {
    "duration": 5,
    "start_time": "2024-12-28T13:54:46.174Z"
   },
   {
    "duration": 962,
    "start_time": "2024-12-28T13:54:46.676Z"
   },
   {
    "duration": 4,
    "start_time": "2024-12-28T13:56:51.381Z"
   },
   {
    "duration": 67454,
    "start_time": "2024-12-28T13:56:52.647Z"
   },
   {
    "duration": 5,
    "start_time": "2024-12-28T13:58:26.225Z"
   },
   {
    "duration": 90403,
    "start_time": "2024-12-28T13:58:26.964Z"
   },
   {
    "duration": 18,
    "start_time": "2024-12-28T14:02:04.794Z"
   },
   {
    "duration": 8,
    "start_time": "2024-12-28T14:02:11.493Z"
   },
   {
    "duration": 796,
    "start_time": "2024-12-28T14:02:31.869Z"
   },
   {
    "duration": 8,
    "start_time": "2024-12-28T14:02:35.677Z"
   },
   {
    "duration": 436,
    "start_time": "2024-12-28T14:03:47.730Z"
   },
   {
    "duration": 23,
    "start_time": "2024-12-28T14:04:30.177Z"
   },
   {
    "duration": 508,
    "start_time": "2024-12-28T14:04:33.259Z"
   },
   {
    "duration": 13,
    "start_time": "2024-12-28T14:04:34.627Z"
   },
   {
    "duration": 13,
    "start_time": "2024-12-28T14:10:27.281Z"
   },
   {
    "duration": 13,
    "start_time": "2024-12-28T14:12:34.316Z"
   },
   {
    "duration": 65,
    "start_time": "2024-12-28T14:18:32.546Z"
   },
   {
    "duration": 265,
    "start_time": "2024-12-28T14:18:37.851Z"
   },
   {
    "duration": 19,
    "start_time": "2024-12-28T14:18:51.026Z"
   },
   {
    "duration": 7,
    "start_time": "2024-12-28T14:19:16.972Z"
   },
   {
    "duration": 16,
    "start_time": "2024-12-28T14:19:30.985Z"
   },
   {
    "duration": 18,
    "start_time": "2024-12-28T14:19:59.900Z"
   },
   {
    "duration": 14,
    "start_time": "2024-12-28T14:20:08.987Z"
   },
   {
    "duration": 17,
    "start_time": "2024-12-28T14:20:56.226Z"
   },
   {
    "duration": 16,
    "start_time": "2024-12-28T14:21:21.972Z"
   },
   {
    "duration": 10,
    "start_time": "2024-12-28T14:21:42.109Z"
   },
   {
    "duration": 7,
    "start_time": "2024-12-28T14:23:12.283Z"
   },
   {
    "duration": 17,
    "start_time": "2024-12-28T14:23:21.966Z"
   },
   {
    "duration": 6,
    "start_time": "2024-12-28T14:23:42.538Z"
   },
   {
    "duration": 13,
    "start_time": "2024-12-28T14:25:00.249Z"
   },
   {
    "duration": 19,
    "start_time": "2024-12-28T14:25:12.907Z"
   },
   {
    "duration": 229,
    "start_time": "2024-12-28T14:26:55.656Z"
   },
   {
    "duration": 18,
    "start_time": "2024-12-28T14:29:31.575Z"
   },
   {
    "duration": 23,
    "start_time": "2024-12-28T14:30:09.139Z"
   },
   {
    "duration": 24,
    "start_time": "2024-12-28T14:30:18.666Z"
   },
   {
    "duration": 21,
    "start_time": "2024-12-28T14:30:32.369Z"
   },
   {
    "duration": 18,
    "start_time": "2024-12-28T14:30:44.021Z"
   },
   {
    "duration": 23,
    "start_time": "2024-12-28T14:31:23.173Z"
   },
   {
    "duration": 22,
    "start_time": "2024-12-28T14:31:53.933Z"
   },
   {
    "duration": 3,
    "start_time": "2024-12-28T14:32:50.294Z"
   },
   {
    "duration": 25,
    "start_time": "2024-12-28T14:32:53.983Z"
   },
   {
    "duration": 32,
    "start_time": "2024-12-28T14:33:09.517Z"
   },
   {
    "duration": 26,
    "start_time": "2024-12-28T14:33:19.347Z"
   },
   {
    "duration": 25,
    "start_time": "2024-12-28T14:33:48.429Z"
   },
   {
    "duration": 214,
    "start_time": "2024-12-28T14:35:27.636Z"
   },
   {
    "duration": 25,
    "start_time": "2024-12-28T14:40:08.499Z"
   },
   {
    "duration": 3,
    "start_time": "2024-12-28T14:40:16.576Z"
   },
   {
    "duration": 26,
    "start_time": "2024-12-28T14:40:18.657Z"
   },
   {
    "duration": 9,
    "start_time": "2024-12-28T14:40:46.884Z"
   },
   {
    "duration": 26,
    "start_time": "2024-12-28T14:40:52.293Z"
   },
   {
    "duration": 20,
    "start_time": "2024-12-28T14:41:26.429Z"
   },
   {
    "duration": 20,
    "start_time": "2024-12-28T14:41:51.022Z"
   },
   {
    "duration": 282,
    "start_time": "2024-12-28T14:42:12.487Z"
   },
   {
    "duration": 234,
    "start_time": "2024-12-28T14:43:19.311Z"
   },
   {
    "duration": 264,
    "start_time": "2024-12-28T14:48:26.215Z"
   },
   {
    "duration": 325,
    "start_time": "2024-12-28T14:48:33.553Z"
   },
   {
    "duration": 220,
    "start_time": "2024-12-28T14:48:48.206Z"
   },
   {
    "duration": 365,
    "start_time": "2024-12-28T14:50:05.074Z"
   },
   {
    "duration": 222,
    "start_time": "2024-12-28T14:50:58.945Z"
   },
   {
    "duration": 312,
    "start_time": "2024-12-28T14:51:56.053Z"
   },
   {
    "duration": 274,
    "start_time": "2024-12-28T14:52:11.832Z"
   },
   {
    "duration": 230,
    "start_time": "2024-12-28T14:52:54.507Z"
   },
   {
    "duration": 305,
    "start_time": "2024-12-28T14:54:56.384Z"
   },
   {
    "duration": 273,
    "start_time": "2024-12-28T14:57:55.686Z"
   },
   {
    "duration": 24,
    "start_time": "2024-12-28T14:58:57.277Z"
   },
   {
    "duration": 265,
    "start_time": "2024-12-28T14:59:11.584Z"
   },
   {
    "duration": 261,
    "start_time": "2024-12-28T14:59:15.087Z"
   },
   {
    "duration": 271,
    "start_time": "2024-12-28T14:59:24.174Z"
   },
   {
    "duration": 267,
    "start_time": "2024-12-28T14:59:50.771Z"
   },
   {
    "duration": 429,
    "start_time": "2024-12-28T15:02:27.530Z"
   },
   {
    "duration": 149,
    "start_time": "2024-12-28T15:03:31.331Z"
   },
   {
    "duration": 454,
    "start_time": "2024-12-28T15:04:42.892Z"
   },
   {
    "duration": 414,
    "start_time": "2024-12-28T15:06:04.054Z"
   },
   {
    "duration": 453,
    "start_time": "2024-12-28T15:06:22.513Z"
   },
   {
    "duration": 400,
    "start_time": "2024-12-28T15:06:56.404Z"
   },
   {
    "duration": 4682,
    "start_time": "2024-12-28T15:08:48.545Z"
   },
   {
    "duration": 3,
    "start_time": "2024-12-28T15:08:53.230Z"
   },
   {
    "duration": 121,
    "start_time": "2024-12-28T15:08:53.236Z"
   },
   {
    "duration": 14,
    "start_time": "2024-12-28T15:08:53.359Z"
   },
   {
    "duration": 15,
    "start_time": "2024-12-28T15:08:53.376Z"
   },
   {
    "duration": 23,
    "start_time": "2024-12-28T15:08:53.393Z"
   },
   {
    "duration": 10,
    "start_time": "2024-12-28T15:08:53.419Z"
   },
   {
    "duration": 7,
    "start_time": "2024-12-28T15:08:53.430Z"
   },
   {
    "duration": 9,
    "start_time": "2024-12-28T15:08:53.460Z"
   },
   {
    "duration": 349,
    "start_time": "2024-12-28T15:08:53.470Z"
   },
   {
    "duration": 334,
    "start_time": "2024-12-28T15:08:53.821Z"
   },
   {
    "duration": 231,
    "start_time": "2024-12-28T15:08:54.160Z"
   },
   {
    "duration": 257,
    "start_time": "2024-12-28T15:08:54.393Z"
   },
   {
    "duration": 4,
    "start_time": "2024-12-28T15:08:54.661Z"
   },
   {
    "duration": 19,
    "start_time": "2024-12-28T15:08:54.667Z"
   },
   {
    "duration": 28,
    "start_time": "2024-12-28T15:08:54.688Z"
   },
   {
    "duration": 4,
    "start_time": "2024-12-28T15:08:54.717Z"
   },
   {
    "duration": 10,
    "start_time": "2024-12-28T15:08:54.722Z"
   },
   {
    "duration": 13,
    "start_time": "2024-12-28T15:08:54.733Z"
   },
   {
    "duration": 13,
    "start_time": "2024-12-28T15:08:54.748Z"
   },
   {
    "duration": 90613,
    "start_time": "2024-12-28T15:08:54.763Z"
   },
   {
    "duration": 98,
    "start_time": "2024-12-28T15:10:25.378Z"
   },
   {
    "duration": 9,
    "start_time": "2024-12-28T15:10:25.479Z"
   },
   {
    "duration": 797,
    "start_time": "2024-12-28T15:10:25.490Z"
   },
   {
    "duration": 24,
    "start_time": "2024-12-28T15:10:26.289Z"
   },
   {
    "duration": 555,
    "start_time": "2024-12-28T15:10:26.314Z"
   },
   {
    "duration": 92,
    "start_time": "2024-12-28T15:10:26.872Z"
   },
   {
    "duration": 15,
    "start_time": "2024-12-28T15:10:26.966Z"
   },
   {
    "duration": 80,
    "start_time": "2024-12-28T15:10:26.983Z"
   },
   {
    "duration": 13,
    "start_time": "2024-12-28T15:10:27.066Z"
   },
   {
    "duration": 507,
    "start_time": "2024-12-28T15:10:27.082Z"
   },
   {
    "duration": 291,
    "start_time": "2024-12-28T15:10:27.591Z"
   },
   {
    "duration": 921,
    "start_time": "2024-12-28T15:59:00.001Z"
   },
   {
    "duration": 144,
    "start_time": "2024-12-28T15:59:20.195Z"
   },
   {
    "duration": 126,
    "start_time": "2024-12-28T15:59:34.926Z"
   },
   {
    "duration": 4746,
    "start_time": "2024-12-28T16:01:35.284Z"
   },
   {
    "duration": 3,
    "start_time": "2024-12-28T16:01:40.033Z"
   },
   {
    "duration": 109,
    "start_time": "2024-12-28T16:01:40.037Z"
   },
   {
    "duration": 12,
    "start_time": "2024-12-28T16:01:40.148Z"
   },
   {
    "duration": 13,
    "start_time": "2024-12-28T16:01:40.162Z"
   },
   {
    "duration": 14,
    "start_time": "2024-12-28T16:01:40.177Z"
   },
   {
    "duration": 141,
    "start_time": "2024-12-28T16:01:40.193Z"
   },
   {
    "duration": 0,
    "start_time": "2024-12-28T16:01:40.336Z"
   },
   {
    "duration": 0,
    "start_time": "2024-12-28T16:01:40.338Z"
   },
   {
    "duration": 0,
    "start_time": "2024-12-28T16:01:40.339Z"
   },
   {
    "duration": 0,
    "start_time": "2024-12-28T16:01:40.340Z"
   },
   {
    "duration": 0,
    "start_time": "2024-12-28T16:01:40.341Z"
   },
   {
    "duration": 0,
    "start_time": "2024-12-28T16:01:40.342Z"
   },
   {
    "duration": 0,
    "start_time": "2024-12-28T16:01:40.344Z"
   },
   {
    "duration": 0,
    "start_time": "2024-12-28T16:01:40.360Z"
   },
   {
    "duration": 0,
    "start_time": "2024-12-28T16:01:40.361Z"
   },
   {
    "duration": 0,
    "start_time": "2024-12-28T16:01:40.362Z"
   },
   {
    "duration": 0,
    "start_time": "2024-12-28T16:01:40.363Z"
   },
   {
    "duration": 0,
    "start_time": "2024-12-28T16:01:40.364Z"
   },
   {
    "duration": 0,
    "start_time": "2024-12-28T16:01:40.366Z"
   },
   {
    "duration": 0,
    "start_time": "2024-12-28T16:01:40.367Z"
   },
   {
    "duration": 0,
    "start_time": "2024-12-28T16:01:40.368Z"
   },
   {
    "duration": 0,
    "start_time": "2024-12-28T16:01:40.369Z"
   },
   {
    "duration": 0,
    "start_time": "2024-12-28T16:01:40.371Z"
   },
   {
    "duration": 0,
    "start_time": "2024-12-28T16:01:40.371Z"
   },
   {
    "duration": 0,
    "start_time": "2024-12-28T16:01:40.372Z"
   },
   {
    "duration": 0,
    "start_time": "2024-12-28T16:01:40.373Z"
   },
   {
    "duration": 0,
    "start_time": "2024-12-28T16:01:40.375Z"
   },
   {
    "duration": 0,
    "start_time": "2024-12-28T16:01:40.376Z"
   },
   {
    "duration": 0,
    "start_time": "2024-12-28T16:01:40.377Z"
   },
   {
    "duration": 0,
    "start_time": "2024-12-28T16:01:40.378Z"
   },
   {
    "duration": 0,
    "start_time": "2024-12-28T16:01:40.379Z"
   },
   {
    "duration": 203,
    "start_time": "2024-12-28T16:02:25.909Z"
   },
   {
    "duration": 439,
    "start_time": "2024-12-28T16:02:36.547Z"
   },
   {
    "duration": 349,
    "start_time": "2024-12-28T16:02:57.388Z"
   },
   {
    "duration": 12,
    "start_time": "2024-12-28T16:04:20.556Z"
   },
   {
    "duration": 4,
    "start_time": "2024-12-28T16:05:00.766Z"
   },
   {
    "duration": 379,
    "start_time": "2024-12-28T16:05:04.318Z"
   },
   {
    "duration": 5489,
    "start_time": "2024-12-28T16:05:37.759Z"
   },
   {
    "duration": 10,
    "start_time": "2024-12-28T16:05:43.250Z"
   },
   {
    "duration": 114,
    "start_time": "2024-12-28T16:05:43.262Z"
   },
   {
    "duration": 12,
    "start_time": "2024-12-28T16:05:43.378Z"
   },
   {
    "duration": 19,
    "start_time": "2024-12-28T16:05:43.392Z"
   },
   {
    "duration": 15,
    "start_time": "2024-12-28T16:05:43.413Z"
   },
   {
    "duration": 544,
    "start_time": "2024-12-28T16:05:43.430Z"
   },
   {
    "duration": 136,
    "start_time": "2024-12-28T16:05:43.976Z"
   },
   {
    "duration": 0,
    "start_time": "2024-12-28T16:05:44.115Z"
   },
   {
    "duration": 0,
    "start_time": "2024-12-28T16:05:44.117Z"
   },
   {
    "duration": 0,
    "start_time": "2024-12-28T16:05:44.119Z"
   },
   {
    "duration": 0,
    "start_time": "2024-12-28T16:05:44.121Z"
   },
   {
    "duration": 0,
    "start_time": "2024-12-28T16:05:44.122Z"
   },
   {
    "duration": 0,
    "start_time": "2024-12-28T16:05:44.124Z"
   },
   {
    "duration": 0,
    "start_time": "2024-12-28T16:05:44.126Z"
   },
   {
    "duration": 0,
    "start_time": "2024-12-28T16:05:44.128Z"
   },
   {
    "duration": 0,
    "start_time": "2024-12-28T16:05:44.130Z"
   },
   {
    "duration": 0,
    "start_time": "2024-12-28T16:05:44.159Z"
   },
   {
    "duration": 0,
    "start_time": "2024-12-28T16:05:44.161Z"
   },
   {
    "duration": 0,
    "start_time": "2024-12-28T16:05:44.163Z"
   },
   {
    "duration": 0,
    "start_time": "2024-12-28T16:05:44.165Z"
   },
   {
    "duration": 1,
    "start_time": "2024-12-28T16:05:44.166Z"
   },
   {
    "duration": 0,
    "start_time": "2024-12-28T16:05:44.168Z"
   },
   {
    "duration": 0,
    "start_time": "2024-12-28T16:05:44.169Z"
   },
   {
    "duration": 0,
    "start_time": "2024-12-28T16:05:44.171Z"
   },
   {
    "duration": 1,
    "start_time": "2024-12-28T16:05:44.172Z"
   },
   {
    "duration": 0,
    "start_time": "2024-12-28T16:05:44.174Z"
   },
   {
    "duration": 0,
    "start_time": "2024-12-28T16:05:44.176Z"
   },
   {
    "duration": 0,
    "start_time": "2024-12-28T16:05:44.177Z"
   },
   {
    "duration": 0,
    "start_time": "2024-12-28T16:05:44.179Z"
   },
   {
    "duration": 0,
    "start_time": "2024-12-28T16:05:44.180Z"
   },
   {
    "duration": 0,
    "start_time": "2024-12-28T16:05:44.182Z"
   },
   {
    "duration": 0,
    "start_time": "2024-12-28T16:05:44.183Z"
   },
   {
    "duration": 0,
    "start_time": "2024-12-28T16:05:44.185Z"
   },
   {
    "duration": 11,
    "start_time": "2024-12-28T16:07:07.849Z"
   },
   {
    "duration": 4,
    "start_time": "2024-12-28T16:07:11.082Z"
   },
   {
    "duration": 236,
    "start_time": "2024-12-28T16:07:11.624Z"
   },
   {
    "duration": 10,
    "start_time": "2024-12-28T16:07:36.191Z"
   },
   {
    "duration": 5,
    "start_time": "2024-12-28T16:07:39.023Z"
   },
   {
    "duration": 439,
    "start_time": "2024-12-28T16:07:39.747Z"
   },
   {
    "duration": 12,
    "start_time": "2024-12-28T16:07:44.565Z"
   },
   {
    "duration": 6,
    "start_time": "2024-12-28T16:07:47.661Z"
   },
   {
    "duration": 444,
    "start_time": "2024-12-28T16:07:56.060Z"
   },
   {
    "duration": 366,
    "start_time": "2024-12-28T16:08:01.089Z"
   },
   {
    "duration": 4654,
    "start_time": "2024-12-28T16:10:44.660Z"
   },
   {
    "duration": 3,
    "start_time": "2024-12-28T16:10:49.317Z"
   },
   {
    "duration": 126,
    "start_time": "2024-12-28T16:10:49.322Z"
   },
   {
    "duration": 13,
    "start_time": "2024-12-28T16:10:49.450Z"
   },
   {
    "duration": 17,
    "start_time": "2024-12-28T16:10:49.465Z"
   },
   {
    "duration": 13,
    "start_time": "2024-12-28T16:10:49.484Z"
   },
   {
    "duration": 5,
    "start_time": "2024-12-28T16:10:49.499Z"
   },
   {
    "duration": 542,
    "start_time": "2024-12-28T16:10:49.505Z"
   },
   {
    "duration": 14,
    "start_time": "2024-12-28T16:10:50.049Z"
   },
   {
    "duration": 134,
    "start_time": "2024-12-28T16:10:50.064Z"
   },
   {
    "duration": 0,
    "start_time": "2024-12-28T16:10:50.200Z"
   },
   {
    "duration": 0,
    "start_time": "2024-12-28T16:10:50.202Z"
   },
   {
    "duration": 0,
    "start_time": "2024-12-28T16:10:50.203Z"
   },
   {
    "duration": 0,
    "start_time": "2024-12-28T16:10:50.204Z"
   },
   {
    "duration": 0,
    "start_time": "2024-12-28T16:10:50.205Z"
   },
   {
    "duration": 0,
    "start_time": "2024-12-28T16:10:50.206Z"
   },
   {
    "duration": 0,
    "start_time": "2024-12-28T16:10:50.207Z"
   },
   {
    "duration": 0,
    "start_time": "2024-12-28T16:10:50.208Z"
   },
   {
    "duration": 0,
    "start_time": "2024-12-28T16:10:50.209Z"
   },
   {
    "duration": 0,
    "start_time": "2024-12-28T16:10:50.210Z"
   },
   {
    "duration": 0,
    "start_time": "2024-12-28T16:10:50.210Z"
   },
   {
    "duration": 0,
    "start_time": "2024-12-28T16:10:50.211Z"
   },
   {
    "duration": 0,
    "start_time": "2024-12-28T16:10:50.212Z"
   },
   {
    "duration": 0,
    "start_time": "2024-12-28T16:10:50.213Z"
   },
   {
    "duration": 0,
    "start_time": "2024-12-28T16:10:50.214Z"
   },
   {
    "duration": 0,
    "start_time": "2024-12-28T16:10:50.215Z"
   },
   {
    "duration": 0,
    "start_time": "2024-12-28T16:10:50.216Z"
   },
   {
    "duration": 0,
    "start_time": "2024-12-28T16:10:50.217Z"
   },
   {
    "duration": 0,
    "start_time": "2024-12-28T16:10:50.219Z"
   },
   {
    "duration": 0,
    "start_time": "2024-12-28T16:10:50.219Z"
   },
   {
    "duration": 0,
    "start_time": "2024-12-28T16:10:50.221Z"
   },
   {
    "duration": 0,
    "start_time": "2024-12-28T16:10:50.260Z"
   },
   {
    "duration": 0,
    "start_time": "2024-12-28T16:10:50.261Z"
   },
   {
    "duration": 0,
    "start_time": "2024-12-28T16:10:50.262Z"
   },
   {
    "duration": 0,
    "start_time": "2024-12-28T16:10:50.263Z"
   },
   {
    "duration": 0,
    "start_time": "2024-12-28T16:10:50.264Z"
   },
   {
    "duration": 0,
    "start_time": "2024-12-28T16:10:50.265Z"
   },
   {
    "duration": 6,
    "start_time": "2024-12-28T16:21:30.492Z"
   },
   {
    "duration": 6,
    "start_time": "2024-12-28T16:21:45.486Z"
   },
   {
    "duration": 12,
    "start_time": "2024-12-28T16:23:27.076Z"
   },
   {
    "duration": 5674,
    "start_time": "2024-12-28T16:33:00.980Z"
   },
   {
    "duration": 4,
    "start_time": "2024-12-28T16:33:06.659Z"
   },
   {
    "duration": 113,
    "start_time": "2024-12-28T16:33:06.665Z"
   },
   {
    "duration": 13,
    "start_time": "2024-12-28T16:33:06.781Z"
   },
   {
    "duration": 18,
    "start_time": "2024-12-28T16:33:06.796Z"
   },
   {
    "duration": 14,
    "start_time": "2024-12-28T16:33:06.816Z"
   },
   {
    "duration": 28,
    "start_time": "2024-12-28T16:33:06.832Z"
   },
   {
    "duration": 600,
    "start_time": "2024-12-28T16:33:06.862Z"
   },
   {
    "duration": 15,
    "start_time": "2024-12-28T16:33:07.464Z"
   },
   {
    "duration": 159,
    "start_time": "2024-12-28T16:33:07.483Z"
   },
   {
    "duration": 0,
    "start_time": "2024-12-28T16:33:07.645Z"
   },
   {
    "duration": 0,
    "start_time": "2024-12-28T16:33:07.647Z"
   },
   {
    "duration": 0,
    "start_time": "2024-12-28T16:33:07.660Z"
   },
   {
    "duration": 0,
    "start_time": "2024-12-28T16:33:07.661Z"
   },
   {
    "duration": 0,
    "start_time": "2024-12-28T16:33:07.663Z"
   },
   {
    "duration": 0,
    "start_time": "2024-12-28T16:33:07.664Z"
   },
   {
    "duration": 0,
    "start_time": "2024-12-28T16:33:07.665Z"
   },
   {
    "duration": 0,
    "start_time": "2024-12-28T16:33:07.666Z"
   },
   {
    "duration": 0,
    "start_time": "2024-12-28T16:33:07.667Z"
   },
   {
    "duration": 0,
    "start_time": "2024-12-28T16:33:07.669Z"
   },
   {
    "duration": 0,
    "start_time": "2024-12-28T16:33:07.670Z"
   },
   {
    "duration": 0,
    "start_time": "2024-12-28T16:33:07.672Z"
   },
   {
    "duration": 0,
    "start_time": "2024-12-28T16:33:07.673Z"
   },
   {
    "duration": 0,
    "start_time": "2024-12-28T16:33:07.675Z"
   },
   {
    "duration": 0,
    "start_time": "2024-12-28T16:33:07.677Z"
   },
   {
    "duration": 0,
    "start_time": "2024-12-28T16:33:07.678Z"
   },
   {
    "duration": 0,
    "start_time": "2024-12-28T16:33:07.679Z"
   },
   {
    "duration": 0,
    "start_time": "2024-12-28T16:33:07.681Z"
   },
   {
    "duration": 0,
    "start_time": "2024-12-28T16:33:07.682Z"
   },
   {
    "duration": 0,
    "start_time": "2024-12-28T16:33:07.684Z"
   },
   {
    "duration": 0,
    "start_time": "2024-12-28T16:33:07.686Z"
   },
   {
    "duration": 0,
    "start_time": "2024-12-28T16:33:07.687Z"
   },
   {
    "duration": 0,
    "start_time": "2024-12-28T16:33:07.689Z"
   },
   {
    "duration": 0,
    "start_time": "2024-12-28T16:33:07.691Z"
   },
   {
    "duration": 0,
    "start_time": "2024-12-28T16:33:07.692Z"
   },
   {
    "duration": 5613,
    "start_time": "2024-12-28T16:33:18.127Z"
   },
   {
    "duration": 3,
    "start_time": "2024-12-28T16:33:23.742Z"
   },
   {
    "duration": 114,
    "start_time": "2024-12-28T16:33:23.747Z"
   },
   {
    "duration": 11,
    "start_time": "2024-12-28T16:33:23.863Z"
   },
   {
    "duration": 12,
    "start_time": "2024-12-28T16:33:23.877Z"
   },
   {
    "duration": 15,
    "start_time": "2024-12-28T16:33:23.890Z"
   },
   {
    "duration": 5,
    "start_time": "2024-12-28T16:33:23.907Z"
   },
   {
    "duration": 558,
    "start_time": "2024-12-28T16:33:23.914Z"
   },
   {
    "duration": 21,
    "start_time": "2024-12-28T16:33:24.474Z"
   },
   {
    "duration": 12,
    "start_time": "2024-12-28T16:33:24.497Z"
   },
   {
    "duration": 5,
    "start_time": "2024-12-28T16:33:24.510Z"
   },
   {
    "duration": 11,
    "start_time": "2024-12-28T16:33:24.517Z"
   },
   {
    "duration": 355,
    "start_time": "2024-12-28T16:33:24.530Z"
   },
   {
    "duration": 264,
    "start_time": "2024-12-28T16:33:24.889Z"
   },
   {
    "duration": 242,
    "start_time": "2024-12-28T16:33:25.159Z"
   },
   {
    "duration": 282,
    "start_time": "2024-12-28T16:33:25.404Z"
   },
   {
    "duration": 4,
    "start_time": "2024-12-28T16:33:25.688Z"
   },
   {
    "duration": 6,
    "start_time": "2024-12-28T16:33:25.694Z"
   },
   {
    "duration": 17,
    "start_time": "2024-12-28T16:33:25.702Z"
   },
   {
    "duration": 40,
    "start_time": "2024-12-28T16:33:25.721Z"
   },
   {
    "duration": 18,
    "start_time": "2024-12-28T16:33:25.763Z"
   },
   {
    "duration": 11,
    "start_time": "2024-12-28T16:33:25.783Z"
   },
   {
    "duration": 5,
    "start_time": "2024-12-28T16:33:25.795Z"
   },
   {
    "duration": 842870,
    "start_time": "2024-12-28T16:33:25.802Z"
   },
   {
    "duration": 18,
    "start_time": "2024-12-28T16:47:28.674Z"
   },
   {
    "duration": 71,
    "start_time": "2024-12-28T16:47:28.694Z"
   },
   {
    "duration": 792,
    "start_time": "2024-12-28T16:47:28.767Z"
   },
   {
    "duration": 22,
    "start_time": "2024-12-28T16:47:29.562Z"
   },
   {
    "duration": 576,
    "start_time": "2024-12-28T16:47:29.586Z"
   },
   {
    "duration": 14,
    "start_time": "2024-12-28T16:47:30.163Z"
   },
   {
    "duration": 87,
    "start_time": "2024-12-28T16:47:30.179Z"
   },
   {
    "duration": 68,
    "start_time": "2024-12-28T16:47:30.268Z"
   },
   {
    "duration": 79,
    "start_time": "2024-12-28T16:47:30.338Z"
   },
   {
    "duration": 447,
    "start_time": "2024-12-28T16:47:30.418Z"
   },
   {
    "duration": 277,
    "start_time": "2024-12-28T16:47:30.866Z"
   },
   {
    "duration": 441,
    "start_time": "2024-12-28T17:06:39.381Z"
   },
   {
    "duration": 634,
    "start_time": "2024-12-28T17:07:01.530Z"
   },
   {
    "duration": 53,
    "start_time": "2024-12-28T18:47:03.655Z"
   },
   {
    "duration": 76244,
    "start_time": "2024-12-28T18:47:08.399Z"
   },
   {
    "duration": 3,
    "start_time": "2024-12-28T18:48:24.645Z"
   },
   {
    "duration": 211,
    "start_time": "2024-12-28T18:48:24.650Z"
   },
   {
    "duration": 10,
    "start_time": "2024-12-28T18:48:24.863Z"
   },
   {
    "duration": 20,
    "start_time": "2024-12-28T18:48:24.875Z"
   },
   {
    "duration": 46,
    "start_time": "2024-12-28T18:48:24.896Z"
   },
   {
    "duration": 5,
    "start_time": "2024-12-28T18:48:24.943Z"
   },
   {
    "duration": 441,
    "start_time": "2024-12-28T18:48:24.949Z"
   },
   {
    "duration": 12,
    "start_time": "2024-12-28T18:48:25.391Z"
   },
   {
    "duration": 8,
    "start_time": "2024-12-28T18:48:25.405Z"
   },
   {
    "duration": 4,
    "start_time": "2024-12-28T18:48:25.415Z"
   },
   {
    "duration": 9,
    "start_time": "2024-12-28T18:48:25.420Z"
   },
   {
    "duration": 336,
    "start_time": "2024-12-28T18:48:25.430Z"
   },
   {
    "duration": 203,
    "start_time": "2024-12-28T18:48:25.768Z"
   },
   {
    "duration": 212,
    "start_time": "2024-12-28T18:48:25.973Z"
   },
   {
    "duration": 207,
    "start_time": "2024-12-28T18:48:26.186Z"
   },
   {
    "duration": 239,
    "start_time": "2024-12-28T18:48:26.395Z"
   },
   {
    "duration": 5,
    "start_time": "2024-12-28T18:48:26.636Z"
   },
   {
    "duration": 55,
    "start_time": "2024-12-28T18:48:26.642Z"
   },
   {
    "duration": 25,
    "start_time": "2024-12-28T18:48:26.699Z"
   },
   {
    "duration": 5,
    "start_time": "2024-12-28T18:48:26.726Z"
   },
   {
    "duration": 12,
    "start_time": "2024-12-28T18:48:26.733Z"
   },
   {
    "duration": 12,
    "start_time": "2024-12-28T18:48:26.747Z"
   },
   {
    "duration": 5,
    "start_time": "2024-12-28T18:48:26.761Z"
   },
   {
    "duration": 582,
    "start_time": "2024-12-28T18:48:26.786Z"
   },
   {
    "duration": 147,
    "start_time": "2024-12-28T18:48:27.369Z"
   },
   {
    "duration": 78,
    "start_time": "2024-12-28T18:48:27.518Z"
   },
   {
    "duration": 70,
    "start_time": "2024-12-28T18:48:27.599Z"
   },
   {
    "duration": 85,
    "start_time": "2024-12-28T18:48:27.670Z"
   },
   {
    "duration": 31535,
    "start_time": "2024-12-28T18:48:27.757Z"
   },
   {
    "duration": 198,
    "start_time": "2024-12-28T18:48:59.294Z"
   },
   {
    "duration": 9,
    "start_time": "2024-12-28T18:48:59.494Z"
   },
   {
    "duration": 186,
    "start_time": "2024-12-28T18:48:59.504Z"
   },
   {
    "duration": 196,
    "start_time": "2024-12-28T18:48:59.692Z"
   },
   {
    "duration": 501,
    "start_time": "2024-12-28T18:48:59.890Z"
   },
   {
    "duration": 267,
    "start_time": "2024-12-28T18:49:00.393Z"
   },
   {
    "duration": 12145,
    "start_time": "2024-12-28T18:50:01.489Z"
   },
   {
    "duration": 2,
    "start_time": "2024-12-28T18:50:13.636Z"
   },
   {
    "duration": 92,
    "start_time": "2024-12-28T18:50:13.640Z"
   },
   {
    "duration": 10,
    "start_time": "2024-12-28T18:50:13.734Z"
   },
   {
    "duration": 10,
    "start_time": "2024-12-28T18:50:13.746Z"
   },
   {
    "duration": 12,
    "start_time": "2024-12-28T18:50:13.757Z"
   },
   {
    "duration": 4,
    "start_time": "2024-12-28T18:50:13.770Z"
   },
   {
    "duration": 442,
    "start_time": "2024-12-28T18:50:13.776Z"
   },
   {
    "duration": 13,
    "start_time": "2024-12-28T18:50:14.219Z"
   },
   {
    "duration": 9,
    "start_time": "2024-12-28T18:50:14.235Z"
   },
   {
    "duration": 5,
    "start_time": "2024-12-28T18:50:14.245Z"
   },
   {
    "duration": 34,
    "start_time": "2024-12-28T18:50:14.252Z"
   },
   {
    "duration": 290,
    "start_time": "2024-12-28T18:50:14.288Z"
   },
   {
    "duration": 199,
    "start_time": "2024-12-28T18:50:14.580Z"
   },
   {
    "duration": 213,
    "start_time": "2024-12-28T18:50:14.781Z"
   },
   {
    "duration": 212,
    "start_time": "2024-12-28T18:50:14.996Z"
   },
   {
    "duration": 245,
    "start_time": "2024-12-28T18:50:15.210Z"
   },
   {
    "duration": 4,
    "start_time": "2024-12-28T18:50:15.457Z"
   },
   {
    "duration": 19,
    "start_time": "2024-12-28T18:50:15.462Z"
   },
   {
    "duration": 36,
    "start_time": "2024-12-28T18:50:15.483Z"
   },
   {
    "duration": 5,
    "start_time": "2024-12-28T18:50:15.522Z"
   },
   {
    "duration": 10,
    "start_time": "2024-12-28T18:50:15.529Z"
   },
   {
    "duration": 20,
    "start_time": "2024-12-28T18:50:15.541Z"
   },
   {
    "duration": 25,
    "start_time": "2024-12-28T18:50:15.563Z"
   },
   {
    "duration": 5736,
    "start_time": "2024-12-28T18:54:30.760Z"
   },
   {
    "duration": 2,
    "start_time": "2024-12-28T18:54:36.498Z"
   },
   {
    "duration": 110,
    "start_time": "2024-12-28T18:54:36.501Z"
   },
   {
    "duration": 10,
    "start_time": "2024-12-28T18:54:36.613Z"
   },
   {
    "duration": 10,
    "start_time": "2024-12-28T18:54:36.624Z"
   },
   {
    "duration": 32,
    "start_time": "2024-12-28T18:54:36.635Z"
   },
   {
    "duration": 60,
    "start_time": "2024-12-28T18:54:36.668Z"
   },
   {
    "duration": 432,
    "start_time": "2024-12-28T18:54:36.730Z"
   },
   {
    "duration": 12,
    "start_time": "2024-12-28T18:54:37.164Z"
   },
   {
    "duration": 9,
    "start_time": "2024-12-28T18:54:37.188Z"
   },
   {
    "duration": 4,
    "start_time": "2024-12-28T18:54:37.199Z"
   },
   {
    "duration": 8,
    "start_time": "2024-12-28T18:54:37.205Z"
   },
   {
    "duration": 298,
    "start_time": "2024-12-28T18:54:37.214Z"
   },
   {
    "duration": 198,
    "start_time": "2024-12-28T18:54:37.513Z"
   },
   {
    "duration": 212,
    "start_time": "2024-12-28T18:54:37.712Z"
   },
   {
    "duration": 209,
    "start_time": "2024-12-28T18:54:37.926Z"
   },
   {
    "duration": 234,
    "start_time": "2024-12-28T18:54:38.136Z"
   },
   {
    "duration": 3,
    "start_time": "2024-12-28T18:54:38.372Z"
   },
   {
    "duration": 13,
    "start_time": "2024-12-28T18:54:38.376Z"
   },
   {
    "duration": 18,
    "start_time": "2024-12-28T18:54:38.391Z"
   },
   {
    "duration": 10,
    "start_time": "2024-12-28T18:54:38.410Z"
   },
   {
    "duration": 16,
    "start_time": "2024-12-28T18:54:38.422Z"
   },
   {
    "duration": 9,
    "start_time": "2024-12-28T18:54:38.440Z"
   },
   {
    "duration": 5,
    "start_time": "2024-12-28T18:54:38.451Z"
   },
   {
    "duration": 905193,
    "start_time": "2024-12-28T18:54:38.458Z"
   },
   {
    "duration": 16,
    "start_time": "2024-12-28T19:09:43.652Z"
   },
   {
    "duration": 6,
    "start_time": "2024-12-28T19:09:43.670Z"
   },
   {
    "duration": 817,
    "start_time": "2024-12-28T19:09:43.679Z"
   },
   {
    "duration": 21,
    "start_time": "2024-12-28T19:09:44.498Z"
   },
   {
    "duration": 19871,
    "start_time": "2024-12-28T19:09:44.521Z"
   },
   {
    "duration": 195,
    "start_time": "2024-12-28T19:10:04.394Z"
   },
   {
    "duration": 15,
    "start_time": "2024-12-28T19:10:04.591Z"
   },
   {
    "duration": 0,
    "start_time": "2024-12-28T19:10:04.608Z"
   },
   {
    "duration": 0,
    "start_time": "2024-12-28T19:10:04.609Z"
   },
   {
    "duration": 0,
    "start_time": "2024-12-28T19:10:04.611Z"
   },
   {
    "duration": 0,
    "start_time": "2024-12-28T19:10:04.612Z"
   },
   {
    "duration": 181,
    "start_time": "2024-12-28T19:10:25.313Z"
   },
   {
    "duration": 11,
    "start_time": "2024-12-28T19:14:10.919Z"
   },
   {
    "duration": 14,
    "start_time": "2024-12-28T19:16:06.990Z"
   },
   {
    "duration": 56,
    "start_time": "2024-12-28T19:16:29.569Z"
   },
   {
    "duration": 4,
    "start_time": "2024-12-28T19:16:34.681Z"
   },
   {
    "duration": 15,
    "start_time": "2024-12-28T19:16:37.588Z"
   },
   {
    "duration": 4649,
    "start_time": "2024-12-28T19:21:47.337Z"
   },
   {
    "duration": 3,
    "start_time": "2024-12-28T19:21:51.989Z"
   },
   {
    "duration": 101,
    "start_time": "2024-12-28T19:21:51.994Z"
   },
   {
    "duration": 10,
    "start_time": "2024-12-28T19:21:52.097Z"
   },
   {
    "duration": 7,
    "start_time": "2024-12-28T19:21:52.109Z"
   },
   {
    "duration": 12,
    "start_time": "2024-12-28T19:21:52.117Z"
   },
   {
    "duration": 13,
    "start_time": "2024-12-28T19:21:52.131Z"
   },
   {
    "duration": 13,
    "start_time": "2024-12-28T19:21:52.145Z"
   },
   {
    "duration": 441,
    "start_time": "2024-12-28T19:21:52.186Z"
   },
   {
    "duration": 11,
    "start_time": "2024-12-28T19:21:52.630Z"
   },
   {
    "duration": 8,
    "start_time": "2024-12-28T19:21:52.642Z"
   },
   {
    "duration": 4,
    "start_time": "2024-12-28T19:21:52.651Z"
   },
   {
    "duration": 29,
    "start_time": "2024-12-28T19:21:52.656Z"
   },
   {
    "duration": 300,
    "start_time": "2024-12-28T19:21:52.686Z"
   },
   {
    "duration": 208,
    "start_time": "2024-12-28T19:21:52.988Z"
   },
   {
    "duration": 211,
    "start_time": "2024-12-28T19:21:53.197Z"
   },
   {
    "duration": 213,
    "start_time": "2024-12-28T19:21:53.410Z"
   },
   {
    "duration": 242,
    "start_time": "2024-12-28T19:21:53.626Z"
   },
   {
    "duration": 5,
    "start_time": "2024-12-28T19:21:53.870Z"
   },
   {
    "duration": 197,
    "start_time": "2024-12-28T19:21:53.886Z"
   },
   {
    "duration": 0,
    "start_time": "2024-12-28T19:21:54.085Z"
   },
   {
    "duration": 0,
    "start_time": "2024-12-28T19:21:54.086Z"
   },
   {
    "duration": 0,
    "start_time": "2024-12-28T19:21:54.087Z"
   },
   {
    "duration": 0,
    "start_time": "2024-12-28T19:21:54.089Z"
   },
   {
    "duration": 0,
    "start_time": "2024-12-28T19:21:54.090Z"
   },
   {
    "duration": 0,
    "start_time": "2024-12-28T19:21:54.091Z"
   },
   {
    "duration": 0,
    "start_time": "2024-12-28T19:21:54.092Z"
   },
   {
    "duration": 0,
    "start_time": "2024-12-28T19:21:54.093Z"
   },
   {
    "duration": 0,
    "start_time": "2024-12-28T19:21:54.094Z"
   },
   {
    "duration": 0,
    "start_time": "2024-12-28T19:21:54.095Z"
   },
   {
    "duration": 0,
    "start_time": "2024-12-28T19:21:54.096Z"
   },
   {
    "duration": 0,
    "start_time": "2024-12-28T19:21:54.097Z"
   },
   {
    "duration": 0,
    "start_time": "2024-12-28T19:21:54.098Z"
   },
   {
    "duration": 0,
    "start_time": "2024-12-28T19:21:54.099Z"
   },
   {
    "duration": 0,
    "start_time": "2024-12-28T19:21:54.100Z"
   },
   {
    "duration": 0,
    "start_time": "2024-12-28T19:21:54.101Z"
   },
   {
    "duration": 0,
    "start_time": "2024-12-28T19:21:54.102Z"
   },
   {
    "duration": 0,
    "start_time": "2024-12-28T19:21:54.103Z"
   },
   {
    "duration": 0,
    "start_time": "2024-12-28T19:21:54.104Z"
   },
   {
    "duration": 8,
    "start_time": "2024-12-28T19:22:32.676Z"
   },
   {
    "duration": 17,
    "start_time": "2024-12-28T19:23:18.255Z"
   },
   {
    "duration": 178,
    "start_time": "2024-12-28T19:23:22.979Z"
   },
   {
    "duration": 5,
    "start_time": "2024-12-28T19:23:25.915Z"
   },
   {
    "duration": 8,
    "start_time": "2024-12-28T19:23:29.025Z"
   },
   {
    "duration": 9,
    "start_time": "2024-12-28T19:23:30.998Z"
   },
   {
    "duration": 4,
    "start_time": "2024-12-28T19:23:35.376Z"
   },
   {
    "duration": 5945,
    "start_time": "2024-12-28T19:26:42.907Z"
   },
   {
    "duration": 3,
    "start_time": "2024-12-28T19:26:48.854Z"
   },
   {
    "duration": 86,
    "start_time": "2024-12-28T19:26:48.859Z"
   },
   {
    "duration": 10,
    "start_time": "2024-12-28T19:26:48.947Z"
   },
   {
    "duration": 6,
    "start_time": "2024-12-28T19:26:48.958Z"
   },
   {
    "duration": 11,
    "start_time": "2024-12-28T19:26:48.966Z"
   },
   {
    "duration": 13,
    "start_time": "2024-12-28T19:26:48.978Z"
   },
   {
    "duration": 5,
    "start_time": "2024-12-28T19:26:48.992Z"
   },
   {
    "duration": 468,
    "start_time": "2024-12-28T19:26:48.998Z"
   },
   {
    "duration": 23,
    "start_time": "2024-12-28T19:26:49.470Z"
   },
   {
    "duration": 9,
    "start_time": "2024-12-28T19:26:49.494Z"
   },
   {
    "duration": 4,
    "start_time": "2024-12-28T19:26:49.505Z"
   },
   {
    "duration": 14,
    "start_time": "2024-12-28T19:26:49.510Z"
   },
   {
    "duration": 299,
    "start_time": "2024-12-28T19:26:49.526Z"
   },
   {
    "duration": 205,
    "start_time": "2024-12-28T19:26:49.827Z"
   },
   {
    "duration": 213,
    "start_time": "2024-12-28T19:26:50.034Z"
   },
   {
    "duration": 212,
    "start_time": "2024-12-28T19:26:50.248Z"
   },
   {
    "duration": 237,
    "start_time": "2024-12-28T19:26:50.462Z"
   },
   {
    "duration": 4,
    "start_time": "2024-12-28T19:26:50.701Z"
   },
   {
    "duration": 21,
    "start_time": "2024-12-28T19:26:50.706Z"
   },
   {
    "duration": 201,
    "start_time": "2024-12-28T19:26:50.729Z"
   },
   {
    "duration": 5,
    "start_time": "2024-12-28T19:26:50.932Z"
   },
   {
    "duration": 19,
    "start_time": "2024-12-28T19:26:50.939Z"
   },
   {
    "duration": 11,
    "start_time": "2024-12-28T19:26:50.959Z"
   },
   {
    "duration": 15,
    "start_time": "2024-12-28T19:26:50.971Z"
   },
   {
    "duration": 4697,
    "start_time": "2024-12-28T19:37:28.395Z"
   },
   {
    "duration": 3,
    "start_time": "2024-12-28T19:37:33.094Z"
   },
   {
    "duration": 127,
    "start_time": "2024-12-28T19:37:33.098Z"
   },
   {
    "duration": 10,
    "start_time": "2024-12-28T19:37:33.227Z"
   },
   {
    "duration": 9,
    "start_time": "2024-12-28T19:37:33.239Z"
   },
   {
    "duration": 13,
    "start_time": "2024-12-28T19:37:33.250Z"
   },
   {
    "duration": 54,
    "start_time": "2024-12-28T19:37:33.265Z"
   },
   {
    "duration": 17,
    "start_time": "2024-12-28T19:37:33.321Z"
   },
   {
    "duration": 438,
    "start_time": "2024-12-28T19:37:33.340Z"
   },
   {
    "duration": 14,
    "start_time": "2024-12-28T19:37:33.780Z"
   },
   {
    "duration": 15,
    "start_time": "2024-12-28T19:37:33.796Z"
   },
   {
    "duration": 5,
    "start_time": "2024-12-28T19:37:33.812Z"
   },
   {
    "duration": 27,
    "start_time": "2024-12-28T19:37:33.819Z"
   },
   {
    "duration": 283,
    "start_time": "2024-12-28T19:37:33.848Z"
   },
   {
    "duration": 198,
    "start_time": "2024-12-28T19:37:34.133Z"
   },
   {
    "duration": 218,
    "start_time": "2024-12-28T19:37:34.332Z"
   },
   {
    "duration": 209,
    "start_time": "2024-12-28T19:37:34.552Z"
   },
   {
    "duration": 239,
    "start_time": "2024-12-28T19:37:34.762Z"
   },
   {
    "duration": 4,
    "start_time": "2024-12-28T19:37:35.002Z"
   },
   {
    "duration": 21,
    "start_time": "2024-12-28T19:37:35.007Z"
   },
   {
    "duration": 204,
    "start_time": "2024-12-28T19:37:35.029Z"
   },
   {
    "duration": 4,
    "start_time": "2024-12-28T19:37:35.235Z"
   },
   {
    "duration": 7,
    "start_time": "2024-12-28T19:37:35.241Z"
   },
   {
    "duration": 13,
    "start_time": "2024-12-28T19:37:35.249Z"
   },
   {
    "duration": 24,
    "start_time": "2024-12-28T19:37:35.263Z"
   },
   {
    "duration": 180908,
    "start_time": "2024-12-28T19:37:35.289Z"
   },
   {
    "duration": 16,
    "start_time": "2024-12-28T19:40:36.198Z"
   },
   {
    "duration": 72,
    "start_time": "2024-12-28T19:40:36.217Z"
   },
   {
    "duration": 735,
    "start_time": "2024-12-28T19:40:36.290Z"
   },
   {
    "duration": 16,
    "start_time": "2024-12-28T19:40:37.027Z"
   },
   {
    "duration": 21546,
    "start_time": "2024-12-28T19:40:37.044Z"
   },
   {
    "duration": 197,
    "start_time": "2024-12-28T19:40:58.592Z"
   },
   {
    "duration": 10,
    "start_time": "2024-12-28T19:40:58.791Z"
   },
   {
    "duration": 185,
    "start_time": "2024-12-28T19:40:58.803Z"
   },
   {
    "duration": 105,
    "start_time": "2024-12-28T19:40:58.990Z"
   },
   {
    "duration": 493,
    "start_time": "2024-12-28T19:40:59.186Z"
   },
   {
    "duration": 258,
    "start_time": "2024-12-28T19:40:59.681Z"
   },
   {
    "duration": 4573,
    "start_time": "2024-12-28T19:41:50.873Z"
   },
   {
    "duration": 3,
    "start_time": "2024-12-28T19:41:55.448Z"
   },
   {
    "duration": 90,
    "start_time": "2024-12-28T19:41:55.453Z"
   },
   {
    "duration": 11,
    "start_time": "2024-12-28T19:41:55.546Z"
   },
   {
    "duration": 7,
    "start_time": "2024-12-28T19:41:55.558Z"
   },
   {
    "duration": 14,
    "start_time": "2024-12-28T19:41:55.566Z"
   },
   {
    "duration": 14,
    "start_time": "2024-12-28T19:41:55.581Z"
   },
   {
    "duration": 6,
    "start_time": "2024-12-28T19:41:55.597Z"
   },
   {
    "duration": 456,
    "start_time": "2024-12-28T19:41:55.604Z"
   },
   {
    "duration": 11,
    "start_time": "2024-12-28T19:41:56.063Z"
   },
   {
    "duration": 7,
    "start_time": "2024-12-28T19:41:56.087Z"
   },
   {
    "duration": 4,
    "start_time": "2024-12-28T19:41:56.096Z"
   },
   {
    "duration": 11,
    "start_time": "2024-12-28T19:41:56.101Z"
   },
   {
    "duration": 295,
    "start_time": "2024-12-28T19:41:56.113Z"
   },
   {
    "duration": 202,
    "start_time": "2024-12-28T19:41:56.409Z"
   },
   {
    "duration": 222,
    "start_time": "2024-12-28T19:41:56.612Z"
   },
   {
    "duration": 207,
    "start_time": "2024-12-28T19:41:56.835Z"
   },
   {
    "duration": 251,
    "start_time": "2024-12-28T19:41:57.043Z"
   },
   {
    "duration": 4,
    "start_time": "2024-12-28T19:41:57.295Z"
   },
   {
    "duration": 21,
    "start_time": "2024-12-28T19:41:57.301Z"
   },
   {
    "duration": 196,
    "start_time": "2024-12-28T19:41:57.323Z"
   },
   {
    "duration": 6,
    "start_time": "2024-12-28T19:41:57.521Z"
   },
   {
    "duration": 10,
    "start_time": "2024-12-28T19:41:57.529Z"
   },
   {
    "duration": 10,
    "start_time": "2024-12-28T19:41:57.540Z"
   },
   {
    "duration": 7,
    "start_time": "2024-12-28T19:41:57.551Z"
   },
   {
    "duration": 255337,
    "start_time": "2024-12-28T19:41:57.560Z"
   },
   {
    "duration": 20,
    "start_time": "2024-12-28T19:46:12.899Z"
   },
   {
    "duration": 9,
    "start_time": "2024-12-28T19:46:12.924Z"
   },
   {
    "duration": 790,
    "start_time": "2024-12-28T19:46:12.935Z"
   },
   {
    "duration": 19,
    "start_time": "2024-12-28T19:46:13.726Z"
   },
   {
    "duration": 27948,
    "start_time": "2024-12-28T19:46:13.746Z"
   },
   {
    "duration": 199,
    "start_time": "2024-12-28T19:46:41.696Z"
   },
   {
    "duration": 10,
    "start_time": "2024-12-28T19:46:41.897Z"
   },
   {
    "duration": 178,
    "start_time": "2024-12-28T19:46:41.909Z"
   },
   {
    "duration": 104,
    "start_time": "2024-12-28T19:46:42.089Z"
   },
   {
    "duration": 532,
    "start_time": "2024-12-28T19:46:42.195Z"
   },
   {
    "duration": 258,
    "start_time": "2024-12-28T19:46:42.728Z"
   },
   {
    "duration": 71,
    "start_time": "2024-12-28T19:48:20.724Z"
   },
   {
    "duration": 5,
    "start_time": "2024-12-28T19:51:59.038Z"
   },
   {
    "duration": 3,
    "start_time": "2024-12-28T20:00:39.290Z"
   },
   {
    "duration": 4821,
    "start_time": "2024-12-28T20:03:27.639Z"
   },
   {
    "duration": 3,
    "start_time": "2024-12-28T20:03:32.462Z"
   },
   {
    "duration": 108,
    "start_time": "2024-12-28T20:03:32.467Z"
   },
   {
    "duration": 10,
    "start_time": "2024-12-28T20:03:32.577Z"
   },
   {
    "duration": 8,
    "start_time": "2024-12-28T20:03:32.588Z"
   },
   {
    "duration": 32,
    "start_time": "2024-12-28T20:03:32.598Z"
   },
   {
    "duration": 11,
    "start_time": "2024-12-28T20:03:32.632Z"
   },
   {
    "duration": 19,
    "start_time": "2024-12-28T20:03:32.644Z"
   },
   {
    "duration": 480,
    "start_time": "2024-12-28T20:03:32.665Z"
   },
   {
    "duration": 12,
    "start_time": "2024-12-28T20:03:33.147Z"
   },
   {
    "duration": 8,
    "start_time": "2024-12-28T20:03:33.160Z"
   },
   {
    "duration": 29,
    "start_time": "2024-12-28T20:03:33.170Z"
   },
   {
    "duration": 59,
    "start_time": "2024-12-28T20:03:33.201Z"
   },
   {
    "duration": 279,
    "start_time": "2024-12-28T20:03:33.262Z"
   },
   {
    "duration": 194,
    "start_time": "2024-12-28T20:03:33.543Z"
   },
   {
    "duration": 220,
    "start_time": "2024-12-28T20:03:33.739Z"
   },
   {
    "duration": 210,
    "start_time": "2024-12-28T20:03:33.961Z"
   },
   {
    "duration": 238,
    "start_time": "2024-12-28T20:03:34.172Z"
   },
   {
    "duration": 3,
    "start_time": "2024-12-28T20:03:34.412Z"
   },
   {
    "duration": 67,
    "start_time": "2024-12-28T20:03:34.417Z"
   },
   {
    "duration": 190,
    "start_time": "2024-12-28T20:03:34.485Z"
   },
   {
    "duration": 9,
    "start_time": "2024-12-28T20:03:34.677Z"
   },
   {
    "duration": 19,
    "start_time": "2024-12-28T20:03:34.688Z"
   },
   {
    "duration": 27,
    "start_time": "2024-12-28T20:03:34.709Z"
   },
   {
    "duration": 5,
    "start_time": "2024-12-28T20:03:34.737Z"
   },
   {
    "duration": 24583,
    "start_time": "2024-12-28T20:13:35.651Z"
   },
   {
    "duration": 4813,
    "start_time": "2024-12-28T20:14:00.236Z"
   },
   {
    "duration": 2,
    "start_time": "2024-12-28T20:14:05.051Z"
   },
   {
    "duration": 106,
    "start_time": "2024-12-28T20:14:05.055Z"
   },
   {
    "duration": 11,
    "start_time": "2024-12-28T20:14:05.162Z"
   },
   {
    "duration": 17,
    "start_time": "2024-12-28T20:14:05.175Z"
   },
   {
    "duration": 36,
    "start_time": "2024-12-28T20:14:05.193Z"
   },
   {
    "duration": 12,
    "start_time": "2024-12-28T20:14:05.231Z"
   },
   {
    "duration": 4,
    "start_time": "2024-12-28T20:14:05.245Z"
   },
   {
    "duration": 530,
    "start_time": "2024-12-28T20:14:05.251Z"
   },
   {
    "duration": 11,
    "start_time": "2024-12-28T20:14:05.786Z"
   },
   {
    "duration": 7,
    "start_time": "2024-12-28T20:14:05.799Z"
   },
   {
    "duration": 18,
    "start_time": "2024-12-28T20:14:05.808Z"
   },
   {
    "duration": 9,
    "start_time": "2024-12-28T20:14:05.828Z"
   },
   {
    "duration": 322,
    "start_time": "2024-12-28T20:14:05.839Z"
   },
   {
    "duration": 213,
    "start_time": "2024-12-28T20:14:06.163Z"
   },
   {
    "duration": 210,
    "start_time": "2024-12-28T20:14:06.378Z"
   },
   {
    "duration": 214,
    "start_time": "2024-12-28T20:14:06.589Z"
   },
   {
    "duration": 227,
    "start_time": "2024-12-28T20:14:06.805Z"
   },
   {
    "duration": 5,
    "start_time": "2024-12-28T20:14:07.033Z"
   },
   {
    "duration": 30,
    "start_time": "2024-12-28T20:14:07.039Z"
   },
   {
    "duration": 194,
    "start_time": "2024-12-28T20:14:07.071Z"
   },
   {
    "duration": 7,
    "start_time": "2024-12-28T20:14:07.267Z"
   },
   {
    "duration": 49,
    "start_time": "2024-12-28T20:14:07.287Z"
   },
   {
    "duration": 13,
    "start_time": "2024-12-28T20:14:07.339Z"
   },
   {
    "duration": 12,
    "start_time": "2024-12-28T20:14:07.354Z"
   },
   {
    "duration": 4841,
    "start_time": "2024-12-28T20:17:17.241Z"
   },
   {
    "duration": 3,
    "start_time": "2024-12-28T20:17:22.087Z"
   },
   {
    "duration": 96,
    "start_time": "2024-12-28T20:17:22.092Z"
   },
   {
    "duration": 10,
    "start_time": "2024-12-28T20:17:22.190Z"
   },
   {
    "duration": 16,
    "start_time": "2024-12-28T20:17:22.202Z"
   },
   {
    "duration": 14,
    "start_time": "2024-12-28T20:17:22.220Z"
   },
   {
    "duration": 21,
    "start_time": "2024-12-28T20:17:22.237Z"
   },
   {
    "duration": 5,
    "start_time": "2024-12-28T20:17:22.260Z"
   },
   {
    "duration": 450,
    "start_time": "2024-12-28T20:17:22.267Z"
   },
   {
    "duration": 13,
    "start_time": "2024-12-28T20:17:22.722Z"
   },
   {
    "duration": 9,
    "start_time": "2024-12-28T20:17:22.737Z"
   },
   {
    "duration": 32,
    "start_time": "2024-12-28T20:17:22.748Z"
   },
   {
    "duration": 10,
    "start_time": "2024-12-28T20:17:22.782Z"
   },
   {
    "duration": 338,
    "start_time": "2024-12-28T20:17:22.794Z"
   },
   {
    "duration": 207,
    "start_time": "2024-12-28T20:17:23.135Z"
   },
   {
    "duration": 220,
    "start_time": "2024-12-28T20:17:23.344Z"
   },
   {
    "duration": 220,
    "start_time": "2024-12-28T20:17:23.567Z"
   },
   {
    "duration": 247,
    "start_time": "2024-12-28T20:17:23.789Z"
   },
   {
    "duration": 5,
    "start_time": "2024-12-28T20:17:24.039Z"
   },
   {
    "duration": 53,
    "start_time": "2024-12-28T20:17:24.046Z"
   },
   {
    "duration": 188,
    "start_time": "2024-12-28T20:17:24.101Z"
   },
   {
    "duration": 6,
    "start_time": "2024-12-28T20:17:24.291Z"
   },
   {
    "duration": 31,
    "start_time": "2024-12-28T20:17:24.298Z"
   },
   {
    "duration": 10,
    "start_time": "2024-12-28T20:17:24.331Z"
   },
   {
    "duration": 22,
    "start_time": "2024-12-28T20:17:24.343Z"
   },
   {
    "duration": 58,
    "start_time": "2024-12-28T20:17:24.366Z"
   },
   {
    "duration": 1653168,
    "start_time": "2024-12-28T20:17:24.426Z"
   },
   {
    "duration": 19,
    "start_time": "2024-12-28T20:44:57.599Z"
   },
   {
    "duration": 10,
    "start_time": "2024-12-28T20:44:57.620Z"
   },
   {
    "duration": 962,
    "start_time": "2024-12-28T20:44:57.632Z"
   },
   {
    "duration": 18,
    "start_time": "2024-12-28T20:44:58.596Z"
   },
   {
    "duration": 14573,
    "start_time": "2024-12-28T20:44:58.616Z"
   },
   {
    "duration": 106,
    "start_time": "2024-12-28T20:45:13.192Z"
   },
   {
    "duration": 93,
    "start_time": "2024-12-28T20:45:13.303Z"
   },
   {
    "duration": 98,
    "start_time": "2024-12-28T20:45:13.398Z"
   },
   {
    "duration": 199,
    "start_time": "2024-12-28T20:45:13.588Z"
   },
   {
    "duration": 562,
    "start_time": "2024-12-28T20:45:13.790Z"
   },
   {
    "duration": 268,
    "start_time": "2024-12-28T20:45:14.354Z"
   },
   {
    "duration": 126,
    "start_time": "2024-12-28T20:47:43.246Z"
   },
   {
    "duration": 0,
    "start_time": "2024-12-28T20:47:43.374Z"
   },
   {
    "duration": 10,
    "start_time": "2024-12-28T20:47:59.375Z"
   },
   {
    "duration": 3608,
    "start_time": "2024-12-28T20:48:06.678Z"
   },
   {
    "duration": 18,
    "start_time": "2024-12-28T20:48:16.271Z"
   },
   {
    "duration": 8,
    "start_time": "2024-12-28T20:48:17.478Z"
   },
   {
    "duration": 1632,
    "start_time": "2024-12-28T20:48:25.984Z"
   },
   {
    "duration": 44,
    "start_time": "2024-12-28T20:48:27.618Z"
   },
   {
    "duration": 20,
    "start_time": "2024-12-28T20:48:36.976Z"
   },
   {
    "duration": 30462,
    "start_time": "2024-12-28T20:48:48.724Z"
   },
   {
    "duration": 110,
    "start_time": "2024-12-28T20:49:19.188Z"
   },
   {
    "duration": 107,
    "start_time": "2024-12-28T20:49:23.685Z"
   },
   {
    "duration": 15,
    "start_time": "2024-12-28T20:49:26.315Z"
   },
   {
    "duration": 5,
    "start_time": "2024-12-28T20:49:51.282Z"
   },
   {
    "duration": 74,
    "start_time": "2024-12-28T20:50:22.918Z"
   },
   {
    "duration": 70,
    "start_time": "2024-12-28T20:53:19.069Z"
   },
   {
    "duration": 45848,
    "start_time": "2024-12-28T20:53:25.841Z"
   },
   {
    "duration": 113,
    "start_time": "2024-12-28T20:54:15.778Z"
   },
   {
    "duration": 34,
    "start_time": "2024-12-28T20:57:55.966Z"
   },
   {
    "duration": 185,
    "start_time": "2024-12-28T20:58:03.646Z"
   },
   {
    "duration": 8,
    "start_time": "2024-12-28T20:58:06.443Z"
   },
   {
    "duration": 9,
    "start_time": "2024-12-28T20:58:09.081Z"
   },
   {
    "duration": 10,
    "start_time": "2024-12-28T20:58:11.570Z"
   },
   {
    "duration": 34,
    "start_time": "2024-12-28T20:58:18.478Z"
   },
   {
    "duration": 8,
    "start_time": "2024-12-28T20:58:19.191Z"
   },
   {
    "duration": 4765,
    "start_time": "2024-12-28T20:58:22.530Z"
   },
   {
    "duration": 20,
    "start_time": "2024-12-28T20:58:27.297Z"
   },
   {
    "duration": 35755,
    "start_time": "2024-12-28T20:58:37.939Z"
   },
   {
    "duration": 192,
    "start_time": "2024-12-28T20:59:13.696Z"
   },
   {
    "duration": 11,
    "start_time": "2024-12-28T20:59:23.104Z"
   },
   {
    "duration": 4841,
    "start_time": "2024-12-28T21:00:19.656Z"
   },
   {
    "duration": 3,
    "start_time": "2024-12-28T21:00:24.500Z"
   },
   {
    "duration": 83,
    "start_time": "2024-12-28T21:00:24.504Z"
   },
   {
    "duration": 11,
    "start_time": "2024-12-28T21:00:24.590Z"
   },
   {
    "duration": 7,
    "start_time": "2024-12-28T21:00:24.603Z"
   },
   {
    "duration": 11,
    "start_time": "2024-12-28T21:00:24.611Z"
   },
   {
    "duration": 12,
    "start_time": "2024-12-28T21:00:24.624Z"
   },
   {
    "duration": 4,
    "start_time": "2024-12-28T21:00:24.638Z"
   },
   {
    "duration": 472,
    "start_time": "2024-12-28T21:00:24.644Z"
   },
   {
    "duration": 11,
    "start_time": "2024-12-28T21:00:25.120Z"
   },
   {
    "duration": 8,
    "start_time": "2024-12-28T21:00:25.133Z"
   },
   {
    "duration": 4,
    "start_time": "2024-12-28T21:00:25.143Z"
   },
   {
    "duration": 27,
    "start_time": "2024-12-28T21:00:25.149Z"
   },
   {
    "duration": 329,
    "start_time": "2024-12-28T21:00:25.178Z"
   },
   {
    "duration": 234,
    "start_time": "2024-12-28T21:00:25.509Z"
   },
   {
    "duration": 219,
    "start_time": "2024-12-28T21:00:25.745Z"
   },
   {
    "duration": 217,
    "start_time": "2024-12-28T21:00:25.966Z"
   },
   {
    "duration": 238,
    "start_time": "2024-12-28T21:00:26.186Z"
   },
   {
    "duration": 4,
    "start_time": "2024-12-28T21:00:26.425Z"
   },
   {
    "duration": 37,
    "start_time": "2024-12-28T21:00:26.431Z"
   },
   {
    "duration": 204,
    "start_time": "2024-12-28T21:00:26.470Z"
   },
   {
    "duration": 13,
    "start_time": "2024-12-28T21:00:26.676Z"
   },
   {
    "duration": 9,
    "start_time": "2024-12-28T21:00:26.691Z"
   },
   {
    "duration": 10,
    "start_time": "2024-12-28T21:00:26.702Z"
   },
   {
    "duration": 81,
    "start_time": "2024-12-28T21:00:26.714Z"
   },
   {
    "duration": 5,
    "start_time": "2024-12-28T21:00:26.797Z"
   },
   {
    "duration": 162,
    "start_time": "2024-12-28T21:00:26.804Z"
   },
   {
    "duration": 0,
    "start_time": "2024-12-28T21:00:26.969Z"
   },
   {
    "duration": 0,
    "start_time": "2024-12-28T21:00:26.970Z"
   },
   {
    "duration": 0,
    "start_time": "2024-12-28T21:00:26.971Z"
   },
   {
    "duration": 0,
    "start_time": "2024-12-28T21:00:26.973Z"
   },
   {
    "duration": 0,
    "start_time": "2024-12-28T21:00:26.974Z"
   },
   {
    "duration": 0,
    "start_time": "2024-12-28T21:00:26.986Z"
   },
   {
    "duration": 0,
    "start_time": "2024-12-28T21:00:26.988Z"
   },
   {
    "duration": 0,
    "start_time": "2024-12-28T21:00:26.989Z"
   },
   {
    "duration": 0,
    "start_time": "2024-12-28T21:00:26.990Z"
   },
   {
    "duration": 0,
    "start_time": "2024-12-28T21:00:26.991Z"
   },
   {
    "duration": 0,
    "start_time": "2024-12-28T21:00:26.992Z"
   },
   {
    "duration": 33,
    "start_time": "2024-12-28T21:01:15.910Z"
   },
   {
    "duration": 9,
    "start_time": "2024-12-28T21:01:22.179Z"
   },
   {
    "duration": 4730,
    "start_time": "2024-12-28T21:01:26.197Z"
   },
   {
    "duration": 23,
    "start_time": "2024-12-28T21:01:39.988Z"
   },
   {
    "duration": 51214,
    "start_time": "2024-12-28T21:01:56.472Z"
   },
   {
    "duration": 199,
    "start_time": "2024-12-28T21:02:47.689Z"
   },
   {
    "duration": 10,
    "start_time": "2024-12-28T21:02:55.063Z"
   },
   {
    "duration": 105,
    "start_time": "2024-12-28T21:03:02.988Z"
   },
   {
    "duration": 12,
    "start_time": "2024-12-28T21:03:18.988Z"
   },
   {
    "duration": 112,
    "start_time": "2024-12-28T21:03:26.482Z"
   },
   {
    "duration": 421,
    "start_time": "2024-12-28T21:03:31.638Z"
   },
   {
    "duration": 332,
    "start_time": "2024-12-28T21:03:38.485Z"
   },
   {
    "duration": 65432,
    "start_time": "2024-12-28T21:04:03.757Z"
   },
   {
    "duration": 197,
    "start_time": "2024-12-28T21:05:09.193Z"
   },
   {
    "duration": 77,
    "start_time": "2024-12-28T21:05:27.419Z"
   },
   {
    "duration": 451170,
    "start_time": "2024-12-28T21:10:03.026Z"
   },
   {
    "duration": 12,
    "start_time": "2024-12-28T21:18:10.105Z"
   },
   {
    "duration": 194,
    "start_time": "2024-12-28T21:18:19.994Z"
   },
   {
    "duration": 38,
    "start_time": "2024-12-28T21:19:00.751Z"
   },
   {
    "duration": 77,
    "start_time": "2024-12-28T21:19:06.114Z"
   },
   {
    "duration": 68,
    "start_time": "2024-12-28T21:20:00.823Z"
   },
   {
    "duration": 19,
    "start_time": "2024-12-28T21:20:31.268Z"
   },
   {
    "duration": 88,
    "start_time": "2024-12-28T21:20:36.007Z"
   },
   {
    "duration": 49,
    "start_time": "2024-12-29T07:06:23.564Z"
   },
   {
    "duration": 9079,
    "start_time": "2024-12-29T07:06:29.562Z"
   },
   {
    "duration": 3,
    "start_time": "2024-12-29T07:06:38.643Z"
   },
   {
    "duration": 162,
    "start_time": "2024-12-29T07:06:38.647Z"
   },
   {
    "duration": 12,
    "start_time": "2024-12-29T07:06:38.811Z"
   },
   {
    "duration": 7,
    "start_time": "2024-12-29T07:06:38.824Z"
   },
   {
    "duration": 11,
    "start_time": "2024-12-29T07:06:38.833Z"
   },
   {
    "duration": 13,
    "start_time": "2024-12-29T07:06:38.846Z"
   },
   {
    "duration": 4,
    "start_time": "2024-12-29T07:06:38.861Z"
   },
   {
    "duration": 543,
    "start_time": "2024-12-29T07:06:38.867Z"
   },
   {
    "duration": 14,
    "start_time": "2024-12-29T07:06:39.416Z"
   },
   {
    "duration": 47,
    "start_time": "2024-12-29T07:06:39.431Z"
   },
   {
    "duration": 16,
    "start_time": "2024-12-29T07:06:39.480Z"
   },
   {
    "duration": 26,
    "start_time": "2024-12-29T07:06:39.497Z"
   },
   {
    "duration": 299,
    "start_time": "2024-12-29T07:06:39.525Z"
   },
   {
    "duration": 214,
    "start_time": "2024-12-29T07:06:39.826Z"
   },
   {
    "duration": 244,
    "start_time": "2024-12-29T07:06:40.042Z"
   },
   {
    "duration": 228,
    "start_time": "2024-12-29T07:06:40.289Z"
   },
   {
    "duration": 259,
    "start_time": "2024-12-29T07:06:40.519Z"
   },
   {
    "duration": 4,
    "start_time": "2024-12-29T07:06:40.779Z"
   },
   {
    "duration": 35,
    "start_time": "2024-12-29T07:06:40.785Z"
   },
   {
    "duration": 206,
    "start_time": "2024-12-29T07:06:40.822Z"
   },
   {
    "duration": 6,
    "start_time": "2024-12-29T07:06:41.030Z"
   },
   {
    "duration": 17,
    "start_time": "2024-12-29T07:06:41.037Z"
   },
   {
    "duration": 12,
    "start_time": "2024-12-29T07:06:41.056Z"
   },
   {
    "duration": 10,
    "start_time": "2024-12-29T07:06:41.070Z"
   },
   {
    "duration": 96750,
    "start_time": "2024-12-29T07:06:41.081Z"
   },
   {
    "duration": 15,
    "start_time": "2024-12-29T07:08:17.832Z"
   },
   {
    "duration": 29,
    "start_time": "2024-12-29T07:08:17.850Z"
   },
   {
    "duration": 0,
    "start_time": "2024-12-29T07:08:17.880Z"
   },
   {
    "duration": 0,
    "start_time": "2024-12-29T07:08:17.881Z"
   },
   {
    "duration": 0,
    "start_time": "2024-12-29T07:08:17.882Z"
   },
   {
    "duration": 0,
    "start_time": "2024-12-29T07:08:17.883Z"
   },
   {
    "duration": 0,
    "start_time": "2024-12-29T07:08:17.884Z"
   },
   {
    "duration": 0,
    "start_time": "2024-12-29T07:08:17.885Z"
   },
   {
    "duration": 0,
    "start_time": "2024-12-29T07:08:17.887Z"
   },
   {
    "duration": 0,
    "start_time": "2024-12-29T07:08:17.888Z"
   },
   {
    "duration": 0,
    "start_time": "2024-12-29T07:08:17.889Z"
   },
   {
    "duration": 0,
    "start_time": "2024-12-29T07:08:17.890Z"
   },
   {
    "duration": 95969,
    "start_time": "2024-12-29T07:09:36.754Z"
   },
   {
    "duration": 8,
    "start_time": "2024-12-29T07:11:12.725Z"
   },
   {
    "duration": 4,
    "start_time": "2024-12-29T07:12:06.727Z"
   },
   {
    "duration": 14,
    "start_time": "2024-12-29T07:12:07.689Z"
   },
   {
    "duration": 5508,
    "start_time": "2024-12-29T07:13:08.244Z"
   },
   {
    "duration": 3,
    "start_time": "2024-12-29T07:13:13.754Z"
   },
   {
    "duration": 116,
    "start_time": "2024-12-29T07:13:13.815Z"
   },
   {
    "duration": 10,
    "start_time": "2024-12-29T07:13:13.933Z"
   },
   {
    "duration": 74,
    "start_time": "2024-12-29T07:13:13.945Z"
   },
   {
    "duration": 100,
    "start_time": "2024-12-29T07:13:14.021Z"
   },
   {
    "duration": 63,
    "start_time": "2024-12-29T07:13:14.123Z"
   },
   {
    "duration": 45,
    "start_time": "2024-12-29T07:13:14.188Z"
   },
   {
    "duration": 446,
    "start_time": "2024-12-29T07:13:14.235Z"
   },
   {
    "duration": 12,
    "start_time": "2024-12-29T07:13:14.683Z"
   },
   {
    "duration": 119,
    "start_time": "2024-12-29T07:13:14.697Z"
   },
   {
    "duration": 6,
    "start_time": "2024-12-29T07:13:14.818Z"
   },
   {
    "duration": 9,
    "start_time": "2024-12-29T07:13:14.826Z"
   },
   {
    "duration": 317,
    "start_time": "2024-12-29T07:13:14.836Z"
   },
   {
    "duration": 211,
    "start_time": "2024-12-29T07:13:15.155Z"
   },
   {
    "duration": 221,
    "start_time": "2024-12-29T07:13:15.367Z"
   },
   {
    "duration": 213,
    "start_time": "2024-12-29T07:13:15.590Z"
   },
   {
    "duration": 244,
    "start_time": "2024-12-29T07:13:15.804Z"
   },
   {
    "duration": 5,
    "start_time": "2024-12-29T07:13:16.049Z"
   },
   {
    "duration": 59,
    "start_time": "2024-12-29T07:13:16.055Z"
   },
   {
    "duration": 238,
    "start_time": "2024-12-29T07:13:16.116Z"
   },
   {
    "duration": 5,
    "start_time": "2024-12-29T07:13:16.356Z"
   },
   {
    "duration": 27,
    "start_time": "2024-12-29T07:13:16.363Z"
   },
   {
    "duration": 20,
    "start_time": "2024-12-29T07:13:16.391Z"
   },
   {
    "duration": 5,
    "start_time": "2024-12-29T07:13:16.412Z"
   },
   {
    "duration": 98172,
    "start_time": "2024-12-29T07:13:16.418Z"
   },
   {
    "duration": 16,
    "start_time": "2024-12-29T07:14:54.593Z"
   },
   {
    "duration": 9,
    "start_time": "2024-12-29T07:14:54.610Z"
   },
   {
    "duration": 2175,
    "start_time": "2024-12-29T07:14:54.621Z"
   },
   {
    "duration": 74,
    "start_time": "2024-12-29T07:14:56.798Z"
   },
   {
    "duration": 941,
    "start_time": "2024-12-29T07:14:56.874Z"
   },
   {
    "duration": 12,
    "start_time": "2024-12-29T07:14:57.817Z"
   },
   {
    "duration": 5,
    "start_time": "2024-12-29T07:14:57.831Z"
   },
   {
    "duration": 86,
    "start_time": "2024-12-29T07:14:57.837Z"
   },
   {
    "duration": 0,
    "start_time": "2024-12-29T07:14:57.924Z"
   },
   {
    "duration": 0,
    "start_time": "2024-12-29T07:14:57.925Z"
   },
   {
    "duration": 0,
    "start_time": "2024-12-29T07:14:57.926Z"
   },
   {
    "duration": 0,
    "start_time": "2024-12-29T07:14:57.927Z"
   },
   {
    "duration": 8,
    "start_time": "2024-12-29T07:15:30.178Z"
   },
   {
    "duration": 95565,
    "start_time": "2024-12-29T07:16:27.164Z"
   },
   {
    "duration": 553,
    "start_time": "2024-12-29T07:18:33.167Z"
   },
   {
    "duration": 11,
    "start_time": "2024-12-29T07:19:27.920Z"
   },
   {
    "duration": 15,
    "start_time": "2024-12-29T07:19:37.177Z"
   },
   {
    "duration": 8,
    "start_time": "2024-12-29T07:19:38.201Z"
   },
   {
    "duration": 1430,
    "start_time": "2024-12-29T07:19:40.627Z"
   },
   {
    "duration": 48,
    "start_time": "2024-12-29T07:19:42.810Z"
   },
   {
    "duration": 441,
    "start_time": "2024-12-29T07:19:45.483Z"
   },
   {
    "duration": 16,
    "start_time": "2024-12-29T07:19:47.108Z"
   },
   {
    "duration": 4,
    "start_time": "2024-12-29T07:19:49.431Z"
   },
   {
    "duration": 11,
    "start_time": "2024-12-29T07:19:50.877Z"
   },
   {
    "duration": 10,
    "start_time": "2024-12-29T07:20:28.922Z"
   },
   {
    "duration": 26,
    "start_time": "2024-12-29T07:21:43.861Z"
   },
   {
    "duration": 885,
    "start_time": "2024-12-29T07:25:25.343Z"
   },
   {
    "duration": 880,
    "start_time": "2024-12-29T07:25:37.036Z"
   },
   {
    "duration": 7,
    "start_time": "2024-12-29T07:27:00.547Z"
   },
   {
    "duration": 10,
    "start_time": "2024-12-29T07:27:12.916Z"
   },
   {
    "duration": 10,
    "start_time": "2024-12-29T07:28:20.635Z"
   },
   {
    "duration": 813,
    "start_time": "2024-12-29T07:29:35.402Z"
   },
   {
    "duration": 13,
    "start_time": "2024-12-29T07:29:37.349Z"
   },
   {
    "duration": 10,
    "start_time": "2024-12-29T07:29:41.449Z"
   },
   {
    "duration": 10,
    "start_time": "2024-12-29T07:29:45.414Z"
   },
   {
    "duration": 19,
    "start_time": "2024-12-29T07:31:05.859Z"
   },
   {
    "duration": 20,
    "start_time": "2024-12-29T07:31:11.542Z"
   },
   {
    "duration": 177,
    "start_time": "2024-12-29T07:31:12.471Z"
   },
   {
    "duration": 6,
    "start_time": "2024-12-29T07:31:15.715Z"
   },
   {
    "duration": 7,
    "start_time": "2024-12-29T07:31:22.658Z"
   },
   {
    "duration": 9,
    "start_time": "2024-12-29T07:31:26.277Z"
   },
   {
    "duration": 1066,
    "start_time": "2024-12-29T07:31:34.557Z"
   },
   {
    "duration": 1215,
    "start_time": "2024-12-29T07:31:54.308Z"
   },
   {
    "duration": 97,
    "start_time": "2024-12-29T07:31:55.525Z"
   },
   {
    "duration": 11,
    "start_time": "2024-12-29T07:32:00.363Z"
   },
   {
    "duration": 4,
    "start_time": "2024-12-29T07:37:55.491Z"
   },
   {
    "duration": 19,
    "start_time": "2024-12-29T07:37:57.353Z"
   },
   {
    "duration": 8,
    "start_time": "2024-12-29T07:38:09.192Z"
   },
   {
    "duration": 10,
    "start_time": "2024-12-29T07:38:12.883Z"
   },
   {
    "duration": 995,
    "start_time": "2024-12-29T07:38:18.232Z"
   },
   {
    "duration": 924,
    "start_time": "2024-12-29T07:38:27.693Z"
   },
   {
    "duration": 97,
    "start_time": "2024-12-29T07:38:28.619Z"
   },
   {
    "duration": 13,
    "start_time": "2024-12-29T07:38:33.612Z"
   },
   {
    "duration": 4,
    "start_time": "2024-12-29T07:39:08.681Z"
   },
   {
    "duration": 18,
    "start_time": "2024-12-29T07:39:09.476Z"
   },
   {
    "duration": 183,
    "start_time": "2024-12-29T07:39:10.587Z"
   },
   {
    "duration": 5,
    "start_time": "2024-12-29T07:39:14.259Z"
   },
   {
    "duration": 6,
    "start_time": "2024-12-29T07:39:18.178Z"
   },
   {
    "duration": 9,
    "start_time": "2024-12-29T07:39:20.590Z"
   },
   {
    "duration": 1027,
    "start_time": "2024-12-29T07:39:24.294Z"
   },
   {
    "duration": 820,
    "start_time": "2024-12-29T07:39:37.598Z"
   },
   {
    "duration": 96,
    "start_time": "2024-12-29T07:39:38.420Z"
   },
   {
    "duration": 17,
    "start_time": "2024-12-29T07:39:41.869Z"
   },
   {
    "duration": 4,
    "start_time": "2024-12-29T07:41:25.932Z"
   },
   {
    "duration": 20,
    "start_time": "2024-12-29T07:41:27.536Z"
   },
   {
    "duration": 6,
    "start_time": "2024-12-29T07:41:32.309Z"
   },
   {
    "duration": 8,
    "start_time": "2024-12-29T07:41:36.276Z"
   },
   {
    "duration": 1068,
    "start_time": "2024-12-29T07:41:39.649Z"
   },
   {
    "duration": 5,
    "start_time": "2024-12-29T07:49:58.254Z"
   },
   {
    "duration": 92,
    "start_time": "2024-12-29T07:49:59.840Z"
   },
   {
    "duration": 3547,
    "start_time": "2024-12-29T07:50:05.210Z"
   },
   {
    "duration": 4,
    "start_time": "2024-12-29T07:50:11.250Z"
   },
   {
    "duration": 49749,
    "start_time": "2024-12-29T07:50:12.474Z"
   },
   {
    "duration": 2436,
    "start_time": "2024-12-29T07:51:26.226Z"
   },
   {
    "duration": 0,
    "start_time": "2024-12-29T07:51:28.663Z"
   },
   {
    "duration": 17,
    "start_time": "2024-12-29T07:51:38.420Z"
   },
   {
    "duration": 8,
    "start_time": "2024-12-29T07:51:38.731Z"
   },
   {
    "duration": 2357,
    "start_time": "2024-12-29T07:51:55.985Z"
   },
   {
    "duration": 75,
    "start_time": "2024-12-29T07:51:58.344Z"
   },
   {
    "duration": 761,
    "start_time": "2024-12-29T07:52:19.255Z"
   },
   {
    "duration": 14,
    "start_time": "2024-12-29T07:52:20.692Z"
   },
   {
    "duration": 10,
    "start_time": "2024-12-29T07:52:31.492Z"
   },
   {
    "duration": 1428,
    "start_time": "2024-12-29T07:55:31.719Z"
   },
   {
    "duration": 46,
    "start_time": "2024-12-29T07:55:33.719Z"
   },
   {
    "duration": 10,
    "start_time": "2024-12-29T07:56:24.800Z"
   },
   {
    "duration": 12,
    "start_time": "2024-12-29T07:56:37.711Z"
   },
   {
    "duration": 3,
    "start_time": "2024-12-29T07:57:21.528Z"
   },
   {
    "duration": 11,
    "start_time": "2024-12-29T07:57:23.572Z"
   },
   {
    "duration": 9572,
    "start_time": "2024-12-29T07:57:32.744Z"
   },
   {
    "duration": 11,
    "start_time": "2024-12-29T07:57:45.252Z"
   },
   {
    "duration": 15,
    "start_time": "2024-12-29T07:58:03.085Z"
   },
   {
    "duration": 4,
    "start_time": "2024-12-29T07:59:26.096Z"
   },
   {
    "duration": 19,
    "start_time": "2024-12-29T07:59:28.959Z"
   },
   {
    "duration": 5,
    "start_time": "2024-12-29T07:59:36.940Z"
   },
   {
    "duration": 7,
    "start_time": "2024-12-29T07:59:40.923Z"
   },
   {
    "duration": 1011,
    "start_time": "2024-12-29T07:59:49.314Z"
   },
   {
    "duration": 3,
    "start_time": "2024-12-29T07:59:59.680Z"
   },
   {
    "duration": 9459,
    "start_time": "2024-12-29T08:00:00.064Z"
   },
   {
    "duration": 93,
    "start_time": "2024-12-29T08:00:09.525Z"
   },
   {
    "duration": 742,
    "start_time": "2024-12-29T08:00:29.181Z"
   },
   {
    "duration": 94,
    "start_time": "2024-12-29T08:00:29.925Z"
   },
   {
    "duration": 11,
    "start_time": "2024-12-29T08:00:36.035Z"
   },
   {
    "duration": 9534,
    "start_time": "2024-12-29T10:15:56.384Z"
   },
   {
    "duration": 3,
    "start_time": "2024-12-29T10:16:05.920Z"
   },
   {
    "duration": 178,
    "start_time": "2024-12-29T10:16:05.924Z"
   },
   {
    "duration": 10,
    "start_time": "2024-12-29T10:16:06.105Z"
   },
   {
    "duration": 39,
    "start_time": "2024-12-29T10:16:06.117Z"
   },
   {
    "duration": 16,
    "start_time": "2024-12-29T10:16:06.157Z"
   },
   {
    "duration": 12,
    "start_time": "2024-12-29T10:16:06.174Z"
   },
   {
    "duration": 6,
    "start_time": "2024-12-29T10:16:06.188Z"
   },
   {
    "duration": 444,
    "start_time": "2024-12-29T10:16:06.196Z"
   },
   {
    "duration": 12,
    "start_time": "2024-12-29T10:16:06.643Z"
   },
   {
    "duration": 112,
    "start_time": "2024-12-29T10:16:06.656Z"
   },
   {
    "duration": 4,
    "start_time": "2024-12-29T10:16:06.770Z"
   },
   {
    "duration": 33,
    "start_time": "2024-12-29T10:16:06.775Z"
   },
   {
    "duration": 305,
    "start_time": "2024-12-29T10:16:06.809Z"
   },
   {
    "duration": 221,
    "start_time": "2024-12-29T10:16:07.116Z"
   },
   {
    "duration": 230,
    "start_time": "2024-12-29T10:16:07.339Z"
   },
   {
    "duration": 220,
    "start_time": "2024-12-29T10:16:07.571Z"
   },
   {
    "duration": 252,
    "start_time": "2024-12-29T10:16:07.793Z"
   },
   {
    "duration": 5,
    "start_time": "2024-12-29T10:16:08.047Z"
   },
   {
    "duration": 36,
    "start_time": "2024-12-29T10:16:08.055Z"
   },
   {
    "duration": 213,
    "start_time": "2024-12-29T10:16:08.093Z"
   },
   {
    "duration": 6,
    "start_time": "2024-12-29T10:16:08.308Z"
   },
   {
    "duration": 6,
    "start_time": "2024-12-29T10:16:08.315Z"
   },
   {
    "duration": 11,
    "start_time": "2024-12-29T10:16:08.323Z"
   },
   {
    "duration": 29,
    "start_time": "2024-12-29T10:16:08.336Z"
   },
   {
    "duration": 53815,
    "start_time": "2024-12-29T10:16:08.366Z"
   },
   {
    "duration": 191,
    "start_time": "2024-12-29T10:17:02.183Z"
   },
   {
    "duration": 0,
    "start_time": "2024-12-29T10:17:02.375Z"
   },
   {
    "duration": 0,
    "start_time": "2024-12-29T10:17:02.377Z"
   },
   {
    "duration": 0,
    "start_time": "2024-12-29T10:17:02.378Z"
   },
   {
    "duration": 0,
    "start_time": "2024-12-29T10:17:02.379Z"
   },
   {
    "duration": 0,
    "start_time": "2024-12-29T10:17:02.380Z"
   },
   {
    "duration": 0,
    "start_time": "2024-12-29T10:17:02.381Z"
   },
   {
    "duration": 0,
    "start_time": "2024-12-29T10:17:02.382Z"
   },
   {
    "duration": 0,
    "start_time": "2024-12-29T10:17:02.384Z"
   },
   {
    "duration": 0,
    "start_time": "2024-12-29T10:17:02.385Z"
   },
   {
    "duration": 0,
    "start_time": "2024-12-29T10:17:02.386Z"
   },
   {
    "duration": 0,
    "start_time": "2024-12-29T10:17:02.387Z"
   },
   {
    "duration": 0,
    "start_time": "2024-12-29T10:17:02.388Z"
   },
   {
    "duration": 1,
    "start_time": "2024-12-29T10:17:02.389Z"
   },
   {
    "duration": 0,
    "start_time": "2024-12-29T10:17:02.391Z"
   },
   {
    "duration": 51712,
    "start_time": "2024-12-29T10:21:50.371Z"
   },
   {
    "duration": 4,
    "start_time": "2024-12-29T10:22:51.604Z"
   },
   {
    "duration": 53117,
    "start_time": "2024-12-29T10:22:51.957Z"
   },
   {
    "duration": 27,
    "start_time": "2024-12-29T10:24:11.132Z"
   },
   {
    "duration": 8,
    "start_time": "2024-12-29T10:24:12.751Z"
   },
   {
    "duration": 2631,
    "start_time": "2024-12-29T10:24:28.614Z"
   },
   {
    "duration": 87,
    "start_time": "2024-12-29T10:24:31.247Z"
   },
   {
    "duration": 973,
    "start_time": "2024-12-29T10:24:41.413Z"
   },
   {
    "duration": 13,
    "start_time": "2024-12-29T10:24:42.470Z"
   },
   {
    "duration": 11,
    "start_time": "2024-12-29T10:24:50.146Z"
   },
   {
    "duration": 16,
    "start_time": "2024-12-29T10:25:18.410Z"
   },
   {
    "duration": 14,
    "start_time": "2024-12-29T10:25:27.530Z"
   },
   {
    "duration": 462,
    "start_time": "2024-12-29T10:25:31.933Z"
   },
   {
    "duration": 354,
    "start_time": "2024-12-29T10:25:47.455Z"
   },
   {
    "duration": 3,
    "start_time": "2024-12-29T14:54:36.018Z"
   },
   {
    "duration": 222,
    "start_time": "2024-12-29T14:54:36.022Z"
   },
   {
    "duration": 14,
    "start_time": "2024-12-29T14:54:36.246Z"
   },
   {
    "duration": 21,
    "start_time": "2024-12-29T14:54:36.262Z"
   },
   {
    "duration": 28,
    "start_time": "2024-12-29T14:54:36.284Z"
   },
   {
    "duration": 14,
    "start_time": "2024-12-29T14:54:36.313Z"
   },
   {
    "duration": 6,
    "start_time": "2024-12-29T14:54:36.328Z"
   },
   {
    "duration": 480,
    "start_time": "2024-12-29T14:54:36.336Z"
   },
   {
    "duration": 13,
    "start_time": "2024-12-29T14:54:36.819Z"
   },
   {
    "duration": 115,
    "start_time": "2024-12-29T14:54:36.834Z"
   },
   {
    "duration": 9,
    "start_time": "2024-12-29T14:54:36.951Z"
   },
   {
    "duration": 23,
    "start_time": "2024-12-29T14:54:36.962Z"
   },
   {
    "duration": 314,
    "start_time": "2024-12-29T14:54:36.987Z"
   },
   {
    "duration": 224,
    "start_time": "2024-12-29T14:54:37.303Z"
   },
   {
    "duration": 236,
    "start_time": "2024-12-29T14:54:37.528Z"
   },
   {
    "duration": 248,
    "start_time": "2024-12-29T14:54:37.766Z"
   },
   {
    "duration": 259,
    "start_time": "2024-12-29T14:54:38.015Z"
   },
   {
    "duration": 4,
    "start_time": "2024-12-29T14:54:38.276Z"
   },
   {
    "duration": 33,
    "start_time": "2024-12-29T14:54:38.282Z"
   },
   {
    "duration": 144,
    "start_time": "2024-12-29T14:54:38.317Z"
   },
   {
    "duration": 0,
    "start_time": "2024-12-29T14:54:38.463Z"
   },
   {
    "duration": 0,
    "start_time": "2024-12-29T14:54:38.465Z"
   },
   {
    "duration": 0,
    "start_time": "2024-12-29T14:54:38.466Z"
   },
   {
    "duration": 0,
    "start_time": "2024-12-29T14:54:38.468Z"
   },
   {
    "duration": 0,
    "start_time": "2024-12-29T14:54:38.469Z"
   },
   {
    "duration": 0,
    "start_time": "2024-12-29T14:54:38.470Z"
   },
   {
    "duration": 0,
    "start_time": "2024-12-29T14:54:38.471Z"
   },
   {
    "duration": 0,
    "start_time": "2024-12-29T14:54:38.472Z"
   },
   {
    "duration": 0,
    "start_time": "2024-12-29T14:54:38.473Z"
   },
   {
    "duration": 0,
    "start_time": "2024-12-29T14:54:38.475Z"
   },
   {
    "duration": 0,
    "start_time": "2024-12-29T14:54:38.476Z"
   },
   {
    "duration": 0,
    "start_time": "2024-12-29T14:54:38.477Z"
   },
   {
    "duration": 0,
    "start_time": "2024-12-29T14:54:38.478Z"
   },
   {
    "duration": 0,
    "start_time": "2024-12-29T14:54:38.479Z"
   },
   {
    "duration": 0,
    "start_time": "2024-12-29T14:54:38.481Z"
   },
   {
    "duration": 0,
    "start_time": "2024-12-29T14:54:38.482Z"
   },
   {
    "duration": 0,
    "start_time": "2024-12-29T14:54:38.483Z"
   },
   {
    "duration": 5194,
    "start_time": "2024-12-29T14:54:40.178Z"
   },
   {
    "duration": 17,
    "start_time": "2024-12-29T14:54:51.409Z"
   },
   {
    "duration": 5471,
    "start_time": "2024-12-29T14:54:56.670Z"
   },
   {
    "duration": 0,
    "start_time": "2024-12-29T14:55:02.144Z"
   },
   {
    "duration": 0,
    "start_time": "2024-12-29T14:55:02.145Z"
   },
   {
    "duration": 0,
    "start_time": "2024-12-29T14:55:02.146Z"
   },
   {
    "duration": 0,
    "start_time": "2024-12-29T14:55:02.160Z"
   },
   {
    "duration": 0,
    "start_time": "2024-12-29T14:55:02.161Z"
   },
   {
    "duration": 0,
    "start_time": "2024-12-29T14:55:02.162Z"
   },
   {
    "duration": 0,
    "start_time": "2024-12-29T14:55:02.163Z"
   },
   {
    "duration": 0,
    "start_time": "2024-12-29T14:55:02.164Z"
   },
   {
    "duration": 0,
    "start_time": "2024-12-29T14:55:02.166Z"
   },
   {
    "duration": 0,
    "start_time": "2024-12-29T14:55:02.166Z"
   },
   {
    "duration": 0,
    "start_time": "2024-12-29T14:55:02.168Z"
   },
   {
    "duration": 0,
    "start_time": "2024-12-29T14:55:02.168Z"
   },
   {
    "duration": 0,
    "start_time": "2024-12-29T14:55:02.170Z"
   },
   {
    "duration": 0,
    "start_time": "2024-12-29T14:55:02.171Z"
   },
   {
    "duration": 0,
    "start_time": "2024-12-29T14:55:02.172Z"
   },
   {
    "duration": 0,
    "start_time": "2024-12-29T14:55:02.173Z"
   },
   {
    "duration": 0,
    "start_time": "2024-12-29T14:55:02.174Z"
   },
   {
    "duration": 0,
    "start_time": "2024-12-29T14:55:02.175Z"
   },
   {
    "duration": 0,
    "start_time": "2024-12-29T14:55:02.176Z"
   },
   {
    "duration": 0,
    "start_time": "2024-12-29T14:55:02.178Z"
   },
   {
    "duration": 0,
    "start_time": "2024-12-29T14:55:02.179Z"
   },
   {
    "duration": 0,
    "start_time": "2024-12-29T14:55:02.180Z"
   },
   {
    "duration": 0,
    "start_time": "2024-12-29T14:55:02.181Z"
   },
   {
    "duration": 0,
    "start_time": "2024-12-29T14:55:02.182Z"
   },
   {
    "duration": 0,
    "start_time": "2024-12-29T14:55:02.183Z"
   },
   {
    "duration": 0,
    "start_time": "2024-12-29T14:55:02.184Z"
   },
   {
    "duration": 0,
    "start_time": "2024-12-29T14:55:02.185Z"
   },
   {
    "duration": 0,
    "start_time": "2024-12-29T14:55:02.186Z"
   },
   {
    "duration": 0,
    "start_time": "2024-12-29T14:55:02.188Z"
   },
   {
    "duration": 0,
    "start_time": "2024-12-29T14:55:02.189Z"
   },
   {
    "duration": 0,
    "start_time": "2024-12-29T14:55:02.190Z"
   },
   {
    "duration": 0,
    "start_time": "2024-12-29T14:55:02.191Z"
   },
   {
    "duration": 0,
    "start_time": "2024-12-29T14:55:02.192Z"
   },
   {
    "duration": 0,
    "start_time": "2024-12-29T14:55:02.193Z"
   },
   {
    "duration": 0,
    "start_time": "2024-12-29T14:55:02.194Z"
   },
   {
    "duration": 0,
    "start_time": "2024-12-29T14:55:02.195Z"
   },
   {
    "duration": 5750,
    "start_time": "2024-12-29T14:55:36.491Z"
   },
   {
    "duration": 0,
    "start_time": "2024-12-29T14:55:42.245Z"
   },
   {
    "duration": 0,
    "start_time": "2024-12-29T14:55:42.246Z"
   },
   {
    "duration": 0,
    "start_time": "2024-12-29T14:55:42.247Z"
   },
   {
    "duration": 0,
    "start_time": "2024-12-29T14:55:42.260Z"
   },
   {
    "duration": 0,
    "start_time": "2024-12-29T14:55:42.261Z"
   },
   {
    "duration": 0,
    "start_time": "2024-12-29T14:55:42.263Z"
   },
   {
    "duration": 0,
    "start_time": "2024-12-29T14:55:42.264Z"
   },
   {
    "duration": 0,
    "start_time": "2024-12-29T14:55:42.265Z"
   },
   {
    "duration": 0,
    "start_time": "2024-12-29T14:55:42.266Z"
   },
   {
    "duration": 0,
    "start_time": "2024-12-29T14:55:42.267Z"
   },
   {
    "duration": 0,
    "start_time": "2024-12-29T14:55:42.268Z"
   },
   {
    "duration": 0,
    "start_time": "2024-12-29T14:55:42.269Z"
   },
   {
    "duration": 0,
    "start_time": "2024-12-29T14:55:42.270Z"
   },
   {
    "duration": 0,
    "start_time": "2024-12-29T14:55:42.271Z"
   },
   {
    "duration": 0,
    "start_time": "2024-12-29T14:55:42.272Z"
   },
   {
    "duration": 0,
    "start_time": "2024-12-29T14:55:42.273Z"
   },
   {
    "duration": 0,
    "start_time": "2024-12-29T14:55:42.275Z"
   },
   {
    "duration": 0,
    "start_time": "2024-12-29T14:55:42.276Z"
   },
   {
    "duration": 0,
    "start_time": "2024-12-29T14:55:42.277Z"
   },
   {
    "duration": 0,
    "start_time": "2024-12-29T14:55:42.278Z"
   },
   {
    "duration": 0,
    "start_time": "2024-12-29T14:55:42.279Z"
   },
   {
    "duration": 0,
    "start_time": "2024-12-29T14:55:42.280Z"
   },
   {
    "duration": 0,
    "start_time": "2024-12-29T14:55:42.282Z"
   },
   {
    "duration": 0,
    "start_time": "2024-12-29T14:55:42.282Z"
   },
   {
    "duration": 0,
    "start_time": "2024-12-29T14:55:42.284Z"
   },
   {
    "duration": 0,
    "start_time": "2024-12-29T14:55:42.285Z"
   },
   {
    "duration": 0,
    "start_time": "2024-12-29T14:55:42.286Z"
   },
   {
    "duration": 0,
    "start_time": "2024-12-29T14:55:42.287Z"
   },
   {
    "duration": 0,
    "start_time": "2024-12-29T14:55:42.288Z"
   },
   {
    "duration": 0,
    "start_time": "2024-12-29T14:55:42.289Z"
   },
   {
    "duration": 0,
    "start_time": "2024-12-29T14:55:42.290Z"
   },
   {
    "duration": 0,
    "start_time": "2024-12-29T14:55:42.292Z"
   },
   {
    "duration": 0,
    "start_time": "2024-12-29T14:55:42.293Z"
   },
   {
    "duration": 0,
    "start_time": "2024-12-29T14:55:42.294Z"
   },
   {
    "duration": 0,
    "start_time": "2024-12-29T14:55:42.295Z"
   },
   {
    "duration": 0,
    "start_time": "2024-12-29T14:55:42.296Z"
   },
   {
    "duration": 5497,
    "start_time": "2024-12-29T14:57:06.006Z"
   },
   {
    "duration": 0,
    "start_time": "2024-12-29T14:57:11.506Z"
   },
   {
    "duration": 0,
    "start_time": "2024-12-29T14:57:11.507Z"
   },
   {
    "duration": 0,
    "start_time": "2024-12-29T14:57:11.508Z"
   },
   {
    "duration": 0,
    "start_time": "2024-12-29T14:57:11.509Z"
   },
   {
    "duration": 1,
    "start_time": "2024-12-29T14:57:11.510Z"
   },
   {
    "duration": 0,
    "start_time": "2024-12-29T14:57:11.512Z"
   },
   {
    "duration": 0,
    "start_time": "2024-12-29T14:57:11.513Z"
   },
   {
    "duration": 0,
    "start_time": "2024-12-29T14:57:11.514Z"
   },
   {
    "duration": 0,
    "start_time": "2024-12-29T14:57:11.515Z"
   },
   {
    "duration": 0,
    "start_time": "2024-12-29T14:57:11.516Z"
   },
   {
    "duration": 0,
    "start_time": "2024-12-29T14:57:11.517Z"
   },
   {
    "duration": 0,
    "start_time": "2024-12-29T14:57:11.518Z"
   },
   {
    "duration": 0,
    "start_time": "2024-12-29T14:57:11.519Z"
   },
   {
    "duration": 0,
    "start_time": "2024-12-29T14:57:11.520Z"
   },
   {
    "duration": 0,
    "start_time": "2024-12-29T14:57:11.521Z"
   },
   {
    "duration": 0,
    "start_time": "2024-12-29T14:57:11.522Z"
   },
   {
    "duration": 0,
    "start_time": "2024-12-29T14:57:11.523Z"
   },
   {
    "duration": 0,
    "start_time": "2024-12-29T14:57:11.524Z"
   },
   {
    "duration": 0,
    "start_time": "2024-12-29T14:57:11.525Z"
   },
   {
    "duration": 0,
    "start_time": "2024-12-29T14:57:11.526Z"
   },
   {
    "duration": 0,
    "start_time": "2024-12-29T14:57:11.527Z"
   },
   {
    "duration": 0,
    "start_time": "2024-12-29T14:57:11.560Z"
   },
   {
    "duration": 0,
    "start_time": "2024-12-29T14:57:11.561Z"
   },
   {
    "duration": 0,
    "start_time": "2024-12-29T14:57:11.562Z"
   },
   {
    "duration": 0,
    "start_time": "2024-12-29T14:57:11.563Z"
   },
   {
    "duration": 0,
    "start_time": "2024-12-29T14:57:11.564Z"
   },
   {
    "duration": 0,
    "start_time": "2024-12-29T14:57:11.565Z"
   },
   {
    "duration": 0,
    "start_time": "2024-12-29T14:57:11.566Z"
   },
   {
    "duration": 0,
    "start_time": "2024-12-29T14:57:11.567Z"
   },
   {
    "duration": 0,
    "start_time": "2024-12-29T14:57:11.569Z"
   },
   {
    "duration": 0,
    "start_time": "2024-12-29T14:57:11.570Z"
   },
   {
    "duration": 0,
    "start_time": "2024-12-29T14:57:11.571Z"
   },
   {
    "duration": 0,
    "start_time": "2024-12-29T14:57:11.572Z"
   },
   {
    "duration": 0,
    "start_time": "2024-12-29T14:57:11.573Z"
   },
   {
    "duration": 0,
    "start_time": "2024-12-29T14:57:11.574Z"
   },
   {
    "duration": 0,
    "start_time": "2024-12-29T14:57:11.575Z"
   },
   {
    "duration": 12,
    "start_time": "2024-12-29T15:08:03.591Z"
   },
   {
    "duration": 40,
    "start_time": "2024-12-29T15:08:22.720Z"
   },
   {
    "duration": 3,
    "start_time": "2024-12-29T15:08:35.755Z"
   },
   {
    "duration": 98,
    "start_time": "2024-12-29T15:08:37.430Z"
   },
   {
    "duration": 13,
    "start_time": "2024-12-29T15:08:40.791Z"
   },
   {
    "duration": 7,
    "start_time": "2024-12-29T15:08:41.098Z"
   },
   {
    "duration": 12,
    "start_time": "2024-12-29T15:08:44.034Z"
   },
   {
    "duration": 14,
    "start_time": "2024-12-29T15:08:46.635Z"
   },
   {
    "duration": 4,
    "start_time": "2024-12-29T15:08:48.551Z"
   },
   {
    "duration": 453,
    "start_time": "2024-12-29T15:08:50.556Z"
   },
   {
    "duration": 13,
    "start_time": "2024-12-29T15:08:54.485Z"
   },
   {
    "duration": 9,
    "start_time": "2024-12-29T15:09:03.197Z"
   },
   {
    "duration": 5,
    "start_time": "2024-12-29T15:09:05.353Z"
   },
   {
    "duration": 13,
    "start_time": "2024-12-29T15:09:05.988Z"
   },
   {
    "duration": 12,
    "start_time": "2024-12-29T15:09:06.407Z"
   },
   {
    "duration": 3238,
    "start_time": "2024-12-29T15:09:57.039Z"
   },
   {
    "duration": 1311,
    "start_time": "2024-12-29T15:10:25.477Z"
   },
   {
    "duration": 3299,
    "start_time": "2024-12-29T15:10:55.643Z"
   },
   {
    "duration": 31309,
    "start_time": "2024-12-29T15:11:37.684Z"
   },
   {
    "duration": 7658,
    "start_time": "2024-12-29T15:12:11.513Z"
   },
   {
    "duration": 8841,
    "start_time": "2024-12-29T15:13:53.597Z"
   },
   {
    "duration": 0,
    "start_time": "2024-12-29T15:14:02.442Z"
   },
   {
    "duration": 0,
    "start_time": "2024-12-29T15:14:02.444Z"
   },
   {
    "duration": 0,
    "start_time": "2024-12-29T15:14:02.445Z"
   },
   {
    "duration": 0,
    "start_time": "2024-12-29T15:14:02.446Z"
   },
   {
    "duration": 0,
    "start_time": "2024-12-29T15:14:02.448Z"
   },
   {
    "duration": 0,
    "start_time": "2024-12-29T15:14:02.449Z"
   },
   {
    "duration": 1,
    "start_time": "2024-12-29T15:14:02.450Z"
   },
   {
    "duration": 0,
    "start_time": "2024-12-29T15:14:02.452Z"
   },
   {
    "duration": 0,
    "start_time": "2024-12-29T15:14:02.453Z"
   },
   {
    "duration": 0,
    "start_time": "2024-12-29T15:14:02.454Z"
   },
   {
    "duration": 0,
    "start_time": "2024-12-29T15:14:02.455Z"
   },
   {
    "duration": 0,
    "start_time": "2024-12-29T15:14:02.456Z"
   },
   {
    "duration": 0,
    "start_time": "2024-12-29T15:14:02.457Z"
   },
   {
    "duration": 0,
    "start_time": "2024-12-29T15:14:02.459Z"
   },
   {
    "duration": 0,
    "start_time": "2024-12-29T15:14:02.460Z"
   },
   {
    "duration": 0,
    "start_time": "2024-12-29T15:14:02.461Z"
   },
   {
    "duration": 0,
    "start_time": "2024-12-29T15:14:02.462Z"
   },
   {
    "duration": 0,
    "start_time": "2024-12-29T15:14:02.463Z"
   },
   {
    "duration": 0,
    "start_time": "2024-12-29T15:14:02.464Z"
   },
   {
    "duration": 0,
    "start_time": "2024-12-29T15:14:02.466Z"
   },
   {
    "duration": 0,
    "start_time": "2024-12-29T15:14:02.467Z"
   },
   {
    "duration": 0,
    "start_time": "2024-12-29T15:14:02.468Z"
   },
   {
    "duration": 0,
    "start_time": "2024-12-29T15:14:02.469Z"
   },
   {
    "duration": 0,
    "start_time": "2024-12-29T15:14:02.471Z"
   },
   {
    "duration": 0,
    "start_time": "2024-12-29T15:14:02.472Z"
   },
   {
    "duration": 0,
    "start_time": "2024-12-29T15:14:02.473Z"
   },
   {
    "duration": 0,
    "start_time": "2024-12-29T15:14:02.475Z"
   },
   {
    "duration": 0,
    "start_time": "2024-12-29T15:14:02.476Z"
   },
   {
    "duration": 0,
    "start_time": "2024-12-29T15:14:02.477Z"
   },
   {
    "duration": 0,
    "start_time": "2024-12-29T15:14:02.478Z"
   },
   {
    "duration": 0,
    "start_time": "2024-12-29T15:14:02.479Z"
   },
   {
    "duration": 0,
    "start_time": "2024-12-29T15:14:02.480Z"
   },
   {
    "duration": 0,
    "start_time": "2024-12-29T15:14:02.481Z"
   },
   {
    "duration": 0,
    "start_time": "2024-12-29T15:14:02.482Z"
   },
   {
    "duration": 0,
    "start_time": "2024-12-29T15:14:02.483Z"
   },
   {
    "duration": 0,
    "start_time": "2024-12-29T15:14:02.485Z"
   },
   {
    "duration": 241,
    "start_time": "2024-12-29T15:15:12.145Z"
   },
   {
    "duration": 495,
    "start_time": "2024-12-29T15:15:26.966Z"
   },
   {
    "duration": 0,
    "start_time": "2024-12-29T15:15:27.466Z"
   },
   {
    "duration": 0,
    "start_time": "2024-12-29T15:15:27.467Z"
   },
   {
    "duration": 0,
    "start_time": "2024-12-29T15:15:27.468Z"
   },
   {
    "duration": 0,
    "start_time": "2024-12-29T15:15:27.469Z"
   },
   {
    "duration": 0,
    "start_time": "2024-12-29T15:15:27.470Z"
   },
   {
    "duration": 1,
    "start_time": "2024-12-29T15:15:27.471Z"
   },
   {
    "duration": 0,
    "start_time": "2024-12-29T15:15:27.473Z"
   },
   {
    "duration": 0,
    "start_time": "2024-12-29T15:15:27.474Z"
   },
   {
    "duration": 0,
    "start_time": "2024-12-29T15:15:27.475Z"
   },
   {
    "duration": 0,
    "start_time": "2024-12-29T15:15:27.476Z"
   },
   {
    "duration": 0,
    "start_time": "2024-12-29T15:15:27.477Z"
   },
   {
    "duration": 0,
    "start_time": "2024-12-29T15:15:27.478Z"
   },
   {
    "duration": 0,
    "start_time": "2024-12-29T15:15:27.479Z"
   },
   {
    "duration": 0,
    "start_time": "2024-12-29T15:15:27.481Z"
   },
   {
    "duration": 0,
    "start_time": "2024-12-29T15:15:27.481Z"
   },
   {
    "duration": 0,
    "start_time": "2024-12-29T15:15:27.482Z"
   },
   {
    "duration": 0,
    "start_time": "2024-12-29T15:15:27.483Z"
   },
   {
    "duration": 0,
    "start_time": "2024-12-29T15:15:27.484Z"
   },
   {
    "duration": 1,
    "start_time": "2024-12-29T15:15:27.485Z"
   },
   {
    "duration": 0,
    "start_time": "2024-12-29T15:15:27.487Z"
   },
   {
    "duration": 0,
    "start_time": "2024-12-29T15:15:27.488Z"
   },
   {
    "duration": 0,
    "start_time": "2024-12-29T15:15:27.489Z"
   },
   {
    "duration": 0,
    "start_time": "2024-12-29T15:15:27.490Z"
   },
   {
    "duration": 0,
    "start_time": "2024-12-29T15:15:27.491Z"
   },
   {
    "duration": 0,
    "start_time": "2024-12-29T15:15:27.492Z"
   },
   {
    "duration": 0,
    "start_time": "2024-12-29T15:15:27.493Z"
   },
   {
    "duration": 0,
    "start_time": "2024-12-29T15:15:27.494Z"
   },
   {
    "duration": 0,
    "start_time": "2024-12-29T15:15:27.495Z"
   },
   {
    "duration": 0,
    "start_time": "2024-12-29T15:15:27.496Z"
   },
   {
    "duration": 0,
    "start_time": "2024-12-29T15:15:27.497Z"
   },
   {
    "duration": 0,
    "start_time": "2024-12-29T15:15:27.498Z"
   },
   {
    "duration": 0,
    "start_time": "2024-12-29T15:15:27.499Z"
   },
   {
    "duration": 0,
    "start_time": "2024-12-29T15:15:27.500Z"
   },
   {
    "duration": 0,
    "start_time": "2024-12-29T15:15:27.501Z"
   },
   {
    "duration": 0,
    "start_time": "2024-12-29T15:15:27.502Z"
   },
   {
    "duration": 1,
    "start_time": "2024-12-29T15:15:27.503Z"
   },
   {
    "duration": 10,
    "start_time": "2024-12-29T15:17:01.978Z"
   },
   {
    "duration": 608,
    "start_time": "2024-12-29T15:22:00.938Z"
   },
   {
    "duration": 0,
    "start_time": "2024-12-29T15:22:01.551Z"
   },
   {
    "duration": 0,
    "start_time": "2024-12-29T15:22:01.554Z"
   },
   {
    "duration": 0,
    "start_time": "2024-12-29T15:22:01.555Z"
   },
   {
    "duration": 0,
    "start_time": "2024-12-29T15:22:01.557Z"
   },
   {
    "duration": 0,
    "start_time": "2024-12-29T15:22:01.558Z"
   },
   {
    "duration": 0,
    "start_time": "2024-12-29T15:22:01.559Z"
   },
   {
    "duration": 0,
    "start_time": "2024-12-29T15:22:01.561Z"
   },
   {
    "duration": 0,
    "start_time": "2024-12-29T15:22:01.562Z"
   },
   {
    "duration": 0,
    "start_time": "2024-12-29T15:22:01.563Z"
   },
   {
    "duration": 0,
    "start_time": "2024-12-29T15:22:01.565Z"
   },
   {
    "duration": 0,
    "start_time": "2024-12-29T15:22:01.566Z"
   },
   {
    "duration": 0,
    "start_time": "2024-12-29T15:22:01.567Z"
   },
   {
    "duration": 0,
    "start_time": "2024-12-29T15:22:01.568Z"
   },
   {
    "duration": 0,
    "start_time": "2024-12-29T15:22:01.570Z"
   },
   {
    "duration": 0,
    "start_time": "2024-12-29T15:22:01.572Z"
   },
   {
    "duration": 0,
    "start_time": "2024-12-29T15:22:01.573Z"
   },
   {
    "duration": 0,
    "start_time": "2024-12-29T15:22:01.574Z"
   },
   {
    "duration": 0,
    "start_time": "2024-12-29T15:22:01.575Z"
   },
   {
    "duration": 0,
    "start_time": "2024-12-29T15:22:01.576Z"
   },
   {
    "duration": 0,
    "start_time": "2024-12-29T15:22:01.577Z"
   },
   {
    "duration": 0,
    "start_time": "2024-12-29T15:22:01.578Z"
   },
   {
    "duration": 0,
    "start_time": "2024-12-29T15:22:01.580Z"
   },
   {
    "duration": 0,
    "start_time": "2024-12-29T15:22:01.581Z"
   },
   {
    "duration": 0,
    "start_time": "2024-12-29T15:22:01.582Z"
   },
   {
    "duration": 0,
    "start_time": "2024-12-29T15:22:01.583Z"
   },
   {
    "duration": 0,
    "start_time": "2024-12-29T15:22:01.584Z"
   },
   {
    "duration": 0,
    "start_time": "2024-12-29T15:22:01.585Z"
   },
   {
    "duration": 0,
    "start_time": "2024-12-29T15:22:01.586Z"
   },
   {
    "duration": 0,
    "start_time": "2024-12-29T15:22:01.588Z"
   },
   {
    "duration": 0,
    "start_time": "2024-12-29T15:22:01.589Z"
   },
   {
    "duration": 0,
    "start_time": "2024-12-29T15:22:01.590Z"
   },
   {
    "duration": 0,
    "start_time": "2024-12-29T15:22:01.592Z"
   },
   {
    "duration": 0,
    "start_time": "2024-12-29T15:22:01.593Z"
   },
   {
    "duration": 0,
    "start_time": "2024-12-29T15:22:01.595Z"
   },
   {
    "duration": 0,
    "start_time": "2024-12-29T15:22:01.596Z"
   },
   {
    "duration": 0,
    "start_time": "2024-12-29T15:22:01.598Z"
   },
   {
    "duration": 0,
    "start_time": "2024-12-29T15:27:45.674Z"
   },
   {
    "duration": 0,
    "start_time": "2024-12-29T15:27:45.675Z"
   },
   {
    "duration": 0,
    "start_time": "2024-12-29T15:27:45.677Z"
   },
   {
    "duration": 0,
    "start_time": "2024-12-29T15:27:45.679Z"
   },
   {
    "duration": 0,
    "start_time": "2024-12-29T15:27:45.680Z"
   },
   {
    "duration": 0,
    "start_time": "2024-12-29T15:27:45.681Z"
   },
   {
    "duration": 0,
    "start_time": "2024-12-29T15:27:45.683Z"
   },
   {
    "duration": 0,
    "start_time": "2024-12-29T15:27:45.684Z"
   },
   {
    "duration": 0,
    "start_time": "2024-12-29T15:27:45.685Z"
   },
   {
    "duration": 0,
    "start_time": "2024-12-29T15:27:45.687Z"
   },
   {
    "duration": 0,
    "start_time": "2024-12-29T15:27:45.688Z"
   },
   {
    "duration": 0,
    "start_time": "2024-12-29T15:27:45.689Z"
   },
   {
    "duration": 0,
    "start_time": "2024-12-29T15:27:45.690Z"
   },
   {
    "duration": 0,
    "start_time": "2024-12-29T15:27:45.691Z"
   },
   {
    "duration": 0,
    "start_time": "2024-12-29T15:27:45.692Z"
   },
   {
    "duration": 0,
    "start_time": "2024-12-29T15:27:45.693Z"
   },
   {
    "duration": 0,
    "start_time": "2024-12-29T15:27:45.694Z"
   },
   {
    "duration": 0,
    "start_time": "2024-12-29T15:27:45.696Z"
   },
   {
    "duration": 0,
    "start_time": "2024-12-29T15:27:45.698Z"
   },
   {
    "duration": 0,
    "start_time": "2024-12-29T15:27:45.699Z"
   },
   {
    "duration": 0,
    "start_time": "2024-12-29T15:27:45.701Z"
   },
   {
    "duration": 0,
    "start_time": "2024-12-29T15:27:45.702Z"
   },
   {
    "duration": 0,
    "start_time": "2024-12-29T15:27:45.703Z"
   },
   {
    "duration": 0,
    "start_time": "2024-12-29T15:27:45.704Z"
   },
   {
    "duration": 0,
    "start_time": "2024-12-29T15:27:45.705Z"
   },
   {
    "duration": 0,
    "start_time": "2024-12-29T15:27:45.707Z"
   },
   {
    "duration": 0,
    "start_time": "2024-12-29T15:27:45.708Z"
   },
   {
    "duration": 0,
    "start_time": "2024-12-29T15:27:45.709Z"
   },
   {
    "duration": 0,
    "start_time": "2024-12-29T15:27:45.710Z"
   },
   {
    "duration": 0,
    "start_time": "2024-12-29T15:27:45.760Z"
   },
   {
    "duration": 0,
    "start_time": "2024-12-29T15:27:45.762Z"
   },
   {
    "duration": 0,
    "start_time": "2024-12-29T15:27:45.763Z"
   },
   {
    "duration": 0,
    "start_time": "2024-12-29T15:27:45.764Z"
   },
   {
    "duration": 0,
    "start_time": "2024-12-29T15:27:45.766Z"
   },
   {
    "duration": 0,
    "start_time": "2024-12-29T15:27:45.767Z"
   },
   {
    "duration": 0,
    "start_time": "2024-12-29T15:27:45.768Z"
   },
   {
    "duration": 0,
    "start_time": "2024-12-29T15:27:45.770Z"
   },
   {
    "duration": 0,
    "start_time": "2024-12-29T15:27:45.771Z"
   },
   {
    "duration": 0,
    "start_time": "2024-12-29T15:30:53.289Z"
   },
   {
    "duration": 3800,
    "start_time": "2024-12-29T15:30:54.619Z"
   },
   {
    "duration": 14943,
    "start_time": "2024-12-29T15:31:06.299Z"
   },
   {
    "duration": 3387,
    "start_time": "2024-12-29T15:31:42.077Z"
   },
   {
    "duration": 21433,
    "start_time": "2024-12-29T15:31:45.466Z"
   },
   {
    "duration": 0,
    "start_time": "2024-12-29T15:32:06.902Z"
   },
   {
    "duration": 0,
    "start_time": "2024-12-29T15:32:06.904Z"
   },
   {
    "duration": 1,
    "start_time": "2024-12-29T15:32:06.905Z"
   },
   {
    "duration": 0,
    "start_time": "2024-12-29T15:32:06.907Z"
   },
   {
    "duration": 0,
    "start_time": "2024-12-29T15:32:06.908Z"
   },
   {
    "duration": 0,
    "start_time": "2024-12-29T15:32:06.910Z"
   },
   {
    "duration": 0,
    "start_time": "2024-12-29T15:32:06.912Z"
   },
   {
    "duration": 0,
    "start_time": "2024-12-29T15:32:06.914Z"
   },
   {
    "duration": 0,
    "start_time": "2024-12-29T15:32:06.915Z"
   },
   {
    "duration": 0,
    "start_time": "2024-12-29T15:32:06.917Z"
   },
   {
    "duration": 0,
    "start_time": "2024-12-29T15:32:06.918Z"
   },
   {
    "duration": 0,
    "start_time": "2024-12-29T15:32:06.920Z"
   },
   {
    "duration": 0,
    "start_time": "2024-12-29T15:32:06.921Z"
   },
   {
    "duration": 0,
    "start_time": "2024-12-29T15:32:06.960Z"
   },
   {
    "duration": 0,
    "start_time": "2024-12-29T15:32:06.962Z"
   },
   {
    "duration": 0,
    "start_time": "2024-12-29T15:32:06.964Z"
   },
   {
    "duration": 0,
    "start_time": "2024-12-29T15:32:06.965Z"
   },
   {
    "duration": 0,
    "start_time": "2024-12-29T15:32:06.967Z"
   },
   {
    "duration": 0,
    "start_time": "2024-12-29T15:32:06.968Z"
   },
   {
    "duration": 0,
    "start_time": "2024-12-29T15:32:06.969Z"
   },
   {
    "duration": 0,
    "start_time": "2024-12-29T15:32:06.971Z"
   },
   {
    "duration": 0,
    "start_time": "2024-12-29T15:32:06.972Z"
   },
   {
    "duration": 0,
    "start_time": "2024-12-29T15:32:06.974Z"
   },
   {
    "duration": 0,
    "start_time": "2024-12-29T15:32:06.975Z"
   },
   {
    "duration": 0,
    "start_time": "2024-12-29T15:32:06.977Z"
   },
   {
    "duration": 0,
    "start_time": "2024-12-29T15:32:06.978Z"
   },
   {
    "duration": 0,
    "start_time": "2024-12-29T15:32:06.979Z"
   },
   {
    "duration": 0,
    "start_time": "2024-12-29T15:32:06.980Z"
   },
   {
    "duration": 0,
    "start_time": "2024-12-29T15:32:06.981Z"
   },
   {
    "duration": 0,
    "start_time": "2024-12-29T15:32:06.982Z"
   },
   {
    "duration": 0,
    "start_time": "2024-12-29T15:32:06.983Z"
   },
   {
    "duration": 0,
    "start_time": "2024-12-29T15:32:06.984Z"
   },
   {
    "duration": 0,
    "start_time": "2024-12-29T15:32:06.985Z"
   },
   {
    "duration": 0,
    "start_time": "2024-12-29T15:32:06.986Z"
   },
   {
    "duration": 0,
    "start_time": "2024-12-29T15:32:06.987Z"
   },
   {
    "duration": 0,
    "start_time": "2024-12-29T15:32:06.988Z"
   },
   {
    "duration": 3234,
    "start_time": "2024-12-29T15:34:58.090Z"
   },
   {
    "duration": 1221,
    "start_time": "2024-12-29T15:35:03.434Z"
   },
   {
    "duration": 20976,
    "start_time": "2024-12-29T15:35:06.154Z"
   },
   {
    "duration": 695,
    "start_time": "2024-12-29T15:36:36.007Z"
   },
   {
    "duration": 2816,
    "start_time": "2024-12-29T15:37:23.626Z"
   },
   {
    "duration": 1222,
    "start_time": "2024-12-29T15:37:27.725Z"
   },
   {
    "duration": 21258,
    "start_time": "2024-12-29T15:37:29.379Z"
   },
   {
    "duration": 2774,
    "start_time": "2024-12-29T15:39:07.609Z"
   },
   {
    "duration": 1214,
    "start_time": "2024-12-29T15:39:10.386Z"
   },
   {
    "duration": 13758,
    "start_time": "2024-12-29T15:39:11.603Z"
   },
   {
    "duration": 19044,
    "start_time": "2024-12-29T15:39:36.545Z"
   },
   {
    "duration": 724,
    "start_time": "2024-12-29T15:40:06.705Z"
   },
   {
    "duration": 2877,
    "start_time": "2024-12-29T15:40:55.243Z"
   },
   {
    "duration": 1242,
    "start_time": "2024-12-29T15:40:58.404Z"
   },
   {
    "duration": 22,
    "start_time": "2024-12-29T15:41:03.773Z"
   },
   {
    "duration": 8,
    "start_time": "2024-12-29T15:43:02.572Z"
   },
   {
    "duration": 1139,
    "start_time": "2024-12-29T15:43:07.629Z"
   },
   {
    "duration": 23,
    "start_time": "2024-12-29T15:43:15.451Z"
   },
   {
    "duration": 1879,
    "start_time": "2024-12-29T15:43:59.440Z"
   },
   {
    "duration": 2493,
    "start_time": "2024-12-29T15:44:49.733Z"
   },
   {
    "duration": 1186,
    "start_time": "2024-12-29T15:45:06.714Z"
   },
   {
    "duration": 48,
    "start_time": "2024-12-29T15:45:12.174Z"
   },
   {
    "duration": 10136,
    "start_time": "2024-12-29T15:46:07.490Z"
   },
   {
    "duration": 221,
    "start_time": "2024-12-29T15:46:22.272Z"
   },
   {
    "duration": 9057,
    "start_time": "2024-12-29T15:46:34.632Z"
   },
   {
    "duration": 442,
    "start_time": "2024-12-29T15:46:49.172Z"
   },
   {
    "duration": 2618,
    "start_time": "2024-12-29T15:47:13.633Z"
   },
   {
    "duration": 19,
    "start_time": "2024-12-29T15:47:20.988Z"
   },
   {
    "duration": 1215,
    "start_time": "2024-12-29T15:48:02.269Z"
   },
   {
    "duration": 1858,
    "start_time": "2024-12-29T15:48:11.839Z"
   },
   {
    "duration": 2692,
    "start_time": "2024-12-29T15:48:41.898Z"
   },
   {
    "duration": 2520,
    "start_time": "2024-12-29T15:49:45.608Z"
   },
   {
    "duration": 1198,
    "start_time": "2024-12-29T15:49:57.513Z"
   },
   {
    "duration": 27670,
    "start_time": "2024-12-29T15:50:13.473Z"
   },
   {
    "duration": 21,
    "start_time": "2024-12-29T15:50:48.484Z"
   },
   {
    "duration": 8500,
    "start_time": "2024-12-29T15:51:54.576Z"
   },
   {
    "duration": 19,
    "start_time": "2024-12-29T15:52:08.069Z"
   },
   {
    "duration": 684,
    "start_time": "2024-12-29T15:52:56.845Z"
   },
   {
    "duration": 3,
    "start_time": "2024-12-29T15:53:18.864Z"
   },
   {
    "duration": 2,
    "start_time": "2024-12-29T15:53:26.872Z"
   },
   {
    "duration": 592,
    "start_time": "2024-12-29T15:53:39.135Z"
   },
   {
    "duration": 3,
    "start_time": "2024-12-29T15:55:13.869Z"
   },
   {
    "duration": 408,
    "start_time": "2024-12-29T15:55:21.372Z"
   },
   {
    "duration": 85,
    "start_time": "2024-12-29T15:55:54.673Z"
   },
   {
    "duration": 175,
    "start_time": "2024-12-29T15:56:35.801Z"
   },
   {
    "duration": 2176,
    "start_time": "2024-12-29T15:57:57.330Z"
   },
   {
    "duration": 3,
    "start_time": "2024-12-29T15:57:59.561Z"
   },
   {
    "duration": 126,
    "start_time": "2024-12-29T15:57:59.566Z"
   },
   {
    "duration": 267,
    "start_time": "2024-12-29T15:57:59.694Z"
   },
   {
    "duration": 7,
    "start_time": "2024-12-29T15:57:59.962Z"
   },
   {
    "duration": 19,
    "start_time": "2024-12-29T15:57:59.970Z"
   },
   {
    "duration": 68,
    "start_time": "2024-12-29T15:57:59.991Z"
   },
   {
    "duration": 7,
    "start_time": "2024-12-29T15:58:00.062Z"
   },
   {
    "duration": 578,
    "start_time": "2024-12-29T15:58:00.071Z"
   },
   {
    "duration": 16,
    "start_time": "2024-12-29T15:58:00.652Z"
   },
   {
    "duration": 19,
    "start_time": "2024-12-29T15:58:00.670Z"
   },
   {
    "duration": 17,
    "start_time": "2024-12-29T15:58:00.691Z"
   },
   {
    "duration": 16,
    "start_time": "2024-12-29T15:58:00.710Z"
   },
   {
    "duration": 244,
    "start_time": "2024-12-29T15:58:00.728Z"
   },
   {
    "duration": 225,
    "start_time": "2024-12-29T15:58:00.974Z"
   },
   {
    "duration": 241,
    "start_time": "2024-12-29T15:58:01.201Z"
   },
   {
    "duration": 241,
    "start_time": "2024-12-29T15:58:01.444Z"
   },
   {
    "duration": 275,
    "start_time": "2024-12-29T15:58:01.687Z"
   },
   {
    "duration": 4,
    "start_time": "2024-12-29T15:58:01.963Z"
   },
   {
    "duration": 37,
    "start_time": "2024-12-29T15:58:01.969Z"
   },
   {
    "duration": 146,
    "start_time": "2024-12-29T15:58:02.008Z"
   },
   {
    "duration": 0,
    "start_time": "2024-12-29T15:58:02.160Z"
   },
   {
    "duration": 0,
    "start_time": "2024-12-29T15:58:02.161Z"
   },
   {
    "duration": 0,
    "start_time": "2024-12-29T15:58:02.163Z"
   },
   {
    "duration": 0,
    "start_time": "2024-12-29T15:58:02.164Z"
   },
   {
    "duration": 0,
    "start_time": "2024-12-29T15:58:02.166Z"
   },
   {
    "duration": 0,
    "start_time": "2024-12-29T15:58:02.167Z"
   },
   {
    "duration": 0,
    "start_time": "2024-12-29T15:58:02.168Z"
   },
   {
    "duration": 0,
    "start_time": "2024-12-29T15:58:02.169Z"
   },
   {
    "duration": 0,
    "start_time": "2024-12-29T15:58:02.170Z"
   },
   {
    "duration": 0,
    "start_time": "2024-12-29T15:58:02.171Z"
   },
   {
    "duration": 0,
    "start_time": "2024-12-29T15:58:02.172Z"
   },
   {
    "duration": 0,
    "start_time": "2024-12-29T15:58:02.173Z"
   },
   {
    "duration": 0,
    "start_time": "2024-12-29T15:58:02.174Z"
   },
   {
    "duration": 0,
    "start_time": "2024-12-29T15:58:02.176Z"
   },
   {
    "duration": 0,
    "start_time": "2024-12-29T15:58:02.177Z"
   },
   {
    "duration": 0,
    "start_time": "2024-12-29T15:58:02.178Z"
   },
   {
    "duration": 4,
    "start_time": "2024-12-29T15:58:39.306Z"
   },
   {
    "duration": 22,
    "start_time": "2024-12-29T15:58:39.731Z"
   },
   {
    "duration": 202,
    "start_time": "2024-12-29T15:58:41.035Z"
   },
   {
    "duration": 5,
    "start_time": "2024-12-29T15:58:44.204Z"
   },
   {
    "duration": 7,
    "start_time": "2024-12-29T15:58:47.999Z"
   },
   {
    "duration": 9,
    "start_time": "2024-12-29T15:58:49.989Z"
   },
   {
    "duration": 4,
    "start_time": "2024-12-29T15:58:52.867Z"
   },
   {
    "duration": 52798,
    "start_time": "2024-12-29T15:58:56.274Z"
   },
   {
    "duration": 952,
    "start_time": "2024-12-29T16:01:27.820Z"
   },
   {
    "duration": 9,
    "start_time": "2024-12-29T16:01:55.476Z"
   },
   {
    "duration": 13,
    "start_time": "2024-12-29T16:03:12.528Z"
   },
   {
    "duration": 436,
    "start_time": "2024-12-29T16:03:13.082Z"
   },
   {
    "duration": 175,
    "start_time": "2024-12-29T16:03:17.953Z"
   },
   {
    "duration": 145,
    "start_time": "2024-12-29T16:06:40.992Z"
   },
   {
    "duration": 155,
    "start_time": "2024-12-29T16:08:36.158Z"
   },
   {
    "duration": 1841,
    "start_time": "2024-12-29T16:08:45.987Z"
   },
   {
    "duration": 3,
    "start_time": "2024-12-29T16:08:47.831Z"
   },
   {
    "duration": 131,
    "start_time": "2024-12-29T16:08:47.836Z"
   },
   {
    "duration": 123,
    "start_time": "2024-12-29T16:08:47.971Z"
   },
   {
    "duration": 7,
    "start_time": "2024-12-29T16:08:48.096Z"
   },
   {
    "duration": 11,
    "start_time": "2024-12-29T16:08:48.105Z"
   },
   {
    "duration": 42,
    "start_time": "2024-12-29T16:08:48.119Z"
   },
   {
    "duration": 11,
    "start_time": "2024-12-29T16:08:48.162Z"
   },
   {
    "duration": 440,
    "start_time": "2024-12-29T16:08:48.175Z"
   },
   {
    "duration": 11,
    "start_time": "2024-12-29T16:08:48.617Z"
   },
   {
    "duration": 36,
    "start_time": "2024-12-29T16:08:48.629Z"
   },
   {
    "duration": 18,
    "start_time": "2024-12-29T16:08:48.667Z"
   },
   {
    "duration": 15,
    "start_time": "2024-12-29T16:08:48.687Z"
   },
   {
    "duration": 258,
    "start_time": "2024-12-29T16:08:48.704Z"
   },
   {
    "duration": 231,
    "start_time": "2024-12-29T16:08:48.963Z"
   },
   {
    "duration": 235,
    "start_time": "2024-12-29T16:08:49.195Z"
   },
   {
    "duration": 231,
    "start_time": "2024-12-29T16:08:49.432Z"
   },
   {
    "duration": 262,
    "start_time": "2024-12-29T16:08:49.665Z"
   },
   {
    "duration": 4,
    "start_time": "2024-12-29T16:08:49.929Z"
   },
   {
    "duration": 45,
    "start_time": "2024-12-29T16:08:49.935Z"
   },
   {
    "duration": 224,
    "start_time": "2024-12-29T16:08:49.982Z"
   },
   {
    "duration": 6,
    "start_time": "2024-12-29T16:08:50.209Z"
   },
   {
    "duration": 21,
    "start_time": "2024-12-29T16:08:50.217Z"
   },
   {
    "duration": 34,
    "start_time": "2024-12-29T16:08:50.240Z"
   },
   {
    "duration": 25,
    "start_time": "2024-12-29T16:08:50.276Z"
   },
   {
    "duration": 127460,
    "start_time": "2024-12-29T16:08:50.303Z"
   },
   {
    "duration": 1104,
    "start_time": "2024-12-29T16:10:57.765Z"
   },
   {
    "duration": 91,
    "start_time": "2024-12-29T16:10:58.873Z"
   },
   {
    "duration": 16,
    "start_time": "2024-12-29T16:10:58.966Z"
   },
   {
    "duration": 521,
    "start_time": "2024-12-29T16:10:58.984Z"
   },
   {
    "duration": 297,
    "start_time": "2024-12-29T16:10:59.508Z"
   },
   {
    "duration": 152,
    "start_time": "2024-12-29T16:12:26.399Z"
   },
   {
    "duration": 10,
    "start_time": "2024-12-29T16:14:13.460Z"
   },
   {
    "duration": 424,
    "start_time": "2024-12-29T16:14:16.026Z"
   },
   {
    "duration": 137,
    "start_time": "2024-12-29T16:14:20.295Z"
   },
   {
    "duration": 21,
    "start_time": "2024-12-29T16:14:46.074Z"
   },
   {
    "duration": 448,
    "start_time": "2024-12-29T16:14:47.302Z"
   },
   {
    "duration": 144,
    "start_time": "2024-12-29T16:14:51.903Z"
   },
   {
    "duration": 271,
    "start_time": "2024-12-29T16:15:30.184Z"
   },
   {
    "duration": 20,
    "start_time": "2024-12-29T16:15:44.051Z"
   },
   {
    "duration": 16,
    "start_time": "2024-12-29T16:17:48.469Z"
   },
   {
    "duration": 9,
    "start_time": "2024-12-29T16:17:57.257Z"
   },
   {
    "duration": 446,
    "start_time": "2024-12-29T16:18:07.705Z"
   },
   {
    "duration": 14,
    "start_time": "2024-12-29T16:18:25.981Z"
   },
   {
    "duration": 221,
    "start_time": "2024-12-29T16:18:58.102Z"
   },
   {
    "duration": 360,
    "start_time": "2024-12-29T16:19:12.248Z"
   },
   {
    "duration": 308,
    "start_time": "2024-12-29T16:19:59.075Z"
   },
   {
    "duration": 1772,
    "start_time": "2024-12-29T16:20:22.781Z"
   },
   {
    "duration": 3,
    "start_time": "2024-12-29T16:20:24.556Z"
   },
   {
    "duration": 101,
    "start_time": "2024-12-29T16:20:24.561Z"
   },
   {
    "duration": 122,
    "start_time": "2024-12-29T16:20:24.665Z"
   },
   {
    "duration": 7,
    "start_time": "2024-12-29T16:20:24.789Z"
   },
   {
    "duration": 16,
    "start_time": "2024-12-29T16:20:24.798Z"
   },
   {
    "duration": 13,
    "start_time": "2024-12-29T16:20:24.816Z"
   },
   {
    "duration": 29,
    "start_time": "2024-12-29T16:20:24.831Z"
   },
   {
    "duration": 440,
    "start_time": "2024-12-29T16:20:24.862Z"
   },
   {
    "duration": 12,
    "start_time": "2024-12-29T16:20:25.305Z"
   },
   {
    "duration": 11,
    "start_time": "2024-12-29T16:20:25.318Z"
   },
   {
    "duration": 19,
    "start_time": "2024-12-29T16:20:25.331Z"
   },
   {
    "duration": 10,
    "start_time": "2024-12-29T16:20:25.359Z"
   },
   {
    "duration": 268,
    "start_time": "2024-12-29T16:20:25.371Z"
   },
   {
    "duration": 231,
    "start_time": "2024-12-29T16:20:25.641Z"
   },
   {
    "duration": 244,
    "start_time": "2024-12-29T16:20:25.873Z"
   },
   {
    "duration": 244,
    "start_time": "2024-12-29T16:20:26.119Z"
   },
   {
    "duration": 270,
    "start_time": "2024-12-29T16:20:26.365Z"
   },
   {
    "duration": 6,
    "start_time": "2024-12-29T16:20:26.636Z"
   },
   {
    "duration": 31,
    "start_time": "2024-12-29T16:20:26.644Z"
   },
   {
    "duration": 212,
    "start_time": "2024-12-29T16:20:26.677Z"
   },
   {
    "duration": 6,
    "start_time": "2024-12-29T16:20:26.892Z"
   },
   {
    "duration": 10,
    "start_time": "2024-12-29T16:20:26.900Z"
   },
   {
    "duration": 11,
    "start_time": "2024-12-29T16:20:26.912Z"
   },
   {
    "duration": 35,
    "start_time": "2024-12-29T16:20:26.925Z"
   },
   {
    "duration": 55814,
    "start_time": "2024-12-29T16:20:26.962Z"
   },
   {
    "duration": 1385,
    "start_time": "2024-12-29T16:21:22.778Z"
   },
   {
    "duration": 8,
    "start_time": "2024-12-29T16:21:24.167Z"
   },
   {
    "duration": 83,
    "start_time": "2024-12-29T16:21:24.177Z"
   },
   {
    "duration": 446,
    "start_time": "2024-12-29T16:21:24.262Z"
   },
   {
    "duration": 342,
    "start_time": "2024-12-29T16:21:24.710Z"
   }
  ],
  "kernelspec": {
   "display_name": "Python 3 (ipykernel)",
   "language": "python",
   "name": "python3"
  },
  "language_info": {
   "codemirror_mode": {
    "name": "ipython",
    "version": 3
   },
   "file_extension": ".py",
   "mimetype": "text/x-python",
   "name": "python",
   "nbconvert_exporter": "python",
   "pygments_lexer": "ipython3",
   "version": "3.9.5"
  },
  "toc": {
   "base_numbering": 1,
   "nav_menu": {
    "height": "132px",
    "width": "298px"
   },
   "number_sections": true,
   "sideBar": true,
   "skip_h1_title": true,
   "title_cell": "Содержание",
   "title_sidebar": "Contents",
   "toc_cell": true,
   "toc_position": {
    "height": "calc(100% - 180px)",
    "left": "10px",
    "top": "150px",
    "width": "246.391px"
   },
   "toc_section_display": true,
   "toc_window_display": true
  }
 },
 "nbformat": 4,
 "nbformat_minor": 2
}
